{
 "cells": [
  {
   "cell_type": "markdown",
   "id": "0560e6b9",
   "metadata": {},
   "source": [
    "# Unsupervised Machine Learning \n",
    "\n",
    "**Logistic Regression**\n",
    "1. Importing libraries\n",
    "2. Data cleaning \n",
    "3. Checking variables\n",
    "    1. Investigating categorical variables\n",
    "    2. Investigating continous variables\n",
    "            A. Length of service\n",
    "            B. Age\n",
    "4. Scatterplot\n",
    "5. Splitting data into independent (X) and dependent (y) variables on *age* \n",
    "6. Feature scaling\n",
    "7. Splitting the dataset into train and test sets\n",
    "8. Fitting the logistic regression model and predicting test results\n",
    "9. Evaluating the model\n",
    "\n",
    "**Linear Regression**\n",
    "1. Scatterplot\n",
    "2. Reshaping the variables\n",
    "3. Splitting data into test and train \n",
    "5. Fitting the logistic regression model and predicting test results\n",
    "6. Evaluating the model"
   ]
  },
  {
   "cell_type": "markdown",
   "id": "a1db7697",
   "metadata": {},
   "source": [
    "# Logistic Regression"
   ]
  },
  {
   "cell_type": "markdown",
   "id": "110f4176",
   "metadata": {},
   "source": [
    "The overall aim with this analysis is to understand whether there are variables which could help predict attrition. Given that the dependent variable, *employment status* is categorical, I will initially be using logistic regression to analyse the data. "
   ]
  },
  {
   "cell_type": "markdown",
   "id": "d3b45e44",
   "metadata": {},
   "source": [
    "### 1. Importing libraries and datasets"
   ]
  },
  {
   "cell_type": "code",
   "execution_count": 1,
   "id": "5088c198",
   "metadata": {},
   "outputs": [],
   "source": [
    "import pandas as pd\n",
    "import numpy as np\n",
    "import seaborn as sns\n",
    "import matplotlib\n",
    "import matplotlib.pyplot as plt\n",
    "import os\n",
    "import sklearn\n",
    "from sklearn.model_selection import train_test_split \n",
    "from sklearn.linear_model import LogisticRegression\n",
    "from sklearn.linear_model import LinearRegression\n",
    "from sklearn.metrics import mean_squared_error, r2_score\n",
    "from sklearn.metrics import confusion_matrix, classification_report\n",
    "from sklearn.preprocessing import StandardScaler\n",
    "from sklearn.model_selection import train_test_split\n",
    "from sklearn.metrics import confusion_matrix"
   ]
  },
  {
   "cell_type": "code",
   "execution_count": 2,
   "id": "3b0b0d4d",
   "metadata": {},
   "outputs": [],
   "source": [
    "#ensuring graphs created are displayed within the notebook without the need to \"call\" them specifically.\n",
    "%matplotlib inline"
   ]
  },
  {
   "cell_type": "code",
   "execution_count": 3,
   "id": "60ef6843",
   "metadata": {},
   "outputs": [],
   "source": [
    "#creating path\n",
    "path = r'C:\\Users\\rutha\\CareerFoundry\\04-23_EmployeeAttrition\\02_Data'"
   ]
  },
  {
   "cell_type": "code",
   "execution_count": 4,
   "id": "fddd9632",
   "metadata": {},
   "outputs": [],
   "source": [
    "#import data set\n",
    "df = pd.read_csv(os.path.join(path, 'Prepared_data', 'encoded_data.csv'), index_col=False)"
   ]
  },
  {
   "cell_type": "code",
   "execution_count": 5,
   "id": "a8654394",
   "metadata": {},
   "outputs": [
    {
     "data": {
      "text/html": [
       "<div>\n",
       "<style scoped>\n",
       "    .dataframe tbody tr th:only-of-type {\n",
       "        vertical-align: middle;\n",
       "    }\n",
       "\n",
       "    .dataframe tbody tr th {\n",
       "        vertical-align: top;\n",
       "    }\n",
       "\n",
       "    .dataframe thead th {\n",
       "        text-align: right;\n",
       "    }\n",
       "</style>\n",
       "<table border=\"1\" class=\"dataframe\">\n",
       "  <thead>\n",
       "    <tr style=\"text-align: right;\">\n",
       "      <th></th>\n",
       "      <th>Unnamed: 0</th>\n",
       "      <th>country</th>\n",
       "      <th>department_name</th>\n",
       "      <th>terminationdate_key</th>\n",
       "      <th>age</th>\n",
       "      <th>length_of_service</th>\n",
       "      <th>job_title</th>\n",
       "      <th>store_number</th>\n",
       "      <th>year_of_record</th>\n",
       "      <th>population</th>\n",
       "      <th>...</th>\n",
       "      <th>large_country</th>\n",
       "      <th>medium_country</th>\n",
       "      <th>small_country</th>\n",
       "      <th>c_suite</th>\n",
       "      <th>associate</th>\n",
       "      <th>director</th>\n",
       "      <th>manager</th>\n",
       "      <th>older_adults</th>\n",
       "      <th>mid_adults</th>\n",
       "      <th>young_adults</th>\n",
       "    </tr>\n",
       "  </thead>\n",
       "  <tbody>\n",
       "    <tr>\n",
       "      <th>0</th>\n",
       "      <td>0</td>\n",
       "      <td>Germany</td>\n",
       "      <td>Executive</td>\n",
       "      <td>01/01/1900</td>\n",
       "      <td>52</td>\n",
       "      <td>17</td>\n",
       "      <td>CEO</td>\n",
       "      <td>35</td>\n",
       "      <td>2006</td>\n",
       "      <td>83783942</td>\n",
       "      <td>...</td>\n",
       "      <td>1.0</td>\n",
       "      <td>0.0</td>\n",
       "      <td>0.0</td>\n",
       "      <td>0.0</td>\n",
       "      <td>1.0</td>\n",
       "      <td>0.0</td>\n",
       "      <td>0.0</td>\n",
       "      <td>0.0</td>\n",
       "      <td>1.0</td>\n",
       "      <td>0.0</td>\n",
       "    </tr>\n",
       "    <tr>\n",
       "      <th>1</th>\n",
       "      <td>1</td>\n",
       "      <td>Germany</td>\n",
       "      <td>Executive</td>\n",
       "      <td>01/01/1900</td>\n",
       "      <td>53</td>\n",
       "      <td>18</td>\n",
       "      <td>CEO</td>\n",
       "      <td>35</td>\n",
       "      <td>2007</td>\n",
       "      <td>83783942</td>\n",
       "      <td>...</td>\n",
       "      <td>1.0</td>\n",
       "      <td>0.0</td>\n",
       "      <td>0.0</td>\n",
       "      <td>0.0</td>\n",
       "      <td>1.0</td>\n",
       "      <td>0.0</td>\n",
       "      <td>0.0</td>\n",
       "      <td>0.0</td>\n",
       "      <td>1.0</td>\n",
       "      <td>0.0</td>\n",
       "    </tr>\n",
       "    <tr>\n",
       "      <th>2</th>\n",
       "      <td>2</td>\n",
       "      <td>Germany</td>\n",
       "      <td>Executive</td>\n",
       "      <td>01/01/1900</td>\n",
       "      <td>54</td>\n",
       "      <td>19</td>\n",
       "      <td>CEO</td>\n",
       "      <td>35</td>\n",
       "      <td>2008</td>\n",
       "      <td>83783942</td>\n",
       "      <td>...</td>\n",
       "      <td>1.0</td>\n",
       "      <td>0.0</td>\n",
       "      <td>0.0</td>\n",
       "      <td>0.0</td>\n",
       "      <td>1.0</td>\n",
       "      <td>0.0</td>\n",
       "      <td>0.0</td>\n",
       "      <td>0.0</td>\n",
       "      <td>1.0</td>\n",
       "      <td>0.0</td>\n",
       "    </tr>\n",
       "    <tr>\n",
       "      <th>3</th>\n",
       "      <td>3</td>\n",
       "      <td>Germany</td>\n",
       "      <td>Executive</td>\n",
       "      <td>01/01/1900</td>\n",
       "      <td>55</td>\n",
       "      <td>20</td>\n",
       "      <td>CEO</td>\n",
       "      <td>35</td>\n",
       "      <td>2009</td>\n",
       "      <td>83783942</td>\n",
       "      <td>...</td>\n",
       "      <td>1.0</td>\n",
       "      <td>0.0</td>\n",
       "      <td>0.0</td>\n",
       "      <td>0.0</td>\n",
       "      <td>1.0</td>\n",
       "      <td>0.0</td>\n",
       "      <td>0.0</td>\n",
       "      <td>0.0</td>\n",
       "      <td>1.0</td>\n",
       "      <td>0.0</td>\n",
       "    </tr>\n",
       "    <tr>\n",
       "      <th>4</th>\n",
       "      <td>4</td>\n",
       "      <td>Germany</td>\n",
       "      <td>Executive</td>\n",
       "      <td>01/01/1900</td>\n",
       "      <td>56</td>\n",
       "      <td>21</td>\n",
       "      <td>CEO</td>\n",
       "      <td>35</td>\n",
       "      <td>2010</td>\n",
       "      <td>83783942</td>\n",
       "      <td>...</td>\n",
       "      <td>1.0</td>\n",
       "      <td>0.0</td>\n",
       "      <td>0.0</td>\n",
       "      <td>0.0</td>\n",
       "      <td>1.0</td>\n",
       "      <td>0.0</td>\n",
       "      <td>0.0</td>\n",
       "      <td>0.0</td>\n",
       "      <td>1.0</td>\n",
       "      <td>0.0</td>\n",
       "    </tr>\n",
       "  </tbody>\n",
       "</table>\n",
       "<p>5 rows × 37 columns</p>\n",
       "</div>"
      ],
      "text/plain": [
       "   Unnamed: 0  country department_name terminationdate_key  age  \\\n",
       "0           0  Germany       Executive          01/01/1900   52   \n",
       "1           1  Germany       Executive          01/01/1900   53   \n",
       "2           2  Germany       Executive          01/01/1900   54   \n",
       "3           3  Germany       Executive          01/01/1900   55   \n",
       "4           4  Germany       Executive          01/01/1900   56   \n",
       "\n",
       "   length_of_service job_title  store_number  year_of_record  population  ...  \\\n",
       "0                 17       CEO            35            2006    83783942  ...   \n",
       "1                 18       CEO            35            2007    83783942  ...   \n",
       "2                 19       CEO            35            2008    83783942  ...   \n",
       "3                 20       CEO            35            2009    83783942  ...   \n",
       "4                 21       CEO            35            2010    83783942  ...   \n",
       "\n",
       "  large_country medium_country small_country c_suite associate director  \\\n",
       "0           1.0            0.0           0.0     0.0       1.0      0.0   \n",
       "1           1.0            0.0           0.0     0.0       1.0      0.0   \n",
       "2           1.0            0.0           0.0     0.0       1.0      0.0   \n",
       "3           1.0            0.0           0.0     0.0       1.0      0.0   \n",
       "4           1.0            0.0           0.0     0.0       1.0      0.0   \n",
       "\n",
       "  manager  older_adults  mid_adults  young_adults  \n",
       "0     0.0           0.0         1.0           0.0  \n",
       "1     0.0           0.0         1.0           0.0  \n",
       "2     0.0           0.0         1.0           0.0  \n",
       "3     0.0           0.0         1.0           0.0  \n",
       "4     0.0           0.0         1.0           0.0  \n",
       "\n",
       "[5 rows x 37 columns]"
      ]
     },
     "execution_count": 5,
     "metadata": {},
     "output_type": "execute_result"
    }
   ],
   "source": [
    "#checking output\n",
    "df.head()"
   ]
  },
  {
   "cell_type": "code",
   "execution_count": 6,
   "id": "84803007",
   "metadata": {},
   "outputs": [],
   "source": [
    "#dropping index column\n",
    "df = df.drop(columns=['Unnamed: 0'])"
   ]
  },
  {
   "cell_type": "code",
   "execution_count": 7,
   "id": "0e877e5d",
   "metadata": {},
   "outputs": [
    {
     "data": {
      "text/html": [
       "<div>\n",
       "<style scoped>\n",
       "    .dataframe tbody tr th:only-of-type {\n",
       "        vertical-align: middle;\n",
       "    }\n",
       "\n",
       "    .dataframe tbody tr th {\n",
       "        vertical-align: top;\n",
       "    }\n",
       "\n",
       "    .dataframe thead th {\n",
       "        text-align: right;\n",
       "    }\n",
       "</style>\n",
       "<table border=\"1\" class=\"dataframe\">\n",
       "  <thead>\n",
       "    <tr style=\"text-align: right;\">\n",
       "      <th></th>\n",
       "      <th>country</th>\n",
       "      <th>department_name</th>\n",
       "      <th>terminationdate_key</th>\n",
       "      <th>age</th>\n",
       "      <th>length_of_service</th>\n",
       "      <th>job_title</th>\n",
       "      <th>store_number</th>\n",
       "      <th>year_of_record</th>\n",
       "      <th>population</th>\n",
       "      <th>pop_flag</th>\n",
       "      <th>...</th>\n",
       "      <th>large_country</th>\n",
       "      <th>medium_country</th>\n",
       "      <th>small_country</th>\n",
       "      <th>c_suite</th>\n",
       "      <th>associate</th>\n",
       "      <th>director</th>\n",
       "      <th>manager</th>\n",
       "      <th>older_adults</th>\n",
       "      <th>mid_adults</th>\n",
       "      <th>young_adults</th>\n",
       "    </tr>\n",
       "  </thead>\n",
       "  <tbody>\n",
       "    <tr>\n",
       "      <th>0</th>\n",
       "      <td>Germany</td>\n",
       "      <td>Executive</td>\n",
       "      <td>01/01/1900</td>\n",
       "      <td>52</td>\n",
       "      <td>17</td>\n",
       "      <td>CEO</td>\n",
       "      <td>35</td>\n",
       "      <td>2006</td>\n",
       "      <td>83783942</td>\n",
       "      <td>large_country</td>\n",
       "      <td>...</td>\n",
       "      <td>1.0</td>\n",
       "      <td>0.0</td>\n",
       "      <td>0.0</td>\n",
       "      <td>0.0</td>\n",
       "      <td>1.0</td>\n",
       "      <td>0.0</td>\n",
       "      <td>0.0</td>\n",
       "      <td>0.0</td>\n",
       "      <td>1.0</td>\n",
       "      <td>0.0</td>\n",
       "    </tr>\n",
       "    <tr>\n",
       "      <th>1</th>\n",
       "      <td>Germany</td>\n",
       "      <td>Executive</td>\n",
       "      <td>01/01/1900</td>\n",
       "      <td>53</td>\n",
       "      <td>18</td>\n",
       "      <td>CEO</td>\n",
       "      <td>35</td>\n",
       "      <td>2007</td>\n",
       "      <td>83783942</td>\n",
       "      <td>large_country</td>\n",
       "      <td>...</td>\n",
       "      <td>1.0</td>\n",
       "      <td>0.0</td>\n",
       "      <td>0.0</td>\n",
       "      <td>0.0</td>\n",
       "      <td>1.0</td>\n",
       "      <td>0.0</td>\n",
       "      <td>0.0</td>\n",
       "      <td>0.0</td>\n",
       "      <td>1.0</td>\n",
       "      <td>0.0</td>\n",
       "    </tr>\n",
       "    <tr>\n",
       "      <th>2</th>\n",
       "      <td>Germany</td>\n",
       "      <td>Executive</td>\n",
       "      <td>01/01/1900</td>\n",
       "      <td>54</td>\n",
       "      <td>19</td>\n",
       "      <td>CEO</td>\n",
       "      <td>35</td>\n",
       "      <td>2008</td>\n",
       "      <td>83783942</td>\n",
       "      <td>large_country</td>\n",
       "      <td>...</td>\n",
       "      <td>1.0</td>\n",
       "      <td>0.0</td>\n",
       "      <td>0.0</td>\n",
       "      <td>0.0</td>\n",
       "      <td>1.0</td>\n",
       "      <td>0.0</td>\n",
       "      <td>0.0</td>\n",
       "      <td>0.0</td>\n",
       "      <td>1.0</td>\n",
       "      <td>0.0</td>\n",
       "    </tr>\n",
       "    <tr>\n",
       "      <th>3</th>\n",
       "      <td>Germany</td>\n",
       "      <td>Executive</td>\n",
       "      <td>01/01/1900</td>\n",
       "      <td>55</td>\n",
       "      <td>20</td>\n",
       "      <td>CEO</td>\n",
       "      <td>35</td>\n",
       "      <td>2009</td>\n",
       "      <td>83783942</td>\n",
       "      <td>large_country</td>\n",
       "      <td>...</td>\n",
       "      <td>1.0</td>\n",
       "      <td>0.0</td>\n",
       "      <td>0.0</td>\n",
       "      <td>0.0</td>\n",
       "      <td>1.0</td>\n",
       "      <td>0.0</td>\n",
       "      <td>0.0</td>\n",
       "      <td>0.0</td>\n",
       "      <td>1.0</td>\n",
       "      <td>0.0</td>\n",
       "    </tr>\n",
       "    <tr>\n",
       "      <th>4</th>\n",
       "      <td>Germany</td>\n",
       "      <td>Executive</td>\n",
       "      <td>01/01/1900</td>\n",
       "      <td>56</td>\n",
       "      <td>21</td>\n",
       "      <td>CEO</td>\n",
       "      <td>35</td>\n",
       "      <td>2010</td>\n",
       "      <td>83783942</td>\n",
       "      <td>large_country</td>\n",
       "      <td>...</td>\n",
       "      <td>1.0</td>\n",
       "      <td>0.0</td>\n",
       "      <td>0.0</td>\n",
       "      <td>0.0</td>\n",
       "      <td>1.0</td>\n",
       "      <td>0.0</td>\n",
       "      <td>0.0</td>\n",
       "      <td>0.0</td>\n",
       "      <td>1.0</td>\n",
       "      <td>0.0</td>\n",
       "    </tr>\n",
       "  </tbody>\n",
       "</table>\n",
       "<p>5 rows × 36 columns</p>\n",
       "</div>"
      ],
      "text/plain": [
       "   country department_name terminationdate_key  age  length_of_service  \\\n",
       "0  Germany       Executive          01/01/1900   52                 17   \n",
       "1  Germany       Executive          01/01/1900   53                 18   \n",
       "2  Germany       Executive          01/01/1900   54                 19   \n",
       "3  Germany       Executive          01/01/1900   55                 20   \n",
       "4  Germany       Executive          01/01/1900   56                 21   \n",
       "\n",
       "  job_title  store_number  year_of_record  population       pop_flag  ...  \\\n",
       "0       CEO            35            2006    83783942  large_country  ...   \n",
       "1       CEO            35            2007    83783942  large_country  ...   \n",
       "2       CEO            35            2008    83783942  large_country  ...   \n",
       "3       CEO            35            2009    83783942  large_country  ...   \n",
       "4       CEO            35            2010    83783942  large_country  ...   \n",
       "\n",
       "  large_country medium_country small_country c_suite associate director  \\\n",
       "0           1.0            0.0           0.0     0.0       1.0      0.0   \n",
       "1           1.0            0.0           0.0     0.0       1.0      0.0   \n",
       "2           1.0            0.0           0.0     0.0       1.0      0.0   \n",
       "3           1.0            0.0           0.0     0.0       1.0      0.0   \n",
       "4           1.0            0.0           0.0     0.0       1.0      0.0   \n",
       "\n",
       "   manager  older_adults  mid_adults  young_adults  \n",
       "0      0.0           0.0         1.0           0.0  \n",
       "1      0.0           0.0         1.0           0.0  \n",
       "2      0.0           0.0         1.0           0.0  \n",
       "3      0.0           0.0         1.0           0.0  \n",
       "4      0.0           0.0         1.0           0.0  \n",
       "\n",
       "[5 rows x 36 columns]"
      ]
     },
     "execution_count": 7,
     "metadata": {},
     "output_type": "execute_result"
    }
   ],
   "source": [
    "#checking output\n",
    "df.head()"
   ]
  },
  {
   "cell_type": "code",
   "execution_count": 8,
   "id": "6a7e7f79",
   "metadata": {},
   "outputs": [
    {
     "data": {
      "text/plain": [
       "(49644, 36)"
      ]
     },
     "execution_count": 8,
     "metadata": {},
     "output_type": "execute_result"
    }
   ],
   "source": [
    "df.shape"
   ]
  },
  {
   "cell_type": "markdown",
   "id": "d52cf154",
   "metadata": {},
   "source": [
    "### 2. Data Cleaning"
   ]
  },
  {
   "cell_type": "code",
   "execution_count": 9,
   "id": "6957c847",
   "metadata": {},
   "outputs": [
    {
     "data": {
      "text/plain": [
       "Index(['country', 'department_name', 'terminationdate_key', 'age',\n",
       "       'length_of_service', 'job_title', 'store_number', 'year_of_record',\n",
       "       'population', 'pop_flag', 'gender', 'seniority', 'age_flag',\n",
       "       'termreason_desc', 'termtype_desc', 'business_unit', 'gender.1',\n",
       "       'employment_status', 'business_unit.1', 'Not Applicable', 'Retirement',\n",
       "       'Resignaton', 'Layoff', 'Not Applicable.1', 'Voluntary', 'Involuntary',\n",
       "       'large_country', 'medium_country', 'small_country', 'c_suite',\n",
       "       'associate', 'director', 'manager', 'older_adults', 'mid_adults',\n",
       "       'young_adults'],\n",
       "      dtype='object')"
      ]
     },
     "execution_count": 9,
     "metadata": {},
     "output_type": "execute_result"
    }
   ],
   "source": [
    "df.columns"
   ]
  },
  {
   "cell_type": "markdown",
   "id": "ed5aab38",
   "metadata": {},
   "source": [
    "##### Missing values check"
   ]
  },
  {
   "cell_type": "code",
   "execution_count": 10,
   "id": "7a25d4a9",
   "metadata": {},
   "outputs": [
    {
     "data": {
      "text/plain": [
       "country                0\n",
       "department_name        0\n",
       "terminationdate_key    0\n",
       "age                    0\n",
       "length_of_service      0\n",
       "job_title              0\n",
       "store_number           0\n",
       "year_of_record         0\n",
       "population             0\n",
       "pop_flag               0\n",
       "gender                 0\n",
       "seniority              0\n",
       "age_flag               0\n",
       "termreason_desc        0\n",
       "termtype_desc          0\n",
       "business_unit          0\n",
       "gender.1               0\n",
       "employment_status      0\n",
       "business_unit.1        0\n",
       "Not Applicable         0\n",
       "Retirement             0\n",
       "Resignaton             0\n",
       "Layoff                 0\n",
       "Not Applicable.1       0\n",
       "Voluntary              0\n",
       "Involuntary            0\n",
       "large_country          0\n",
       "medium_country         0\n",
       "small_country          0\n",
       "c_suite                0\n",
       "associate              0\n",
       "director               0\n",
       "manager                0\n",
       "older_adults           0\n",
       "mid_adults             0\n",
       "young_adults           0\n",
       "dtype: int64"
      ]
     },
     "execution_count": 10,
     "metadata": {},
     "output_type": "execute_result"
    }
   ],
   "source": [
    "#checking for missing values\n",
    "df.isnull().sum()"
   ]
  },
  {
   "cell_type": "markdown",
   "id": "86c14f6d",
   "metadata": {},
   "source": [
    "**Observations:** No missing values observed"
   ]
  },
  {
   "cell_type": "markdown",
   "id": "73d55a9a",
   "metadata": {},
   "source": [
    "##### Duplicate values check "
   ]
  },
  {
   "cell_type": "code",
   "execution_count": 11,
   "id": "836e240a",
   "metadata": {},
   "outputs": [],
   "source": [
    "#checking for duplicate\n",
    "dups = df.duplicated()"
   ]
  },
  {
   "cell_type": "code",
   "execution_count": 12,
   "id": "940257b2",
   "metadata": {},
   "outputs": [
    {
     "data": {
      "text/plain": [
       "(49644,)"
      ]
     },
     "execution_count": 12,
     "metadata": {},
     "output_type": "execute_result"
    }
   ],
   "source": [
    "dups.shape"
   ]
  },
  {
   "cell_type": "markdown",
   "id": "1354781b",
   "metadata": {},
   "source": [
    "**Observations:** No duplicate values observed"
   ]
  },
  {
   "cell_type": "markdown",
   "id": "5262fa1e",
   "metadata": {},
   "source": [
    "### A. Investigating a selection of variables needed for our analyses"
   ]
  },
  {
   "cell_type": "markdown",
   "id": "d38def26",
   "metadata": {},
   "source": [
    "Checking that are variables are as expected, with no obvious outliers. "
   ]
  },
  {
   "cell_type": "markdown",
   "id": "aab8a68c",
   "metadata": {},
   "source": [
    "###### Independent Variable: employment status"
   ]
  },
  {
   "cell_type": "code",
   "execution_count": 13,
   "id": "ee4c2d58",
   "metadata": {},
   "outputs": [
    {
     "data": {
      "text/plain": [
       "<AxesSubplot:xlabel='employment_status', ylabel='count'>"
      ]
     },
     "execution_count": 13,
     "metadata": {},
     "output_type": "execute_result"
    },
    {
     "data": {
      "image/png": "[encoded data removed]",
      "text/plain": [
       "<Figure size 640x480 with 1 Axes>"
      ]
     },
     "metadata": {},
     "output_type": "display_data"
    }
   ],
   "source": [
    "sns.countplot(x='employment_status', data=df)"
   ]
  },
  {
   "cell_type": "markdown",
   "id": "946fe6d1",
   "metadata": {},
   "source": [
    "**Observations:** as observed in the data cleaning and preparation stage of this project, we have a very imbalanced independent variable.  97% of values in our indpendent variable fall into the *Active* or *0* value, and 3% fall into the *Terminated* or *1* value. "
   ]
  },
  {
   "cell_type": "markdown",
   "id": "f4d389ff",
   "metadata": {},
   "source": [
    "### B. Investigating Continuous Variables"
   ]
  },
  {
   "cell_type": "markdown",
   "id": "acb08d7a",
   "metadata": {},
   "source": [
    "##### 1. Independent variable: Length of Service"
   ]
  },
  {
   "cell_type": "code",
   "execution_count": 14,
   "id": "4e1b0017",
   "metadata": {},
   "outputs": [
    {
     "data": {
      "text/plain": [
       "<seaborn.axisgrid.FacetGrid at 0x174282ced30>"
      ]
     },
     "execution_count": 14,
     "metadata": {},
     "output_type": "execute_result"
    },
    {
     "data": {
      "image/png": "[encoded data removed]",
      "text/plain": [
       "<Figure size 500x500 with 1 Axes>"
      ]
     },
     "metadata": {},
     "output_type": "display_data"
    }
   ],
   "source": [
    "#checking the distribution of length of service\n",
    "sns.displot(x='length_of_service', data=df, color='red', kde='true')"
   ]
  },
  {
   "cell_type": "markdown",
   "id": "3218471c",
   "metadata": {},
   "source": [
    "**Observations:** A right-tailed distribution when looking at *length of service* is to be expected as employees move from company-to-company during their career, so we would expect to see a higher number of lower-count *lengths of service* compared to high-counts. "
   ]
  },
  {
   "cell_type": "markdown",
   "id": "3f241c3a",
   "metadata": {},
   "source": [
    "##### 2. Independent variable: Age "
   ]
  },
  {
   "cell_type": "code",
   "execution_count": 15,
   "id": "f85507c7",
   "metadata": {},
   "outputs": [
    {
     "data": {
      "text/plain": [
       "<seaborn.axisgrid.FacetGrid at 0x17429060400>"
      ]
     },
     "execution_count": 15,
     "metadata": {},
     "output_type": "execute_result"
    },
    {
     "data": {
      "image/png": "[encoded data removed]",
      "text/plain": [
       "<Figure size 500x500 with 1 Axes>"
      ]
     },
     "metadata": {},
     "output_type": "display_data"
    }
   ],
   "source": [
    "#checking the distribution of length of service\n",
    "sns.displot(x='age', data=df, color='blue', kde='true')"
   ]
  },
  {
   "cell_type": "markdown",
   "id": "60d5f8c3",
   "metadata": {},
   "source": [
    "**Observations:** as detailed previously, this is a fictional dataset created using fake data generators, R, and the application of randomised functions. I wouldn't typically expect to see such regular peaks in employee ages in a real dataset. Interestingly the trend line flattens between ages 27 and 60.  "
   ]
  },
  {
   "cell_type": "markdown",
   "id": "9c4b0535",
   "metadata": {},
   "source": [
    "### 4. Scatterplot"
   ]
  },
  {
   "cell_type": "markdown",
   "id": "592efbcf",
   "metadata": {},
   "source": [
    "Using scatterplots to visualise the relationship between our dependent and independent variables. "
   ]
  },
  {
   "cell_type": "code",
   "execution_count": 16,
   "id": "9526ddd9",
   "metadata": {},
   "outputs": [
    {
     "data": {
      "text/plain": [
       "<matplotlib.collections.PathCollection at 0x1742b0e8df0>"
      ]
     },
     "execution_count": 16,
     "metadata": {},
     "output_type": "execute_result"
    },
    {
     "data": {
      "image/png": "[encoded data removed]",
      "text/plain": [
       "<Figure size 640x480 with 1 Axes>"
      ]
     },
     "metadata": {},
     "output_type": "display_data"
    }
   ],
   "source": [
    "#plotting age and employment status\n",
    "plt.scatter(df.age,df.employment_status, marker='+', color='green')"
   ]
  },
  {
   "cell_type": "code",
   "execution_count": 17,
   "id": "fe75a396",
   "metadata": {},
   "outputs": [
    {
     "data": {
      "text/plain": [
       "<matplotlib.collections.PathCollection at 0x1742b281670>"
      ]
     },
     "execution_count": 17,
     "metadata": {},
     "output_type": "execute_result"
    },
    {
     "data": {
      "image/png": "[encoded data removed]",
      "text/plain": [
       "<Figure size 640x480 with 1 Axes>"
      ]
     },
     "metadata": {},
     "output_type": "display_data"
    }
   ],
   "source": [
    "#plotting age and length of service\n",
    "plt.scatter(df.length_of_service,df.employment_status, marker='+', color='green')"
   ]
  },
  {
   "cell_type": "markdown",
   "id": "b9527c10",
   "metadata": {},
   "source": [
    "**Observations:** this dataset contains over 49,664 rows which would usually be good for a scatterplot, however, since our dependent variable is catergorical a scatterplot won't be able to accurately display all values. \n",
    "\n",
    "What we can see in both charts are datapoints that are **bolder** than others, indicating a higher frequency count of that particular value. "
   ]
  },
  {
   "cell_type": "markdown",
   "id": "c42094f2",
   "metadata": {},
   "source": [
    "### 5 . Splitting data into independent (X) and dependent (y) variables on *age*"
   ]
  },
  {
   "cell_type": "code",
   "execution_count": 18,
   "id": "93f12431",
   "metadata": {},
   "outputs": [
    {
     "name": "stdout",
     "output_type": "stream",
     "text": [
      "Column Index : 3\n"
     ]
    }
   ],
   "source": [
    "#identifying the column index for the age variable\n",
    "idx=df.columns.get_loc(\"age\")\n",
    "print(\"Column Index : \"+ str(idx))"
   ]
  },
  {
   "cell_type": "code",
   "execution_count": 19,
   "id": "4827c32c",
   "metadata": {},
   "outputs": [
    {
     "data": {
      "text/html": [
       "<div>\n",
       "<style scoped>\n",
       "    .dataframe tbody tr th:only-of-type {\n",
       "        vertical-align: middle;\n",
       "    }\n",
       "\n",
       "    .dataframe tbody tr th {\n",
       "        vertical-align: top;\n",
       "    }\n",
       "\n",
       "    .dataframe thead th {\n",
       "        text-align: right;\n",
       "    }\n",
       "</style>\n",
       "<table border=\"1\" class=\"dataframe\">\n",
       "  <thead>\n",
       "    <tr style=\"text-align: right;\">\n",
       "      <th></th>\n",
       "      <th>age</th>\n",
       "    </tr>\n",
       "  </thead>\n",
       "  <tbody>\n",
       "    <tr>\n",
       "      <th>0</th>\n",
       "      <td>52</td>\n",
       "    </tr>\n",
       "    <tr>\n",
       "      <th>1</th>\n",
       "      <td>53</td>\n",
       "    </tr>\n",
       "    <tr>\n",
       "      <th>2</th>\n",
       "      <td>54</td>\n",
       "    </tr>\n",
       "    <tr>\n",
       "      <th>3</th>\n",
       "      <td>55</td>\n",
       "    </tr>\n",
       "    <tr>\n",
       "      <th>4</th>\n",
       "      <td>56</td>\n",
       "    </tr>\n",
       "  </tbody>\n",
       "</table>\n",
       "</div>"
      ],
      "text/plain": [
       "   age\n",
       "0   52\n",
       "1   53\n",
       "2   54\n",
       "3   55\n",
       "4   56"
      ]
     },
     "execution_count": 19,
     "metadata": {},
     "output_type": "execute_result"
    }
   ],
   "source": [
    "#defining dependent variables\n",
    "X = df.iloc[:,[3]]\n",
    "X.head()"
   ]
  },
  {
   "cell_type": "code",
   "execution_count": 20,
   "id": "f6368c89",
   "metadata": {},
   "outputs": [
    {
     "name": "stdout",
     "output_type": "stream",
     "text": [
      "Column Index : 17\n"
     ]
    }
   ],
   "source": [
    "#identifying the column index for the length of service variable\n",
    "idx=df.columns.get_loc(\"employment_status\")\n",
    "print(\"Column Index : \"+ str(idx))"
   ]
  },
  {
   "cell_type": "code",
   "execution_count": 22,
   "id": "53279ae5",
   "metadata": {},
   "outputs": [
    {
     "data": {
      "text/plain": [
       "0        0\n",
       "1        0\n",
       "2        0\n",
       "3        0\n",
       "4        0\n",
       "        ..\n",
       "49639    1\n",
       "49640    1\n",
       "49641    1\n",
       "49642    1\n",
       "49643    1\n",
       "Name: employment_status, Length: 49644, dtype: int64"
      ]
     },
     "execution_count": 22,
     "metadata": {},
     "output_type": "execute_result"
    }
   ],
   "source": [
    "#defining independent variable\n",
    "y = df.iloc[:,17]\n",
    "y"
   ]
  },
  {
   "cell_type": "markdown",
   "id": "9dc229f8",
   "metadata": {},
   "source": [
    "### 6. Feature Scaling "
   ]
  },
  {
   "cell_type": "markdown",
   "id": "7eb72fd8",
   "metadata": {},
   "source": [
    "Feature scaling helps to normalise the range of independent variables, which is important, particularly when working with large dataset. "
   ]
  },
  {
   "cell_type": "code",
   "execution_count": 23,
   "id": "4e203699",
   "metadata": {},
   "outputs": [],
   "source": [
    "#defining StandardScaler\n",
    "sc = StandardScaler()"
   ]
  },
  {
   "cell_type": "code",
   "execution_count": 24,
   "id": "a726e1ba",
   "metadata": {},
   "outputs": [
    {
     "data": {
      "text/plain": [
       "array([[ 0.79839445],\n",
       "       [ 0.87885677],\n",
       "       [ 0.95931908],\n",
       "       ...,\n",
       "       [-0.89131413],\n",
       "       [-1.05223876],\n",
       "       [-1.53501264]])"
      ]
     },
     "execution_count": 24,
     "metadata": {},
     "output_type": "execute_result"
    }
   ],
   "source": [
    "X = sc.fit_transform(X)\n",
    "X"
   ]
  },
  {
   "cell_type": "markdown",
   "id": "5ad149b2",
   "metadata": {},
   "source": [
    "### 7. Splitting the dataset into train and test sets "
   ]
  },
  {
   "cell_type": "markdown",
   "id": "19f76ccc",
   "metadata": {},
   "source": [
    "Splitting the dataset into train and test sets so we can execute our model on the train set, and verify using the test set. \n",
    "\n",
    "I have used a **stratify** split because of the imbalance in our independent variable. "
   ]
  },
  {
   "cell_type": "code",
   "execution_count": 25,
   "id": "357db61a",
   "metadata": {},
   "outputs": [
    {
     "name": "stdout",
     "output_type": "stream",
     "text": [
      "(34750, 1)\n",
      "(14894, 1)\n",
      "(34750,)\n",
      "(14894,)\n"
     ]
    }
   ],
   "source": [
    "#creating out train and test variables using a stratify split\n",
    "X_train, X_test, y_train, y_test = train_test_split(X, y, test_size=0.30, random_state=1, stratify=y)\n",
    "\n",
    "print(X_train.shape)\n",
    "print(X_test.shape)\n",
    "print(y_train.shape)\n",
    "print(y_test.shape)"
   ]
  },
  {
   "cell_type": "markdown",
   "id": "133f7ff6",
   "metadata": {},
   "source": [
    "### 8. Fitting the logistic regression model and predicting test results"
   ]
  },
  {
   "cell_type": "markdown",
   "id": "566d182d",
   "metadata": {},
   "source": [
    "Now we have prepared the dataset, we can train the model using the LogisticRegression clas of scikit-learn."
   ]
  },
  {
   "cell_type": "code",
   "execution_count": 26,
   "id": "1507f488",
   "metadata": {},
   "outputs": [],
   "source": [
    "#defining our classifier\n",
    "classifier = LogisticRegression()"
   ]
  },
  {
   "cell_type": "code",
   "execution_count": 27,
   "id": "0f294016",
   "metadata": {},
   "outputs": [
    {
     "data": {
      "text/plain": [
       "LogisticRegression()"
      ]
     },
     "execution_count": 27,
     "metadata": {},
     "output_type": "execute_result"
    }
   ],
   "source": [
    "#applying classifier to our data\n",
    "classifier.fit(X_train, y_train)"
   ]
  },
  {
   "cell_type": "code",
   "execution_count": 28,
   "id": "ca7841ef",
   "metadata": {},
   "outputs": [],
   "source": [
    "#performing a prediction on the test set using the predict method\n",
    "y_pred = classifier.predict(X_test)"
   ]
  },
  {
   "cell_type": "code",
   "execution_count": 29,
   "id": "dd0fd62f",
   "metadata": {},
   "outputs": [
    {
     "data": {
      "text/html": [
       "<div>\n",
       "<style scoped>\n",
       "    .dataframe tbody tr th:only-of-type {\n",
       "        vertical-align: middle;\n",
       "    }\n",
       "\n",
       "    .dataframe tbody tr th {\n",
       "        vertical-align: top;\n",
       "    }\n",
       "\n",
       "    .dataframe thead th {\n",
       "        text-align: right;\n",
       "    }\n",
       "</style>\n",
       "<table border=\"1\" class=\"dataframe\">\n",
       "  <thead>\n",
       "    <tr style=\"text-align: right;\">\n",
       "      <th></th>\n",
       "      <th>Actual</th>\n",
       "      <th>Predicted</th>\n",
       "    </tr>\n",
       "  </thead>\n",
       "  <tbody>\n",
       "    <tr>\n",
       "      <th>31152</th>\n",
       "      <td>1</td>\n",
       "      <td>0</td>\n",
       "    </tr>\n",
       "    <tr>\n",
       "      <th>19681</th>\n",
       "      <td>0</td>\n",
       "      <td>0</td>\n",
       "    </tr>\n",
       "    <tr>\n",
       "      <th>25148</th>\n",
       "      <td>0</td>\n",
       "      <td>0</td>\n",
       "    </tr>\n",
       "    <tr>\n",
       "      <th>37794</th>\n",
       "      <td>0</td>\n",
       "      <td>0</td>\n",
       "    </tr>\n",
       "    <tr>\n",
       "      <th>7027</th>\n",
       "      <td>0</td>\n",
       "      <td>0</td>\n",
       "    </tr>\n",
       "    <tr>\n",
       "      <th>...</th>\n",
       "      <td>...</td>\n",
       "      <td>...</td>\n",
       "    </tr>\n",
       "    <tr>\n",
       "      <th>46485</th>\n",
       "      <td>0</td>\n",
       "      <td>0</td>\n",
       "    </tr>\n",
       "    <tr>\n",
       "      <th>11903</th>\n",
       "      <td>0</td>\n",
       "      <td>0</td>\n",
       "    </tr>\n",
       "    <tr>\n",
       "      <th>26904</th>\n",
       "      <td>0</td>\n",
       "      <td>0</td>\n",
       "    </tr>\n",
       "    <tr>\n",
       "      <th>41778</th>\n",
       "      <td>0</td>\n",
       "      <td>0</td>\n",
       "    </tr>\n",
       "    <tr>\n",
       "      <th>5189</th>\n",
       "      <td>0</td>\n",
       "      <td>0</td>\n",
       "    </tr>\n",
       "  </tbody>\n",
       "</table>\n",
       "<p>14894 rows × 2 columns</p>\n",
       "</div>"
      ],
      "text/plain": [
       "       Actual  Predicted\n",
       "31152       1          0\n",
       "19681       0          0\n",
       "25148       0          0\n",
       "37794       0          0\n",
       "7027        0          0\n",
       "...       ...        ...\n",
       "46485       0          0\n",
       "11903       0          0\n",
       "26904       0          0\n",
       "41778       0          0\n",
       "5189        0          0\n",
       "\n",
       "[14894 rows x 2 columns]"
      ]
     },
     "execution_count": 29,
     "metadata": {},
     "output_type": "execute_result"
    }
   ],
   "source": [
    "#creating a dataframe and comparing the predicted and actual values\n",
    "result = pd.DataFrame({'Actual' : y_test, 'Predicted' : y_pred})\n",
    "result"
   ]
  },
  {
   "cell_type": "code",
   "execution_count": 30,
   "id": "d27af5b5",
   "metadata": {},
   "outputs": [
    {
     "data": {
      "text/plain": [
       "array([[0.87332525]])"
      ]
     },
     "execution_count": 30,
     "metadata": {},
     "output_type": "execute_result"
    }
   ],
   "source": [
    "#looking at coefficient and intercept\n",
    "classifier.coef_"
   ]
  },
  {
   "cell_type": "code",
   "execution_count": 31,
   "id": "798c7197",
   "metadata": {},
   "outputs": [
    {
     "data": {
      "text/plain": [
       "array([-3.82038503])"
      ]
     },
     "execution_count": 31,
     "metadata": {},
     "output_type": "execute_result"
    }
   ],
   "source": [
    "classifier.intercept_"
   ]
  },
  {
   "cell_type": "markdown",
   "id": "6810342b",
   "metadata": {},
   "source": [
    "### 9. Evaluating the model"
   ]
  },
  {
   "cell_type": "code",
   "execution_count": 32,
   "id": "baae2b71",
   "metadata": {},
   "outputs": [
    {
     "data": {
      "text/plain": [
       "array([[14449,     0],\n",
       "       [  445,     0]], dtype=int64)"
      ]
     },
     "execution_count": 32,
     "metadata": {},
     "output_type": "execute_result"
    }
   ],
   "source": [
    "#using the confusion matrix to look true negatives, false negative, false positives, and true positives\n",
    "cf_matrix = confusion_matrix(y_test, y_pred)\n",
    "cf_matrix"
   ]
  },
  {
   "cell_type": "code",
   "execution_count": 33,
   "id": "1ce78ca0",
   "metadata": {},
   "outputs": [
    {
     "data": {
      "text/plain": [
       "Text(0.5, 23.52222222222222, 'Predicted label')"
      ]
     },
     "execution_count": 33,
     "metadata": {},
     "output_type": "execute_result"
    },
    {
     "data": {
      "image/png": "[encoded data removed]",
      "text/plain": [
       "<Figure size 640x480 with 2 Axes>"
      ]
     },
     "metadata": {},
     "output_type": "display_data"
    }
   ],
   "source": [
    "#viewing this as a heatmap\n",
    "sns.heatmap(pd.DataFrame(cf_matrix), annot=True, cmap=\"YlGnBu\" ,fmt='g')\n",
    "plt.title('Confusion matrix', y=1.1)\n",
    "plt.ylabel('Actual label')\n",
    "plt.xlabel('Predicted label')"
   ]
  },
  {
   "cell_type": "markdown",
   "id": "24e37662",
   "metadata": {},
   "source": [
    "**Observations:** we have 14449 **True negatives** and 445 **False negatives**, we also have 0 **false predictions** and 0 **true predictions**."
   ]
  },
  {
   "cell_type": "code",
   "execution_count": 34,
   "id": "0757c9f4",
   "metadata": {},
   "outputs": [
    {
     "data": {
      "text/plain": [
       "0.9701221968577951"
      ]
     },
     "execution_count": 34,
     "metadata": {},
     "output_type": "execute_result"
    }
   ],
   "source": [
    "#checking the model's accuracy \n",
    "Accuracy = (14449+0)/(14449+0+0+445)\n",
    "Accuracy"
   ]
  },
  {
   "cell_type": "markdown",
   "id": "e4a478f1",
   "metadata": {},
   "source": [
    "**Observations:** the accuracy of our model is 97%"
   ]
  },
  {
   "cell_type": "code",
   "execution_count": 35,
   "id": "b3b29463",
   "metadata": {},
   "outputs": [],
   "source": [
    "#using a classification report to give a comprehensive review of the model's performance\n",
    "target_names = ['active', 'terminated']"
   ]
  },
  {
   "cell_type": "code",
   "execution_count": 36,
   "id": "a23b9259",
   "metadata": {},
   "outputs": [
    {
     "name": "stdout",
     "output_type": "stream",
     "text": [
      "              precision    recall  f1-score   support\n",
      "\n",
      "      active       0.97      1.00      0.98     14449\n",
      "  terminated       0.00      0.00      0.00       445\n",
      "\n",
      "    accuracy                           0.97     14894\n",
      "   macro avg       0.49      0.50      0.49     14894\n",
      "weighted avg       0.94      0.97      0.96     14894\n",
      "\n"
     ]
    },
    {
     "name": "stderr",
     "output_type": "stream",
     "text": [
      "C:\\Users\\rutha\\anaconda3\\lib\\site-packages\\sklearn\\metrics\\_classification.py:1318: UndefinedMetricWarning: Precision and F-score are ill-defined and being set to 0.0 in labels with no predicted samples. Use `zero_division` parameter to control this behavior.\n",
      "  _warn_prf(average, modifier, msg_start, len(result))\n",
      "C:\\Users\\rutha\\anaconda3\\lib\\site-packages\\sklearn\\metrics\\_classification.py:1318: UndefinedMetricWarning: Precision and F-score are ill-defined and being set to 0.0 in labels with no predicted samples. Use `zero_division` parameter to control this behavior.\n",
      "  _warn_prf(average, modifier, msg_start, len(result))\n",
      "C:\\Users\\rutha\\anaconda3\\lib\\site-packages\\sklearn\\metrics\\_classification.py:1318: UndefinedMetricWarning: Precision and F-score are ill-defined and being set to 0.0 in labels with no predicted samples. Use `zero_division` parameter to control this behavior.\n",
      "  _warn_prf(average, modifier, msg_start, len(result))\n"
     ]
    }
   ],
   "source": [
    "print(classification_report(y_test, y_pred, target_names=target_names))"
   ]
  },
  {
   "cell_type": "markdown",
   "id": "ea3a302d",
   "metadata": {},
   "source": [
    "**Results:** \n",
    "\n",
    "The results are very interesting when we look at the relationship between employment status and age. In the Active value, we see high levels of accuracy:\n",
    "\n",
    "    1. The *precision* score indicates how many of the predicted values were accurate. A score of 0.97 indicates a very high level of accuracy. \n",
    "    2. The *recall* score looks at only the actual positive results in the model, and how many were accurately predicted. A score of 1.0 indicates they predicted all values. \n",
    "    3. The *F1* score assesses the overall accuracy of the model, which it does by computing how many times a model made a correct prediction across the entire dataset. A score of 0.97 shows a very high level of accuracy. \n",
    "\n",
    "Unfortunately, when we look at the Terminated value, the model was unable to predict any of our terminated employees. I think this could be down to the imbalanced nature of the data which I detail below as a potential bias. \n"
   ]
  },
  {
   "cell_type": "markdown",
   "id": "8f9f1a6c",
   "metadata": {},
   "source": [
    "**Potential bias:**\n",
    "\n",
    "As discussed above, there is definitely the potential for collection bias with this dataset. Although fake data generators, R, and randomised functions were used, when we look at the histogram of age we see regular significant peaks compared to the average which would be unlikely in a real-life dataset. \n",
    "\n",
    "Also discussed, the imbalanced nature of the independent variable (97% and 3%) can significantly impact bias. Imbalanced datasets pose a challenge for predictive modeling as most of the machine learning algorithms used for classification were designed around the assumption of an equal number of examples for each class. Particularly in this example where the minority class is more important value. "
   ]
  },
  {
   "cell_type": "markdown",
   "id": "3568a91a",
   "metadata": {},
   "source": [
    "# Linear Regression"
   ]
  },
  {
   "cell_type": "markdown",
   "id": "a2dccd0c",
   "metadata": {},
   "source": [
    "As seen in the previous exercise, there was a linear correlation of 0.91 between **Age** and **Length of Service** so we are going to explore that further here. "
   ]
  },
  {
   "cell_type": "markdown",
   "id": "172effbe",
   "metadata": {},
   "source": [
    "### 1. Scatterplot"
   ]
  },
  {
   "cell_type": "code",
   "execution_count": 39,
   "id": "3f5f9865",
   "metadata": {},
   "outputs": [
    {
     "data": {
      "image/png": "[encoded data removed]",
      "text/plain": [
       "<Figure size 640x480 with 1 Axes>"
      ]
     },
     "metadata": {},
     "output_type": "display_data"
    }
   ],
   "source": [
    "# Create a scatterplot using matplotlib for another look at how the chosen variables plot against each other.\n",
    "\n",
    "df.plot(x ='age', y='length_of_service',style='o') # The style option creates a scatterplot; without it, we only have lines.\n",
    "  \n",
    "plt.xlabel('age')  \n",
    "plt.ylabel('length_of_service')  \n",
    "plt.show()"
   ]
  },
  {
   "cell_type": "markdown",
   "id": "4480502d",
   "metadata": {},
   "source": [
    "### 2. Reshaping the variables"
   ]
  },
  {
   "cell_type": "code",
   "execution_count": 44,
   "id": "49c40868",
   "metadata": {},
   "outputs": [
    {
     "name": "stdout",
     "output_type": "stream",
     "text": [
      "(34750, 1)\n",
      "(14894, 1)\n",
      "(34750, 1)\n",
      "(14894, 1)\n"
     ]
    }
   ],
   "source": [
    "#reshapre the variables we need into numpy arrays and put them in separate objects\n",
    "\n",
    "X = df['age'].values.reshape(-1,1)\n",
    "y = df['length_of_service'].values.reshape(-1,1)\n"
   ]
  },
  {
   "cell_type": "code",
   "execution_count": 42,
   "id": "404b1c3c",
   "metadata": {},
   "outputs": [
    {
     "data": {
      "text/plain": [
       "array([[52],\n",
       "       [53],\n",
       "       [54],\n",
       "       ...,\n",
       "       [31],\n",
       "       [29],\n",
       "       [23]], dtype=int64)"
      ]
     },
     "execution_count": 42,
     "metadata": {},
     "output_type": "execute_result"
    }
   ],
   "source": [
    "#checking output\n",
    "X"
   ]
  },
  {
   "cell_type": "markdown",
   "id": "d45a5ccd",
   "metadata": {},
   "source": [
    "### 3. Splitting data into test and train"
   ]
  },
  {
   "cell_type": "code",
   "execution_count": 45,
   "id": "550cea41",
   "metadata": {},
   "outputs": [
    {
     "name": "stdout",
     "output_type": "stream",
     "text": [
      "(34750, 1)\n",
      "(14894, 1)\n",
      "(34750, 1)\n",
      "(14894, 1)\n"
     ]
    }
   ],
   "source": [
    "X_train, X_test, y_train, y_test = train_test_split(X, y, test_size=0.3, random_state=0)\n",
    "\n",
    "print(X_train.shape)\n",
    "print(X_test.shape)\n",
    "print(y_train.shape)\n",
    "print(y_test.shape)"
   ]
  },
  {
   "cell_type": "markdown",
   "id": "6aa75d27",
   "metadata": {},
   "source": [
    "### 4. Fitting the logistic regression model and predicting test results"
   ]
  },
  {
   "cell_type": "code",
   "execution_count": 48,
   "id": "7079b4c2",
   "metadata": {},
   "outputs": [],
   "source": [
    "#create a regression object\n",
    "regression = LinearRegression()"
   ]
  },
  {
   "cell_type": "code",
   "execution_count": 49,
   "id": "1bdb1b21",
   "metadata": {},
   "outputs": [
    {
     "data": {
      "text/plain": [
       "LinearRegression()"
      ]
     },
     "execution_count": 49,
     "metadata": {},
     "output_type": "execute_result"
    }
   ],
   "source": [
    "#fit the regression object onto the training set\n",
    "regression.fit(X_train, y_train)"
   ]
  },
  {
   "cell_type": "code",
   "execution_count": 50,
   "id": "05272585",
   "metadata": {},
   "outputs": [],
   "source": [
    "#predict the values of y using X.\n",
    "y_predicted = regression.predict(X_test)"
   ]
  },
  {
   "cell_type": "code",
   "execution_count": 52,
   "id": "0c99fdda",
   "metadata": {},
   "outputs": [
    {
     "data": {
      "image/png": "[encoded data removed]",
      "text/plain": [
       "<Figure size 640x480 with 1 Axes>"
      ]
     },
     "metadata": {},
     "output_type": "display_data"
    }
   ],
   "source": [
    "#create a plot that shows the regression line from the model on the test set.\n",
    "\n",
    "plot_test = plt\n",
    "plot_test.scatter(X_test, y_test, color='gray', s = 15)\n",
    "plot_test.plot(X_test, y_predicted, color='green', linewidth =3)\n",
    "plot_test.title('Age vs Length of service (Test set)')\n",
    "plot_test.xlabel('Age')\n",
    "plot_test.ylabel('Length of Service')\n",
    "plot_test.show()"
   ]
  },
  {
   "cell_type": "markdown",
   "id": "dcd121f8",
   "metadata": {},
   "source": [
    "### 5. Evaluating the Model"
   ]
  },
  {
   "cell_type": "code",
   "execution_count": 56,
   "id": "2b042934",
   "metadata": {},
   "outputs": [],
   "source": [
    "#creating objects that contain the model summary statistics.\n",
    "\n",
    "rmse = mean_squared_error(y_test, y_predicted) #mean squared error\n",
    "r2 = r2_score(y_test, y_predicted) #R2 score. "
   ]
  },
  {
   "cell_type": "code",
   "execution_count": 57,
   "id": "df3547e7",
   "metadata": {},
   "outputs": [
    {
     "name": "stdout",
     "output_type": "stream",
     "text": [
      "Slope: [[0.46291406]]\n",
      "Mean squared error:  6.81421794294146\n",
      "R2 score:  0.8289530710622455\n"
     ]
    }
   ],
   "source": [
    "#printing the model summary statistics\n",
    "print('Slope:' ,regression.coef_)\n",
    "print('Mean squared error: ', rmse)\n",
    "print('R2 score: ', r2)"
   ]
  },
  {
   "cell_type": "markdown",
   "id": "5437e1dc",
   "metadata": {},
   "source": [
    "**Results:** \n",
    "    \n",
    "The slope indicates, as we can also see in the scatterplot, that we have a *positive* correlation. \n",
    "\n",
    "The MSE is *6.81...* which is a small number, meaning the regression line passes fairly close to the observations, making it a good fit. \n",
    "\n",
    "The R2 score is 0*.82...*, indicating a strong fit. "
   ]
  },
  {
   "cell_type": "markdown",
   "id": "945fbaaf",
   "metadata": {},
   "source": [
    "### 6. Compare how the regression fits the training set "
   ]
  },
  {
   "cell_type": "code",
   "execution_count": 58,
   "id": "1bf7378b",
   "metadata": {},
   "outputs": [
    {
     "data": {
      "text/html": [
       "<div>\n",
       "<style scoped>\n",
       "    .dataframe tbody tr th:only-of-type {\n",
       "        vertical-align: middle;\n",
       "    }\n",
       "\n",
       "    .dataframe tbody tr th {\n",
       "        vertical-align: top;\n",
       "    }\n",
       "\n",
       "    .dataframe thead th {\n",
       "        text-align: right;\n",
       "    }\n",
       "</style>\n",
       "<table border=\"1\" class=\"dataframe\">\n",
       "  <thead>\n",
       "    <tr style=\"text-align: right;\">\n",
       "      <th></th>\n",
       "      <th>Actual</th>\n",
       "      <th>Predicted</th>\n",
       "    </tr>\n",
       "  </thead>\n",
       "  <tbody>\n",
       "    <tr>\n",
       "      <th>0</th>\n",
       "      <td>5</td>\n",
       "      <td>5.766277</td>\n",
       "    </tr>\n",
       "    <tr>\n",
       "      <th>1</th>\n",
       "      <td>21</td>\n",
       "      <td>18.727871</td>\n",
       "    </tr>\n",
       "    <tr>\n",
       "      <th>2</th>\n",
       "      <td>11</td>\n",
       "      <td>9.932504</td>\n",
       "    </tr>\n",
       "    <tr>\n",
       "      <th>3</th>\n",
       "      <td>16</td>\n",
       "      <td>13.172902</td>\n",
       "    </tr>\n",
       "    <tr>\n",
       "      <th>4</th>\n",
       "      <td>2</td>\n",
       "      <td>2.988793</td>\n",
       "    </tr>\n",
       "    <tr>\n",
       "      <th>5</th>\n",
       "      <td>13</td>\n",
       "      <td>21.042441</td>\n",
       "    </tr>\n",
       "    <tr>\n",
       "      <th>6</th>\n",
       "      <td>16</td>\n",
       "      <td>15.950386</td>\n",
       "    </tr>\n",
       "    <tr>\n",
       "      <th>7</th>\n",
       "      <td>0</td>\n",
       "      <td>-0.251606</td>\n",
       "    </tr>\n",
       "    <tr>\n",
       "      <th>8</th>\n",
       "      <td>19</td>\n",
       "      <td>16.413300</td>\n",
       "    </tr>\n",
       "    <tr>\n",
       "      <th>9</th>\n",
       "      <td>10</td>\n",
       "      <td>19.190785</td>\n",
       "    </tr>\n",
       "    <tr>\n",
       "      <th>10</th>\n",
       "      <td>8</td>\n",
       "      <td>7.617933</td>\n",
       "    </tr>\n",
       "    <tr>\n",
       "      <th>11</th>\n",
       "      <td>7</td>\n",
       "      <td>5.766277</td>\n",
       "    </tr>\n",
       "    <tr>\n",
       "      <th>12</th>\n",
       "      <td>6</td>\n",
       "      <td>8.080847</td>\n",
       "    </tr>\n",
       "    <tr>\n",
       "      <th>13</th>\n",
       "      <td>15</td>\n",
       "      <td>15.950386</td>\n",
       "    </tr>\n",
       "    <tr>\n",
       "      <th>14</th>\n",
       "      <td>9</td>\n",
       "      <td>10.858332</td>\n",
       "    </tr>\n",
       "    <tr>\n",
       "      <th>15</th>\n",
       "      <td>13</td>\n",
       "      <td>13.172902</td>\n",
       "    </tr>\n",
       "    <tr>\n",
       "      <th>16</th>\n",
       "      <td>5</td>\n",
       "      <td>7.155019</td>\n",
       "    </tr>\n",
       "    <tr>\n",
       "      <th>17</th>\n",
       "      <td>21</td>\n",
       "      <td>17.802043</td>\n",
       "    </tr>\n",
       "    <tr>\n",
       "      <th>18</th>\n",
       "      <td>5</td>\n",
       "      <td>6.229191</td>\n",
       "    </tr>\n",
       "    <tr>\n",
       "      <th>19</th>\n",
       "      <td>12</td>\n",
       "      <td>13.172902</td>\n",
       "    </tr>\n",
       "    <tr>\n",
       "      <th>20</th>\n",
       "      <td>4</td>\n",
       "      <td>3.451707</td>\n",
       "    </tr>\n",
       "    <tr>\n",
       "      <th>21</th>\n",
       "      <td>15</td>\n",
       "      <td>15.487472</td>\n",
       "    </tr>\n",
       "    <tr>\n",
       "      <th>22</th>\n",
       "      <td>8</td>\n",
       "      <td>8.543761</td>\n",
       "    </tr>\n",
       "    <tr>\n",
       "      <th>23</th>\n",
       "      <td>6</td>\n",
       "      <td>4.377535</td>\n",
       "    </tr>\n",
       "    <tr>\n",
       "      <th>24</th>\n",
       "      <td>6</td>\n",
       "      <td>8.080847</td>\n",
       "    </tr>\n",
       "    <tr>\n",
       "      <th>25</th>\n",
       "      <td>4</td>\n",
       "      <td>3.914621</td>\n",
       "    </tr>\n",
       "    <tr>\n",
       "      <th>26</th>\n",
       "      <td>6</td>\n",
       "      <td>5.766277</td>\n",
       "    </tr>\n",
       "    <tr>\n",
       "      <th>27</th>\n",
       "      <td>19</td>\n",
       "      <td>16.413300</td>\n",
       "    </tr>\n",
       "    <tr>\n",
       "      <th>28</th>\n",
       "      <td>5</td>\n",
       "      <td>3.451707</td>\n",
       "    </tr>\n",
       "    <tr>\n",
       "      <th>29</th>\n",
       "      <td>11</td>\n",
       "      <td>20.116613</td>\n",
       "    </tr>\n",
       "  </tbody>\n",
       "</table>\n",
       "</div>"
      ],
      "text/plain": [
       "    Actual  Predicted\n",
       "0        5   5.766277\n",
       "1       21  18.727871\n",
       "2       11   9.932504\n",
       "3       16  13.172902\n",
       "4        2   2.988793\n",
       "5       13  21.042441\n",
       "6       16  15.950386\n",
       "7        0  -0.251606\n",
       "8       19  16.413300\n",
       "9       10  19.190785\n",
       "10       8   7.617933\n",
       "11       7   5.766277\n",
       "12       6   8.080847\n",
       "13      15  15.950386\n",
       "14       9  10.858332\n",
       "15      13  13.172902\n",
       "16       5   7.155019\n",
       "17      21  17.802043\n",
       "18       5   6.229191\n",
       "19      12  13.172902\n",
       "20       4   3.451707\n",
       "21      15  15.487472\n",
       "22       8   8.543761\n",
       "23       6   4.377535\n",
       "24       6   8.080847\n",
       "25       4   3.914621\n",
       "26       6   5.766277\n",
       "27      19  16.413300\n",
       "28       5   3.451707\n",
       "29      11  20.116613"
      ]
     },
     "execution_count": 58,
     "metadata": {},
     "output_type": "execute_result"
    }
   ],
   "source": [
    "#create a dataframe comparing the real and predicted values of y \n",
    "\n",
    "data = pd.DataFrame({'Actual': y_test.flatten(), 'Predicted': y_predicted.flatten()})\n",
    "data.head(30)"
   ]
  },
  {
   "cell_type": "markdown",
   "id": "6c3ea0e4",
   "metadata": {},
   "source": [
    "We see some values are very similar, but others are quite different."
   ]
  },
  {
   "cell_type": "code",
   "execution_count": 59,
   "id": "ff0b37d9",
   "metadata": {},
   "outputs": [],
   "source": [
    "#predict\n",
    "y_predicted_train = regression.predict(X_train) "
   ]
  },
  {
   "cell_type": "code",
   "execution_count": 60,
   "id": "8e7dbbad",
   "metadata": {},
   "outputs": [
    {
     "name": "stdout",
     "output_type": "stream",
     "text": [
      "Slope: [[0.46291406]]\n",
      "Mean squared error:  6.965046929572538\n",
      "R2 score:  0.8262622070409336\n"
     ]
    }
   ],
   "source": [
    "rmse = mean_squared_error(y_train, y_predicted_train)\n",
    "r2 = r2_score(y_train, y_predicted_train)\n",
    "\n",
    "print('Slope:' ,regression.coef_)\n",
    "print('Mean squared error: ', rmse)\n",
    "print('R2 score: ', r2)"
   ]
  },
  {
   "cell_type": "code",
   "execution_count": 61,
   "id": "e8ad5387",
   "metadata": {},
   "outputs": [
    {
     "data": {
      "image/png": "[encoded data removed]",
      "text/plain": [
       "<Figure size 640x480 with 1 Axes>"
      ]
     },
     "metadata": {},
     "output_type": "display_data"
    }
   ],
   "source": [
    "#visualizing the training set results.\n",
    "\n",
    "plot_test = plt\n",
    "plot_test.scatter(X_test, y_test, color='blue', s = 15)\n",
    "plot_test.plot(X_test, y_predicted, color='red', linewidth =3)\n",
    "plot_test.title('Age vs Length of Service (Train set)')\n",
    "plot_test.xlabel('Age')\n",
    "plot_test.ylabel('Length of Service')\n",
    "plot_test.show()"
   ]
  },
  {
   "cell_type": "markdown",
   "id": "a7e777d9",
   "metadata": {},
   "source": [
    "**Results:** The model outcomes for the training set are very similar to the test set, which is a good sign. Given that there are a number of values that stray from the trend line once the data goes over age 40 it's unsurprising that the model struggled to accurately predict every value, as seen in test prediction dataframe above. "
   ]
  }
 ],
 "metadata": {
  "kernelspec": {
   "display_name": "Python 3 (ipykernel)",
   "language": "python",
   "name": "python3"
  },
  "language_info": {
   "codemirror_mode": {
    "name": "ipython",
    "version": 3
   },
   "file_extension": ".py",
   "mimetype": "text/x-python",
   "name": "python",
   "nbconvert_exporter": "python",
   "pygments_lexer": "ipython3",
   "version": "3.9.13"
  }
 },
 "nbformat": 4,
 "nbformat_minor": 5
}
