{
 "cells": [
  {
   "cell_type": "markdown",
   "id": "84ea762d",
   "metadata": {},
   "source": [
    "# Investigating, cleaning, and wrangling our dataset\n",
    "1. Importing libraries and datasets\n",
    "2. Exploratory data analysis \n",
    "3. Addressing our new data set\n",
    "    1. Wrangling\n",
    "    2. Consistency checks \n",
    "4. Merging population data\n",
    "    1. Add in population for each location by merging new dataset \n",
    "    2. Creating population flag\n",
    "    3. Creating job grouping \n",
    "    4. Creating age grouping\n",
    "5. Converting categorical variables to numeric \n",
    "    1. Variables with two distinct values\n",
    "          1. Gender\n",
    "          2. Employment status\n",
    "          3. Business unit\n",
    "    2. Variables with multiple distinct values\n",
    "        1. City name\n",
    "        2. Department\n",
    "        3. Term reason\n",
    "        4. Term type\n",
    "        5. Population flag\n",
    "        6. Seniority\n",
    "        7. Age flag\n",
    "    3. Creating the encoded dataframe\n",
    "6. Exporting dataset"
   ]
  },
  {
   "cell_type": "markdown",
   "id": "3fa167fe",
   "metadata": {},
   "source": [
    "# 1. Importing libraries and datasets "
   ]
  },
  {
   "cell_type": "code",
   "execution_count": 1,
   "id": "2a0d79aa",
   "metadata": {},
   "outputs": [],
   "source": [
    "#import libraries\n",
    "import pandas as pd\n",
    "import numpy as np\n",
    "import os\n",
    "from sklearn.preprocessing import LabelEncoder\n",
    "from sklearn.preprocessing import OneHotEncoder "
   ]
  },
  {
   "cell_type": "code",
   "execution_count": 2,
   "id": "49a08b37",
   "metadata": {},
   "outputs": [],
   "source": [
    "#create path\n",
    "path = r'C:\\Users\\rutha\\CareerFoundry\\04-23_EmployeeAttrition'"
   ]
  },
  {
   "cell_type": "code",
   "execution_count": 3,
   "id": "513a5f88",
   "metadata": {},
   "outputs": [],
   "source": [
    "#import data set\n",
    "df = pd.read_csv(os.path.join(path, '02_data', 'Original_data', 'EU10YearTermination.csv'), index_col=False)"
   ]
  },
  {
   "cell_type": "code",
   "execution_count": 4,
   "id": "1d4d0987",
   "metadata": {},
   "outputs": [
    {
     "name": "stdout",
     "output_type": "stream",
     "text": [
      "Sample of attrition data set\n"
     ]
    },
    {
     "data": {
      "text/html": [
       "<div>\n",
       "<style scoped>\n",
       "    .dataframe tbody tr th:only-of-type {\n",
       "        vertical-align: middle;\n",
       "    }\n",
       "\n",
       "    .dataframe tbody tr th {\n",
       "        vertical-align: top;\n",
       "    }\n",
       "\n",
       "    .dataframe thead th {\n",
       "        text-align: right;\n",
       "    }\n",
       "</style>\n",
       "<table border=\"1\" class=\"dataframe\">\n",
       "  <thead>\n",
       "    <tr style=\"text-align: right;\">\n",
       "      <th></th>\n",
       "      <th>EmployeeID</th>\n",
       "      <th>recorddate_key</th>\n",
       "      <th>birthdate_key</th>\n",
       "      <th>orighiredate_key</th>\n",
       "      <th>terminationdate_key</th>\n",
       "      <th>age</th>\n",
       "      <th>length_of_service</th>\n",
       "      <th>country</th>\n",
       "      <th>department_name</th>\n",
       "      <th>job_title</th>\n",
       "      <th>store_name</th>\n",
       "      <th>gender_short</th>\n",
       "      <th>gender_full</th>\n",
       "      <th>termreason_desc</th>\n",
       "      <th>termtype_desc</th>\n",
       "      <th>STATUS_YEAR</th>\n",
       "      <th>STATUS</th>\n",
       "      <th>BUSINESS_UNIT</th>\n",
       "    </tr>\n",
       "  </thead>\n",
       "  <tbody>\n",
       "    <tr>\n",
       "      <th>16116</th>\n",
       "      <td>3972</td>\n",
       "      <td>12/31/2009 0:00</td>\n",
       "      <td>3/15/1963</td>\n",
       "      <td>2/25/1997</td>\n",
       "      <td>01/01/1900</td>\n",
       "      <td>46</td>\n",
       "      <td>12</td>\n",
       "      <td>Denmark</td>\n",
       "      <td>Produce</td>\n",
       "      <td>Produce Clerk</td>\n",
       "      <td>17</td>\n",
       "      <td>F</td>\n",
       "      <td>Female</td>\n",
       "      <td>Not Applicable</td>\n",
       "      <td>Not Applicable</td>\n",
       "      <td>2009</td>\n",
       "      <td>ACTIVE</td>\n",
       "      <td>STORES</td>\n",
       "    </tr>\n",
       "    <tr>\n",
       "      <th>1904</th>\n",
       "      <td>1767</td>\n",
       "      <td>12/31/2012 0:00</td>\n",
       "      <td>06/02/1951</td>\n",
       "      <td>12/06/1990</td>\n",
       "      <td>01/01/1900</td>\n",
       "      <td>61</td>\n",
       "      <td>22</td>\n",
       "      <td>Germany</td>\n",
       "      <td>Bakery</td>\n",
       "      <td>Bakery Manager</td>\n",
       "      <td>44</td>\n",
       "      <td>M</td>\n",
       "      <td>Male</td>\n",
       "      <td>Not Applicable</td>\n",
       "      <td>Not Applicable</td>\n",
       "      <td>2012</td>\n",
       "      <td>ACTIVE</td>\n",
       "      <td>STORES</td>\n",
       "    </tr>\n",
       "    <tr>\n",
       "      <th>39844</th>\n",
       "      <td>6749</td>\n",
       "      <td>12/31/2012 0:00</td>\n",
       "      <td>10/09/1982</td>\n",
       "      <td>6/28/2007</td>\n",
       "      <td>01/01/1900</td>\n",
       "      <td>30</td>\n",
       "      <td>5</td>\n",
       "      <td>United Kingdom</td>\n",
       "      <td>Processed Foods</td>\n",
       "      <td>Shelf Stocker</td>\n",
       "      <td>31</td>\n",
       "      <td>F</td>\n",
       "      <td>Female</td>\n",
       "      <td>Not Applicable</td>\n",
       "      <td>Not Applicable</td>\n",
       "      <td>2012</td>\n",
       "      <td>ACTIVE</td>\n",
       "      <td>STORES</td>\n",
       "    </tr>\n",
       "    <tr>\n",
       "      <th>29274</th>\n",
       "      <td>5621</td>\n",
       "      <td>12/31/2011 0:00</td>\n",
       "      <td>08/07/1973</td>\n",
       "      <td>8/24/2002</td>\n",
       "      <td>01/01/1900</td>\n",
       "      <td>38</td>\n",
       "      <td>9</td>\n",
       "      <td>Hungary</td>\n",
       "      <td>Dairy</td>\n",
       "      <td>Dairy Person</td>\n",
       "      <td>26</td>\n",
       "      <td>F</td>\n",
       "      <td>Female</td>\n",
       "      <td>Not Applicable</td>\n",
       "      <td>Not Applicable</td>\n",
       "      <td>2011</td>\n",
       "      <td>ACTIVE</td>\n",
       "      <td>STORES</td>\n",
       "    </tr>\n",
       "    <tr>\n",
       "      <th>26670</th>\n",
       "      <td>5342</td>\n",
       "      <td>12/31/2011 0:00</td>\n",
       "      <td>06/11/1971</td>\n",
       "      <td>07/04/2001</td>\n",
       "      <td>01/01/1900</td>\n",
       "      <td>40</td>\n",
       "      <td>10</td>\n",
       "      <td>Netherlands</td>\n",
       "      <td>Dairy</td>\n",
       "      <td>Dairy Person</td>\n",
       "      <td>18</td>\n",
       "      <td>F</td>\n",
       "      <td>Female</td>\n",
       "      <td>Not Applicable</td>\n",
       "      <td>Not Applicable</td>\n",
       "      <td>2011</td>\n",
       "      <td>ACTIVE</td>\n",
       "      <td>STORES</td>\n",
       "    </tr>\n",
       "    <tr>\n",
       "      <th>46912</th>\n",
       "      <td>7925</td>\n",
       "      <td>12/31/2012 0:00</td>\n",
       "      <td>9/27/1991</td>\n",
       "      <td>3/22/2012</td>\n",
       "      <td>01/01/1900</td>\n",
       "      <td>21</td>\n",
       "      <td>0</td>\n",
       "      <td>Italy</td>\n",
       "      <td>Customer Service</td>\n",
       "      <td>Cashier</td>\n",
       "      <td>21</td>\n",
       "      <td>M</td>\n",
       "      <td>Male</td>\n",
       "      <td>Not Applicable</td>\n",
       "      <td>Not Applicable</td>\n",
       "      <td>2012</td>\n",
       "      <td>ACTIVE</td>\n",
       "      <td>STORES</td>\n",
       "    </tr>\n",
       "    <tr>\n",
       "      <th>30591</th>\n",
       "      <td>5760</td>\n",
       "      <td>12/31/2009 0:00</td>\n",
       "      <td>9/30/1974</td>\n",
       "      <td>04/02/2003</td>\n",
       "      <td>01/01/1900</td>\n",
       "      <td>35</td>\n",
       "      <td>6</td>\n",
       "      <td>Italy</td>\n",
       "      <td>Dairy</td>\n",
       "      <td>Dairy Person</td>\n",
       "      <td>21</td>\n",
       "      <td>M</td>\n",
       "      <td>Male</td>\n",
       "      <td>Not Applicable</td>\n",
       "      <td>Not Applicable</td>\n",
       "      <td>2009</td>\n",
       "      <td>ACTIVE</td>\n",
       "      <td>STORES</td>\n",
       "    </tr>\n",
       "    <tr>\n",
       "      <th>21728</th>\n",
       "      <td>4754</td>\n",
       "      <td>12/31/2008 0:00</td>\n",
       "      <td>08/08/1967</td>\n",
       "      <td>6/24/1999</td>\n",
       "      <td>01/01/1900</td>\n",
       "      <td>41</td>\n",
       "      <td>9</td>\n",
       "      <td>Germany</td>\n",
       "      <td>Processed Foods</td>\n",
       "      <td>Shelf Stocker</td>\n",
       "      <td>42</td>\n",
       "      <td>M</td>\n",
       "      <td>Male</td>\n",
       "      <td>Not Applicable</td>\n",
       "      <td>Not Applicable</td>\n",
       "      <td>2008</td>\n",
       "      <td>ACTIVE</td>\n",
       "      <td>STORES</td>\n",
       "    </tr>\n",
       "    <tr>\n",
       "      <th>17532</th>\n",
       "      <td>4180</td>\n",
       "      <td>12/31/2009 0:00</td>\n",
       "      <td>05/09/1964</td>\n",
       "      <td>10/05/1997</td>\n",
       "      <td>01/01/1900</td>\n",
       "      <td>45</td>\n",
       "      <td>12</td>\n",
       "      <td>Slovenia</td>\n",
       "      <td>Produce</td>\n",
       "      <td>Produce Clerk</td>\n",
       "      <td>2</td>\n",
       "      <td>F</td>\n",
       "      <td>Female</td>\n",
       "      <td>Not Applicable</td>\n",
       "      <td>Not Applicable</td>\n",
       "      <td>2009</td>\n",
       "      <td>ACTIVE</td>\n",
       "      <td>STORES</td>\n",
       "    </tr>\n",
       "    <tr>\n",
       "      <th>30113</th>\n",
       "      <td>5710</td>\n",
       "      <td>12/31/2013 0:00</td>\n",
       "      <td>05/06/1974</td>\n",
       "      <td>1/14/2003</td>\n",
       "      <td>01/01/1900</td>\n",
       "      <td>39</td>\n",
       "      <td>10</td>\n",
       "      <td>Norway</td>\n",
       "      <td>Bakery</td>\n",
       "      <td>Baker</td>\n",
       "      <td>8</td>\n",
       "      <td>M</td>\n",
       "      <td>Male</td>\n",
       "      <td>Not Applicable</td>\n",
       "      <td>Not Applicable</td>\n",
       "      <td>2013</td>\n",
       "      <td>ACTIVE</td>\n",
       "      <td>STORES</td>\n",
       "    </tr>\n",
       "  </tbody>\n",
       "</table>\n",
       "</div>"
      ],
      "text/plain": [
       "       EmployeeID   recorddate_key birthdate_key orighiredate_key  \\\n",
       "16116        3972  12/31/2009 0:00     3/15/1963        2/25/1997   \n",
       "1904         1767  12/31/2012 0:00    06/02/1951       12/06/1990   \n",
       "39844        6749  12/31/2012 0:00    10/09/1982        6/28/2007   \n",
       "29274        5621  12/31/2011 0:00    08/07/1973        8/24/2002   \n",
       "26670        5342  12/31/2011 0:00    06/11/1971       07/04/2001   \n",
       "46912        7925  12/31/2012 0:00     9/27/1991        3/22/2012   \n",
       "30591        5760  12/31/2009 0:00     9/30/1974       04/02/2003   \n",
       "21728        4754  12/31/2008 0:00    08/08/1967        6/24/1999   \n",
       "17532        4180  12/31/2009 0:00    05/09/1964       10/05/1997   \n",
       "30113        5710  12/31/2013 0:00    05/06/1974        1/14/2003   \n",
       "\n",
       "      terminationdate_key  age  length_of_service         country  \\\n",
       "16116          01/01/1900   46                 12         Denmark   \n",
       "1904           01/01/1900   61                 22         Germany   \n",
       "39844          01/01/1900   30                  5  United Kingdom   \n",
       "29274          01/01/1900   38                  9         Hungary   \n",
       "26670          01/01/1900   40                 10     Netherlands   \n",
       "46912          01/01/1900   21                  0           Italy   \n",
       "30591          01/01/1900   35                  6           Italy   \n",
       "21728          01/01/1900   41                  9         Germany   \n",
       "17532          01/01/1900   45                 12        Slovenia   \n",
       "30113          01/01/1900   39                 10          Norway   \n",
       "\n",
       "        department_name       job_title  store_name gender_short gender_full  \\\n",
       "16116           Produce   Produce Clerk          17            F      Female   \n",
       "1904             Bakery  Bakery Manager          44            M        Male   \n",
       "39844   Processed Foods   Shelf Stocker          31            F      Female   \n",
       "29274             Dairy    Dairy Person          26            F      Female   \n",
       "26670             Dairy    Dairy Person          18            F      Female   \n",
       "46912  Customer Service         Cashier          21            M        Male   \n",
       "30591             Dairy    Dairy Person          21            M        Male   \n",
       "21728   Processed Foods   Shelf Stocker          42            M        Male   \n",
       "17532           Produce   Produce Clerk           2            F      Female   \n",
       "30113            Bakery           Baker           8            M        Male   \n",
       "\n",
       "      termreason_desc   termtype_desc  STATUS_YEAR  STATUS BUSINESS_UNIT  \n",
       "16116  Not Applicable  Not Applicable         2009  ACTIVE        STORES  \n",
       "1904   Not Applicable  Not Applicable         2012  ACTIVE        STORES  \n",
       "39844  Not Applicable  Not Applicable         2012  ACTIVE        STORES  \n",
       "29274  Not Applicable  Not Applicable         2011  ACTIVE        STORES  \n",
       "26670  Not Applicable  Not Applicable         2011  ACTIVE        STORES  \n",
       "46912  Not Applicable  Not Applicable         2012  ACTIVE        STORES  \n",
       "30591  Not Applicable  Not Applicable         2009  ACTIVE        STORES  \n",
       "21728  Not Applicable  Not Applicable         2008  ACTIVE        STORES  \n",
       "17532  Not Applicable  Not Applicable         2009  ACTIVE        STORES  \n",
       "30113  Not Applicable  Not Applicable         2013  ACTIVE        STORES  "
      ]
     },
     "execution_count": 4,
     "metadata": {},
     "output_type": "execute_result"
    }
   ],
   "source": [
    "#checking output\n",
    "print('Sample of attrition data set')\n",
    "df.sample(10)"
   ]
  },
  {
   "cell_type": "code",
   "execution_count": 5,
   "id": "4ff8c697",
   "metadata": {},
   "outputs": [
    {
     "name": "stdout",
     "output_type": "stream",
     "text": [
      "Number of rows and columns in data set\n"
     ]
    },
    {
     "data": {
      "text/plain": [
       "(49653, 18)"
      ]
     },
     "execution_count": 5,
     "metadata": {},
     "output_type": "execute_result"
    }
   ],
   "source": [
    "print('Number of rows and columns in data set')\n",
    "df.shape"
   ]
  },
  {
   "cell_type": "markdown",
   "id": "8ddfe5a3",
   "metadata": {},
   "source": [
    "**Initial Observations**"
   ]
  },
  {
   "cell_type": "markdown",
   "id": "f5b9c183",
   "metadata": {},
   "source": [
    "The dataset is 49,653 rows and has 18 columns. The variables cover things such as country location, department, gender, and whether or not they are still employed at our company."
   ]
  },
  {
   "cell_type": "markdown",
   "id": "38ff2181",
   "metadata": {},
   "source": [
    "# 2. Exploratory Data Analysis"
   ]
  },
  {
   "cell_type": "markdown",
   "id": "2051aab2",
   "metadata": {},
   "source": [
    "Conducting some initial exploratory analysis to understand the data frame. "
   ]
  },
  {
   "cell_type": "code",
   "execution_count": 6,
   "id": "83b14dff",
   "metadata": {},
   "outputs": [
    {
     "data": {
      "text/html": [
       "<div>\n",
       "<style scoped>\n",
       "    .dataframe tbody tr th:only-of-type {\n",
       "        vertical-align: middle;\n",
       "    }\n",
       "\n",
       "    .dataframe tbody tr th {\n",
       "        vertical-align: top;\n",
       "    }\n",
       "\n",
       "    .dataframe thead th {\n",
       "        text-align: right;\n",
       "    }\n",
       "</style>\n",
       "<table border=\"1\" class=\"dataframe\">\n",
       "  <thead>\n",
       "    <tr style=\"text-align: right;\">\n",
       "      <th></th>\n",
       "      <th>EmployeeID</th>\n",
       "      <th>recorddate_key</th>\n",
       "      <th>birthdate_key</th>\n",
       "      <th>orighiredate_key</th>\n",
       "      <th>terminationdate_key</th>\n",
       "      <th>age</th>\n",
       "      <th>length_of_service</th>\n",
       "      <th>country</th>\n",
       "      <th>department_name</th>\n",
       "      <th>job_title</th>\n",
       "      <th>store_name</th>\n",
       "      <th>gender_short</th>\n",
       "      <th>gender_full</th>\n",
       "      <th>termreason_desc</th>\n",
       "      <th>termtype_desc</th>\n",
       "      <th>STATUS_YEAR</th>\n",
       "      <th>STATUS</th>\n",
       "      <th>BUSINESS_UNIT</th>\n",
       "    </tr>\n",
       "  </thead>\n",
       "  <tbody>\n",
       "    <tr>\n",
       "      <th>0</th>\n",
       "      <td>1318</td>\n",
       "      <td>12/31/2006 0:00</td>\n",
       "      <td>01/03/1954</td>\n",
       "      <td>8/28/1989</td>\n",
       "      <td>01/01/1900</td>\n",
       "      <td>52</td>\n",
       "      <td>17</td>\n",
       "      <td>Germany</td>\n",
       "      <td>Executive</td>\n",
       "      <td>CEO</td>\n",
       "      <td>35</td>\n",
       "      <td>M</td>\n",
       "      <td>Male</td>\n",
       "      <td>Not Applicable</td>\n",
       "      <td>Not Applicable</td>\n",
       "      <td>2006</td>\n",
       "      <td>ACTIVE</td>\n",
       "      <td>HEADOFFICE</td>\n",
       "    </tr>\n",
       "    <tr>\n",
       "      <th>1</th>\n",
       "      <td>1318</td>\n",
       "      <td>12/31/2007 0:00</td>\n",
       "      <td>01/03/1954</td>\n",
       "      <td>8/28/1989</td>\n",
       "      <td>01/01/1900</td>\n",
       "      <td>53</td>\n",
       "      <td>18</td>\n",
       "      <td>Germany</td>\n",
       "      <td>Executive</td>\n",
       "      <td>CEO</td>\n",
       "      <td>35</td>\n",
       "      <td>M</td>\n",
       "      <td>Male</td>\n",
       "      <td>Not Applicable</td>\n",
       "      <td>Not Applicable</td>\n",
       "      <td>2007</td>\n",
       "      <td>ACTIVE</td>\n",
       "      <td>HEADOFFICE</td>\n",
       "    </tr>\n",
       "    <tr>\n",
       "      <th>2</th>\n",
       "      <td>1318</td>\n",
       "      <td>12/31/2008 0:00</td>\n",
       "      <td>01/03/1954</td>\n",
       "      <td>8/28/1989</td>\n",
       "      <td>01/01/1900</td>\n",
       "      <td>54</td>\n",
       "      <td>19</td>\n",
       "      <td>Germany</td>\n",
       "      <td>Executive</td>\n",
       "      <td>CEO</td>\n",
       "      <td>35</td>\n",
       "      <td>M</td>\n",
       "      <td>Male</td>\n",
       "      <td>Not Applicable</td>\n",
       "      <td>Not Applicable</td>\n",
       "      <td>2008</td>\n",
       "      <td>ACTIVE</td>\n",
       "      <td>HEADOFFICE</td>\n",
       "    </tr>\n",
       "    <tr>\n",
       "      <th>3</th>\n",
       "      <td>1318</td>\n",
       "      <td>12/31/2009 0:00</td>\n",
       "      <td>01/03/1954</td>\n",
       "      <td>8/28/1989</td>\n",
       "      <td>01/01/1900</td>\n",
       "      <td>55</td>\n",
       "      <td>20</td>\n",
       "      <td>Germany</td>\n",
       "      <td>Executive</td>\n",
       "      <td>CEO</td>\n",
       "      <td>35</td>\n",
       "      <td>M</td>\n",
       "      <td>Male</td>\n",
       "      <td>Not Applicable</td>\n",
       "      <td>Not Applicable</td>\n",
       "      <td>2009</td>\n",
       "      <td>ACTIVE</td>\n",
       "      <td>HEADOFFICE</td>\n",
       "    </tr>\n",
       "    <tr>\n",
       "      <th>4</th>\n",
       "      <td>1318</td>\n",
       "      <td>12/31/2010 0:00</td>\n",
       "      <td>01/03/1954</td>\n",
       "      <td>8/28/1989</td>\n",
       "      <td>01/01/1900</td>\n",
       "      <td>56</td>\n",
       "      <td>21</td>\n",
       "      <td>Germany</td>\n",
       "      <td>Executive</td>\n",
       "      <td>CEO</td>\n",
       "      <td>35</td>\n",
       "      <td>M</td>\n",
       "      <td>Male</td>\n",
       "      <td>Not Applicable</td>\n",
       "      <td>Not Applicable</td>\n",
       "      <td>2010</td>\n",
       "      <td>ACTIVE</td>\n",
       "      <td>HEADOFFICE</td>\n",
       "    </tr>\n",
       "  </tbody>\n",
       "</table>\n",
       "</div>"
      ],
      "text/plain": [
       "   EmployeeID   recorddate_key birthdate_key orighiredate_key  \\\n",
       "0        1318  12/31/2006 0:00    01/03/1954        8/28/1989   \n",
       "1        1318  12/31/2007 0:00    01/03/1954        8/28/1989   \n",
       "2        1318  12/31/2008 0:00    01/03/1954        8/28/1989   \n",
       "3        1318  12/31/2009 0:00    01/03/1954        8/28/1989   \n",
       "4        1318  12/31/2010 0:00    01/03/1954        8/28/1989   \n",
       "\n",
       "  terminationdate_key  age  length_of_service  country department_name  \\\n",
       "0          01/01/1900   52                 17  Germany       Executive   \n",
       "1          01/01/1900   53                 18  Germany       Executive   \n",
       "2          01/01/1900   54                 19  Germany       Executive   \n",
       "3          01/01/1900   55                 20  Germany       Executive   \n",
       "4          01/01/1900   56                 21  Germany       Executive   \n",
       "\n",
       "  job_title  store_name gender_short gender_full termreason_desc  \\\n",
       "0       CEO          35            M        Male  Not Applicable   \n",
       "1       CEO          35            M        Male  Not Applicable   \n",
       "2       CEO          35            M        Male  Not Applicable   \n",
       "3       CEO          35            M        Male  Not Applicable   \n",
       "4       CEO          35            M        Male  Not Applicable   \n",
       "\n",
       "    termtype_desc  STATUS_YEAR  STATUS BUSINESS_UNIT  \n",
       "0  Not Applicable         2006  ACTIVE    HEADOFFICE  \n",
       "1  Not Applicable         2007  ACTIVE    HEADOFFICE  \n",
       "2  Not Applicable         2008  ACTIVE    HEADOFFICE  \n",
       "3  Not Applicable         2009  ACTIVE    HEADOFFICE  \n",
       "4  Not Applicable         2010  ACTIVE    HEADOFFICE  "
      ]
     },
     "execution_count": 6,
     "metadata": {},
     "output_type": "execute_result"
    }
   ],
   "source": [
    "df.head(5)"
   ]
  },
  {
   "cell_type": "code",
   "execution_count": 7,
   "id": "19200028",
   "metadata": {},
   "outputs": [
    {
     "data": {
      "text/html": [
       "<div>\n",
       "<style scoped>\n",
       "    .dataframe tbody tr th:only-of-type {\n",
       "        vertical-align: middle;\n",
       "    }\n",
       "\n",
       "    .dataframe tbody tr th {\n",
       "        vertical-align: top;\n",
       "    }\n",
       "\n",
       "    .dataframe thead th {\n",
       "        text-align: right;\n",
       "    }\n",
       "</style>\n",
       "<table border=\"1\" class=\"dataframe\">\n",
       "  <thead>\n",
       "    <tr style=\"text-align: right;\">\n",
       "      <th></th>\n",
       "      <th>EmployeeID</th>\n",
       "      <th>recorddate_key</th>\n",
       "      <th>birthdate_key</th>\n",
       "      <th>orighiredate_key</th>\n",
       "      <th>terminationdate_key</th>\n",
       "      <th>age</th>\n",
       "      <th>length_of_service</th>\n",
       "      <th>country</th>\n",
       "      <th>department_name</th>\n",
       "      <th>job_title</th>\n",
       "      <th>store_name</th>\n",
       "      <th>gender_short</th>\n",
       "      <th>gender_full</th>\n",
       "      <th>termreason_desc</th>\n",
       "      <th>termtype_desc</th>\n",
       "      <th>STATUS_YEAR</th>\n",
       "      <th>STATUS</th>\n",
       "      <th>BUSINESS_UNIT</th>\n",
       "    </tr>\n",
       "  </thead>\n",
       "  <tbody>\n",
       "    <tr>\n",
       "      <th>49648</th>\n",
       "      <td>8258</td>\n",
       "      <td>12/01/2015 00:00</td>\n",
       "      <td>5/28/1994</td>\n",
       "      <td>8/19/2013</td>\n",
       "      <td>12/30/2015</td>\n",
       "      <td>21</td>\n",
       "      <td>2</td>\n",
       "      <td>Andorra</td>\n",
       "      <td>Dairy</td>\n",
       "      <td>Dairy Person</td>\n",
       "      <td>34</td>\n",
       "      <td>M</td>\n",
       "      <td>Male</td>\n",
       "      <td>Layoff</td>\n",
       "      <td>Involuntary</td>\n",
       "      <td>2015</td>\n",
       "      <td>TERMINATED</td>\n",
       "      <td>STORES</td>\n",
       "    </tr>\n",
       "    <tr>\n",
       "      <th>49649</th>\n",
       "      <td>8264</td>\n",
       "      <td>08/01/2013 00:00</td>\n",
       "      <td>6/13/1994</td>\n",
       "      <td>8/27/2013</td>\n",
       "      <td>8/30/2013</td>\n",
       "      <td>19</td>\n",
       "      <td>0</td>\n",
       "      <td>Germany</td>\n",
       "      <td>Customer Service</td>\n",
       "      <td>Cashier</td>\n",
       "      <td>44</td>\n",
       "      <td>F</td>\n",
       "      <td>Female</td>\n",
       "      <td>Resignaton</td>\n",
       "      <td>Voluntary</td>\n",
       "      <td>2013</td>\n",
       "      <td>TERMINATED</td>\n",
       "      <td>STORES</td>\n",
       "    </tr>\n",
       "    <tr>\n",
       "      <th>49650</th>\n",
       "      <td>8279</td>\n",
       "      <td>12/01/2015 00:00</td>\n",
       "      <td>7/18/1994</td>\n",
       "      <td>9/15/2013</td>\n",
       "      <td>12/30/2015</td>\n",
       "      <td>21</td>\n",
       "      <td>2</td>\n",
       "      <td>Slovakia</td>\n",
       "      <td>Customer Service</td>\n",
       "      <td>Cashier</td>\n",
       "      <td>39</td>\n",
       "      <td>F</td>\n",
       "      <td>Female</td>\n",
       "      <td>Layoff</td>\n",
       "      <td>Involuntary</td>\n",
       "      <td>2015</td>\n",
       "      <td>TERMINATED</td>\n",
       "      <td>STORES</td>\n",
       "    </tr>\n",
       "    <tr>\n",
       "      <th>49651</th>\n",
       "      <td>8296</td>\n",
       "      <td>12/01/2013 00:00</td>\n",
       "      <td>09/02/1994</td>\n",
       "      <td>10/09/2013</td>\n",
       "      <td>12/31/2013</td>\n",
       "      <td>19</td>\n",
       "      <td>0</td>\n",
       "      <td>Romania</td>\n",
       "      <td>Customer Service</td>\n",
       "      <td>Cashier</td>\n",
       "      <td>16</td>\n",
       "      <td>F</td>\n",
       "      <td>Female</td>\n",
       "      <td>Resignaton</td>\n",
       "      <td>Voluntary</td>\n",
       "      <td>2013</td>\n",
       "      <td>TERMINATED</td>\n",
       "      <td>STORES</td>\n",
       "    </tr>\n",
       "    <tr>\n",
       "      <th>49652</th>\n",
       "      <td>8321</td>\n",
       "      <td>12/01/2014 00:00</td>\n",
       "      <td>11/28/1994</td>\n",
       "      <td>11/24/2013</td>\n",
       "      <td>12/30/2014</td>\n",
       "      <td>20</td>\n",
       "      <td>1</td>\n",
       "      <td>Greece</td>\n",
       "      <td>Customer Service</td>\n",
       "      <td>Cashier</td>\n",
       "      <td>13</td>\n",
       "      <td>F</td>\n",
       "      <td>Female</td>\n",
       "      <td>Layoff</td>\n",
       "      <td>Involuntary</td>\n",
       "      <td>2014</td>\n",
       "      <td>TERMINATED</td>\n",
       "      <td>STORES</td>\n",
       "    </tr>\n",
       "  </tbody>\n",
       "</table>\n",
       "</div>"
      ],
      "text/plain": [
       "       EmployeeID    recorddate_key birthdate_key orighiredate_key  \\\n",
       "49648        8258  12/01/2015 00:00     5/28/1994        8/19/2013   \n",
       "49649        8264  08/01/2013 00:00     6/13/1994        8/27/2013   \n",
       "49650        8279  12/01/2015 00:00     7/18/1994        9/15/2013   \n",
       "49651        8296  12/01/2013 00:00    09/02/1994       10/09/2013   \n",
       "49652        8321  12/01/2014 00:00    11/28/1994       11/24/2013   \n",
       "\n",
       "      terminationdate_key  age  length_of_service   country   department_name  \\\n",
       "49648          12/30/2015   21                  2   Andorra             Dairy   \n",
       "49649           8/30/2013   19                  0   Germany  Customer Service   \n",
       "49650          12/30/2015   21                  2  Slovakia  Customer Service   \n",
       "49651          12/31/2013   19                  0   Romania  Customer Service   \n",
       "49652          12/30/2014   20                  1    Greece  Customer Service   \n",
       "\n",
       "          job_title  store_name gender_short gender_full termreason_desc  \\\n",
       "49648  Dairy Person          34            M        Male          Layoff   \n",
       "49649       Cashier          44            F      Female      Resignaton   \n",
       "49650       Cashier          39            F      Female          Layoff   \n",
       "49651       Cashier          16            F      Female      Resignaton   \n",
       "49652       Cashier          13            F      Female          Layoff   \n",
       "\n",
       "      termtype_desc  STATUS_YEAR      STATUS BUSINESS_UNIT  \n",
       "49648   Involuntary         2015  TERMINATED        STORES  \n",
       "49649     Voluntary         2013  TERMINATED        STORES  \n",
       "49650   Involuntary         2015  TERMINATED        STORES  \n",
       "49651     Voluntary         2013  TERMINATED        STORES  \n",
       "49652   Involuntary         2014  TERMINATED        STORES  "
      ]
     },
     "execution_count": 7,
     "metadata": {},
     "output_type": "execute_result"
    }
   ],
   "source": [
    "df.tail(5)"
   ]
  },
  {
   "cell_type": "code",
   "execution_count": 8,
   "id": "5b3218bd",
   "metadata": {},
   "outputs": [
    {
     "data": {
      "text/html": [
       "<div>\n",
       "<style scoped>\n",
       "    .dataframe tbody tr th:only-of-type {\n",
       "        vertical-align: middle;\n",
       "    }\n",
       "\n",
       "    .dataframe tbody tr th {\n",
       "        vertical-align: top;\n",
       "    }\n",
       "\n",
       "    .dataframe thead th {\n",
       "        text-align: right;\n",
       "    }\n",
       "</style>\n",
       "<table border=\"1\" class=\"dataframe\">\n",
       "  <thead>\n",
       "    <tr style=\"text-align: right;\">\n",
       "      <th></th>\n",
       "      <th>EmployeeID</th>\n",
       "      <th>age</th>\n",
       "      <th>length_of_service</th>\n",
       "      <th>store_name</th>\n",
       "      <th>STATUS_YEAR</th>\n",
       "    </tr>\n",
       "  </thead>\n",
       "  <tbody>\n",
       "    <tr>\n",
       "      <th>count</th>\n",
       "      <td>49653.000000</td>\n",
       "      <td>49653.000000</td>\n",
       "      <td>49653.000000</td>\n",
       "      <td>49653.000000</td>\n",
       "      <td>49653.000000</td>\n",
       "    </tr>\n",
       "    <tr>\n",
       "      <th>mean</th>\n",
       "      <td>4859.495740</td>\n",
       "      <td>42.077035</td>\n",
       "      <td>10.434596</td>\n",
       "      <td>27.297605</td>\n",
       "      <td>2010.612612</td>\n",
       "    </tr>\n",
       "    <tr>\n",
       "      <th>std</th>\n",
       "      <td>1826.571142</td>\n",
       "      <td>12.427257</td>\n",
       "      <td>6.325286</td>\n",
       "      <td>13.514134</td>\n",
       "      <td>2.845577</td>\n",
       "    </tr>\n",
       "    <tr>\n",
       "      <th>min</th>\n",
       "      <td>1318.000000</td>\n",
       "      <td>19.000000</td>\n",
       "      <td>0.000000</td>\n",
       "      <td>1.000000</td>\n",
       "      <td>2006.000000</td>\n",
       "    </tr>\n",
       "    <tr>\n",
       "      <th>25%</th>\n",
       "      <td>3360.000000</td>\n",
       "      <td>31.000000</td>\n",
       "      <td>5.000000</td>\n",
       "      <td>16.000000</td>\n",
       "      <td>2008.000000</td>\n",
       "    </tr>\n",
       "    <tr>\n",
       "      <th>50%</th>\n",
       "      <td>5031.000000</td>\n",
       "      <td>42.000000</td>\n",
       "      <td>10.000000</td>\n",
       "      <td>28.000000</td>\n",
       "      <td>2011.000000</td>\n",
       "    </tr>\n",
       "    <tr>\n",
       "      <th>75%</th>\n",
       "      <td>6335.000000</td>\n",
       "      <td>53.000000</td>\n",
       "      <td>15.000000</td>\n",
       "      <td>42.000000</td>\n",
       "      <td>2013.000000</td>\n",
       "    </tr>\n",
       "    <tr>\n",
       "      <th>max</th>\n",
       "      <td>8336.000000</td>\n",
       "      <td>65.000000</td>\n",
       "      <td>26.000000</td>\n",
       "      <td>46.000000</td>\n",
       "      <td>2015.000000</td>\n",
       "    </tr>\n",
       "  </tbody>\n",
       "</table>\n",
       "</div>"
      ],
      "text/plain": [
       "         EmployeeID           age  length_of_service    store_name  \\\n",
       "count  49653.000000  49653.000000       49653.000000  49653.000000   \n",
       "mean    4859.495740     42.077035          10.434596     27.297605   \n",
       "std     1826.571142     12.427257           6.325286     13.514134   \n",
       "min     1318.000000     19.000000           0.000000      1.000000   \n",
       "25%     3360.000000     31.000000           5.000000     16.000000   \n",
       "50%     5031.000000     42.000000          10.000000     28.000000   \n",
       "75%     6335.000000     53.000000          15.000000     42.000000   \n",
       "max     8336.000000     65.000000          26.000000     46.000000   \n",
       "\n",
       "        STATUS_YEAR  \n",
       "count  49653.000000  \n",
       "mean    2010.612612  \n",
       "std        2.845577  \n",
       "min     2006.000000  \n",
       "25%     2008.000000  \n",
       "50%     2011.000000  \n",
       "75%     2013.000000  \n",
       "max     2015.000000  "
      ]
     },
     "execution_count": 8,
     "metadata": {},
     "output_type": "execute_result"
    }
   ],
   "source": [
    "df.describe()"
   ]
  },
  {
   "cell_type": "markdown",
   "id": "114bfd4d",
   "metadata": {},
   "source": [
    "**Observations:** no outliers observed. Only _age_ and _length of service_ are true quantitative variables. The mean of _length of service_ is less than the median, but that is unsurprising given that it's less likely now for employees to remain at companies for significant periods of time. "
   ]
  },
  {
   "cell_type": "code",
   "execution_count": 9,
   "id": "a4fbe0f2",
   "metadata": {},
   "outputs": [
    {
     "name": "stdout",
     "output_type": "stream",
     "text": [
      "<class 'pandas.core.frame.DataFrame'>\n",
      "RangeIndex: 49653 entries, 0 to 49652\n",
      "Data columns (total 18 columns):\n",
      " #   Column               Non-Null Count  Dtype \n",
      "---  ------               --------------  ----- \n",
      " 0   EmployeeID           49653 non-null  int64 \n",
      " 1   recorddate_key       49653 non-null  object\n",
      " 2   birthdate_key        49653 non-null  object\n",
      " 3   orighiredate_key     49653 non-null  object\n",
      " 4   terminationdate_key  49653 non-null  object\n",
      " 5   age                  49653 non-null  int64 \n",
      " 6   length_of_service    49653 non-null  int64 \n",
      " 7   country              49653 non-null  object\n",
      " 8   department_name      49653 non-null  object\n",
      " 9   job_title            49653 non-null  object\n",
      " 10  store_name           49653 non-null  int64 \n",
      " 11  gender_short         49653 non-null  object\n",
      " 12  gender_full          49653 non-null  object\n",
      " 13  termreason_desc      49653 non-null  object\n",
      " 14  termtype_desc        49653 non-null  object\n",
      " 15  STATUS_YEAR          49653 non-null  int64 \n",
      " 16  STATUS               49653 non-null  object\n",
      " 17  BUSINESS_UNIT        49653 non-null  object\n",
      "dtypes: int64(5), object(13)\n",
      "memory usage: 6.8+ MB\n"
     ]
    }
   ],
   "source": [
    "#look at the shape and size of our dataset\n",
    "df.info()"
   ]
  },
  {
   "cell_type": "code",
   "execution_count": 10,
   "id": "2a404687",
   "metadata": {},
   "outputs": [
    {
     "data": {
      "text/plain": [
       "01/01/1900    42450\n",
       "12/30/2014     1079\n",
       "12/30/2015      674\n",
       "12/30/2010       25\n",
       "11/11/2012       21\n",
       "              ...  \n",
       "11/13/2006        1\n",
       "10/31/2006        1\n",
       "10/30/2006        1\n",
       "10/03/2006        1\n",
       "9/14/2013         1\n",
       "Name: terminationdate_key, Length: 1055, dtype: int64"
      ]
     },
     "execution_count": 10,
     "metadata": {},
     "output_type": "execute_result"
    }
   ],
   "source": [
    "df['terminationdate_key'].value_counts()"
   ]
  },
  {
   "cell_type": "markdown",
   "id": "9bd52747",
   "metadata": {},
   "source": [
    "**Overall observations:** \n",
    " 1. The dataset is of a reasonable size, only 6.8+ MB. \n",
    " 2. We have a mix of numeric and string variables, although all numeric values are integers. That being said, we appear to have some date keys which are returned as string values, however, these may need to be changed to datetime values if we need them for our analyses. \n",
    " 3. We have no null values. \n",
    " 4. There are a couple of variables which contain similar information, for example, *orighiredate_key* and *length_of_service*, and *gender_short* and *gender_full*. It is likely that I will only need to keep *length_of_service* and *gender_short*. \n",
    " 5. *store_name* is given as a numeric variable. \n",
    " 6. *terminationdate_key*, *termreason_desc*, *termtype_desc*, and *STATUS* all provide different details about the termination status of an employee. *terminationdate_key* has 42450 keys categorised to 1/1/1900 which I believe is being used an indication that the employee has not yet been terminated. \n"
   ]
  },
  {
   "cell_type": "markdown",
   "id": "edde16ba",
   "metadata": {},
   "source": [
    "# 3. Addressing our dataset"
   ]
  },
  {
   "cell_type": "markdown",
   "id": "6ad8b00c",
   "metadata": {},
   "source": [
    "## A. Wrangling"
   ]
  },
  {
   "cell_type": "markdown",
   "id": "82788fa0",
   "metadata": {},
   "source": [
    "### Approach to data wrangling \n",
    " \n",
    "   1. Check data types of columns to ensure they are correct and appropriate for the type of data collected\n",
    "   2. Amend any spelling and syntactical errors in the column titles. This will include use of capital and lowercase letters, and use of underscores and spaces. \n",
    "   3. Investigating naming conventions\n",
    "   4. Look at whether we need to drop any columns "
   ]
  },
  {
   "cell_type": "markdown",
   "id": "5faf666c",
   "metadata": {},
   "source": [
    "##### 1. Amending datatypes"
   ]
  },
  {
   "cell_type": "markdown",
   "id": "f11b39b1",
   "metadata": {},
   "source": [
    "I will be amending the datatypes for some of the numeric variables in order to avoid any memory issues later on in this project."
   ]
  },
  {
   "cell_type": "code",
   "execution_count": 11,
   "id": "c770a026",
   "metadata": {},
   "outputs": [
    {
     "data": {
      "text/plain": [
       "EmployeeID              int64\n",
       "recorddate_key         object\n",
       "birthdate_key          object\n",
       "orighiredate_key       object\n",
       "terminationdate_key    object\n",
       "age                     int64\n",
       "length_of_service       int64\n",
       "country                object\n",
       "department_name        object\n",
       "job_title              object\n",
       "store_name              int64\n",
       "gender_short           object\n",
       "gender_full            object\n",
       "termreason_desc        object\n",
       "termtype_desc          object\n",
       "STATUS_YEAR             int64\n",
       "STATUS                 object\n",
       "BUSINESS_UNIT          object\n",
       "dtype: object"
      ]
     },
     "execution_count": 11,
     "metadata": {},
     "output_type": "execute_result"
    }
   ],
   "source": [
    "df.dtypes"
   ]
  },
  {
   "cell_type": "code",
   "execution_count": 12,
   "id": "58b78874",
   "metadata": {},
   "outputs": [],
   "source": [
    "#amending datatype for user_id, age, n_dependents, and income\n",
    "df['EmployeeID']=df['EmployeeID'].astype('int16')\n",
    "df['age'] =df['age'].astype('int8')\n",
    "df['length_of_service'] = df['length_of_service'].astype('int16')\n",
    "df['store_name']=df['store_name'].astype('int8')\n",
    "df['STATUS_YEAR']=df['STATUS_YEAR'].astype('int16')"
   ]
  },
  {
   "cell_type": "code",
   "execution_count": 13,
   "id": "e7b06f56",
   "metadata": {},
   "outputs": [
    {
     "data": {
      "text/plain": [
       "EmployeeID              int16\n",
       "recorddate_key         object\n",
       "birthdate_key          object\n",
       "orighiredate_key       object\n",
       "terminationdate_key    object\n",
       "age                      int8\n",
       "length_of_service       int16\n",
       "country                object\n",
       "department_name        object\n",
       "job_title              object\n",
       "store_name               int8\n",
       "gender_short           object\n",
       "gender_full            object\n",
       "termreason_desc        object\n",
       "termtype_desc          object\n",
       "STATUS_YEAR             int16\n",
       "STATUS                 object\n",
       "BUSINESS_UNIT          object\n",
       "dtype: object"
      ]
     },
     "execution_count": 13,
     "metadata": {},
     "output_type": "execute_result"
    }
   ],
   "source": [
    "df.dtypes"
   ]
  },
  {
   "cell_type": "markdown",
   "id": "00be022a",
   "metadata": {},
   "source": [
    "##### 2. Amending spelling and syntax errors in columns names"
   ]
  },
  {
   "cell_type": "code",
   "execution_count": 14,
   "id": "bca49f7e",
   "metadata": {},
   "outputs": [],
   "source": [
    "#amending EmployeeID, store_name, STATUS_YEAR, STATUS_YEAR, STATUS, and BUSINESS_UNIT columns\n",
    "df.rename(columns = {'EmployeeID':'employee_id', 'store_name':'store_number', 'STATUS_YEAR':'year_of_record', 'gender_short':'gender', 'STATUS':'employment_status', 'BUSINESS_UNIT':'business_unit'}, inplace = True)"
   ]
  },
  {
   "cell_type": "code",
   "execution_count": 15,
   "id": "8ca6cdd1",
   "metadata": {},
   "outputs": [
    {
     "data": {
      "text/plain": [
       "Index(['employee_id', 'recorddate_key', 'birthdate_key', 'orighiredate_key',\n",
       "       'terminationdate_key', 'age', 'length_of_service', 'country',\n",
       "       'department_name', 'job_title', 'store_number', 'gender', 'gender_full',\n",
       "       'termreason_desc', 'termtype_desc', 'year_of_record',\n",
       "       'employment_status', 'business_unit'],\n",
       "      dtype='object')"
      ]
     },
     "execution_count": 15,
     "metadata": {},
     "output_type": "execute_result"
    }
   ],
   "source": [
    "df.columns"
   ]
  },
  {
   "cell_type": "code",
   "execution_count": 16,
   "id": "ddc4cdbb",
   "metadata": {},
   "outputs": [
    {
     "data": {
      "text/plain": [
       "Index(['employee_id', 'recorddate_key', 'birthdate_key', 'orighiredate_key',\n",
       "       'terminationdate_key', 'age', 'length_of_service', 'country',\n",
       "       'department_name', 'job_title', 'store_number', 'gender', 'gender_full',\n",
       "       'termreason_desc', 'termtype_desc', 'year_of_record',\n",
       "       'employment_status', 'business_unit'],\n",
       "      dtype='object')"
      ]
     },
     "execution_count": 16,
     "metadata": {},
     "output_type": "execute_result"
    }
   ],
   "source": [
    "#removing the space in the column titles  \n",
    "df.columns.str.strip()"
   ]
  },
  {
   "cell_type": "markdown",
   "id": "f5b4cca9",
   "metadata": {},
   "source": [
    "##### 3. Investigating naming conventions"
   ]
  },
  {
   "cell_type": "markdown",
   "id": "4e25ff2d",
   "metadata": {},
   "source": [
    "Looking into whether there are incorrect spellings in some of the columns"
   ]
  },
  {
   "cell_type": "code",
   "execution_count": 17,
   "id": "8927e143",
   "metadata": {},
   "outputs": [
    {
     "data": {
      "text/plain": [
       "Meats                     10269\n",
       "Dairy                      8599\n",
       "Produce                    8515\n",
       "Bakery                     8381\n",
       "Customer Service           7122\n",
       "Processed Foods            5911\n",
       "Store Management            271\n",
       "Executive                   100\n",
       "Recruitment                  72\n",
       "HR Technology                64\n",
       "Accounting                   59\n",
       "Employee Records             44\n",
       "Accounts Receiveable         39\n",
       "Labor Relations              34\n",
       "Accounts Payable             34\n",
       "Training                     30\n",
       "Compensation                 24\n",
       "Audit                        24\n",
       "Investment                   24\n",
       "Information Technology       20\n",
       "Legal                        17\n",
       "Name: department_name, dtype: int64"
      ]
     },
     "execution_count": 17,
     "metadata": {},
     "output_type": "execute_result"
    }
   ],
   "source": [
    "df['department_name'].value_counts()"
   ]
  },
  {
   "cell_type": "markdown",
   "id": "09393480",
   "metadata": {},
   "source": [
    "**Observations:** data returned has no outliers or mispelt entries"
   ]
  },
  {
   "cell_type": "code",
   "execution_count": 18,
   "id": "ed3fdf57",
   "metadata": {},
   "outputs": [
    {
     "data": {
      "text/plain": [
       "F    25898\n",
       "M    23755\n",
       "Name: gender, dtype: int64"
      ]
     },
     "execution_count": 18,
     "metadata": {},
     "output_type": "execute_result"
    }
   ],
   "source": [
    "df['gender'].value_counts()"
   ]
  },
  {
   "cell_type": "markdown",
   "id": "037d9a04",
   "metadata": {},
   "source": [
    "**Observations:** data returned has no outliers or mispelt entries"
   ]
  },
  {
   "cell_type": "code",
   "execution_count": 19,
   "id": "b7cceb25",
   "metadata": {},
   "outputs": [
    {
     "data": {
      "text/plain": [
       "Female    25898\n",
       "Male      23755\n",
       "Name: gender_full, dtype: int64"
      ]
     },
     "execution_count": 19,
     "metadata": {},
     "output_type": "execute_result"
    }
   ],
   "source": [
    "#looking at gender_full variable\n",
    "df['gender_full'].value_counts()"
   ]
  },
  {
   "cell_type": "markdown",
   "id": "811718da",
   "metadata": {},
   "source": [
    "**Observations:** data returned no outliers or mispelt entries"
   ]
  },
  {
   "cell_type": "code",
   "execution_count": 20,
   "id": "0fc26813",
   "metadata": {},
   "outputs": [
    {
     "data": {
      "text/plain": [
       "Not Applicable    48168\n",
       "Retirement          885\n",
       "Resignaton          385\n",
       "Layoff              215\n",
       "Name: termreason_desc, dtype: int64"
      ]
     },
     "execution_count": 20,
     "metadata": {},
     "output_type": "execute_result"
    }
   ],
   "source": [
    "#looking at termination reason variable\n",
    "df['termreason_desc'].value_counts()"
   ]
  },
  {
   "cell_type": "markdown",
   "id": "57dba8cb",
   "metadata": {},
   "source": [
    "**Observations:** data returned no outliers or mispelt entries"
   ]
  },
  {
   "cell_type": "code",
   "execution_count": 21,
   "id": "0fcb12f1",
   "metadata": {},
   "outputs": [
    {
     "data": {
      "text/plain": [
       "Not Applicable    48168\n",
       "Voluntary          1270\n",
       "Involuntary         215\n",
       "Name: termtype_desc, dtype: int64"
      ]
     },
     "execution_count": 21,
     "metadata": {},
     "output_type": "execute_result"
    }
   ],
   "source": [
    "#looking at termination type variable\n",
    "df['termtype_desc'].value_counts()"
   ]
  },
  {
   "cell_type": "markdown",
   "id": "c62eb947",
   "metadata": {},
   "source": [
    "**Observations:** data returned no outliers or mispelt entries"
   ]
  },
  {
   "cell_type": "code",
   "execution_count": 22,
   "id": "1e96c238",
   "metadata": {},
   "outputs": [
    {
     "data": {
      "text/plain": [
       "ACTIVE        48168\n",
       "TERMINATED     1485\n",
       "Name: employment_status, dtype: int64"
      ]
     },
     "execution_count": 22,
     "metadata": {},
     "output_type": "execute_result"
    }
   ],
   "source": [
    "#looking at employment status variable\n",
    "df['employment_status'].value_counts()"
   ]
  },
  {
   "cell_type": "markdown",
   "id": "daa293f9",
   "metadata": {},
   "source": [
    "**Observations:** data returned no outliers or mispelt entries, however, this variable can be categorised to **Boolean** for our analysis. "
   ]
  },
  {
   "cell_type": "code",
   "execution_count": 23,
   "id": "d793c0d7",
   "metadata": {},
   "outputs": [
    {
     "data": {
      "text/plain": [
       "STORES        49068\n",
       "HEADOFFICE      585\n",
       "Name: business_unit, dtype: int64"
      ]
     },
     "execution_count": 23,
     "metadata": {},
     "output_type": "execute_result"
    }
   ],
   "source": [
    "#looking into business unit variable \n",
    "df['business_unit'].value_counts()"
   ]
  },
  {
   "cell_type": "markdown",
   "id": "652e6b5b",
   "metadata": {},
   "source": [
    "**Observations:** data returned no outliers or mispelt entries"
   ]
  },
  {
   "cell_type": "code",
   "execution_count": 24,
   "id": "c1709f85",
   "metadata": {},
   "outputs": [
    {
     "data": {
      "text/plain": [
       "ACTIVE        48168\n",
       "TERMINATED     1485\n",
       "Name: employment_status, dtype: int64"
      ]
     },
     "execution_count": 24,
     "metadata": {},
     "output_type": "execute_result"
    }
   ],
   "source": [
    "#looking at employment status\n",
    "df['employment_status'].value_counts()"
   ]
  },
  {
   "cell_type": "code",
   "execution_count": 25,
   "id": "19f973a0",
   "metadata": {},
   "outputs": [
    {
     "data": {
      "text/plain": [
       "ACTIVE        97.0%\n",
       "TERMINATED     3.0%\n",
       "Name: employment_status, dtype: object"
      ]
     },
     "execution_count": 25,
     "metadata": {},
     "output_type": "execute_result"
    }
   ],
   "source": [
    "df['employment_status'].value_counts(normalize = True).mul(100).round(1).astype(str) + '%'"
   ]
  },
  {
   "cell_type": "markdown",
   "id": "01eee704",
   "metadata": {},
   "source": [
    "**Observations:** data returned no outliers or mispelt entries"
   ]
  },
  {
   "cell_type": "markdown",
   "id": "261d469b",
   "metadata": {},
   "source": [
    "##### 4. Dropping columns"
   ]
  },
  {
   "cell_type": "markdown",
   "id": "9e9fe45d",
   "metadata": {},
   "source": [
    "Investigating whether we need to drop any columns from our dataset. "
   ]
  },
  {
   "cell_type": "code",
   "execution_count": 26,
   "id": "c27b96d7",
   "metadata": {},
   "outputs": [
    {
     "data": {
      "text/html": [
       "<div>\n",
       "<style scoped>\n",
       "    .dataframe tbody tr th:only-of-type {\n",
       "        vertical-align: middle;\n",
       "    }\n",
       "\n",
       "    .dataframe tbody tr th {\n",
       "        vertical-align: top;\n",
       "    }\n",
       "\n",
       "    .dataframe thead th {\n",
       "        text-align: right;\n",
       "    }\n",
       "</style>\n",
       "<table border=\"1\" class=\"dataframe\">\n",
       "  <thead>\n",
       "    <tr style=\"text-align: right;\">\n",
       "      <th></th>\n",
       "      <th>employee_id</th>\n",
       "      <th>recorddate_key</th>\n",
       "      <th>birthdate_key</th>\n",
       "      <th>orighiredate_key</th>\n",
       "      <th>terminationdate_key</th>\n",
       "      <th>age</th>\n",
       "      <th>length_of_service</th>\n",
       "      <th>country</th>\n",
       "      <th>department_name</th>\n",
       "      <th>job_title</th>\n",
       "      <th>store_number</th>\n",
       "      <th>gender</th>\n",
       "      <th>gender_full</th>\n",
       "      <th>termreason_desc</th>\n",
       "      <th>termtype_desc</th>\n",
       "      <th>year_of_record</th>\n",
       "      <th>employment_status</th>\n",
       "      <th>business_unit</th>\n",
       "    </tr>\n",
       "  </thead>\n",
       "  <tbody>\n",
       "    <tr>\n",
       "      <th>0</th>\n",
       "      <td>1318</td>\n",
       "      <td>12/31/2006 0:00</td>\n",
       "      <td>01/03/1954</td>\n",
       "      <td>8/28/1989</td>\n",
       "      <td>01/01/1900</td>\n",
       "      <td>52</td>\n",
       "      <td>17</td>\n",
       "      <td>Germany</td>\n",
       "      <td>Executive</td>\n",
       "      <td>CEO</td>\n",
       "      <td>35</td>\n",
       "      <td>M</td>\n",
       "      <td>Male</td>\n",
       "      <td>Not Applicable</td>\n",
       "      <td>Not Applicable</td>\n",
       "      <td>2006</td>\n",
       "      <td>ACTIVE</td>\n",
       "      <td>HEADOFFICE</td>\n",
       "    </tr>\n",
       "    <tr>\n",
       "      <th>1</th>\n",
       "      <td>1318</td>\n",
       "      <td>12/31/2007 0:00</td>\n",
       "      <td>01/03/1954</td>\n",
       "      <td>8/28/1989</td>\n",
       "      <td>01/01/1900</td>\n",
       "      <td>53</td>\n",
       "      <td>18</td>\n",
       "      <td>Germany</td>\n",
       "      <td>Executive</td>\n",
       "      <td>CEO</td>\n",
       "      <td>35</td>\n",
       "      <td>M</td>\n",
       "      <td>Male</td>\n",
       "      <td>Not Applicable</td>\n",
       "      <td>Not Applicable</td>\n",
       "      <td>2007</td>\n",
       "      <td>ACTIVE</td>\n",
       "      <td>HEADOFFICE</td>\n",
       "    </tr>\n",
       "    <tr>\n",
       "      <th>2</th>\n",
       "      <td>1318</td>\n",
       "      <td>12/31/2008 0:00</td>\n",
       "      <td>01/03/1954</td>\n",
       "      <td>8/28/1989</td>\n",
       "      <td>01/01/1900</td>\n",
       "      <td>54</td>\n",
       "      <td>19</td>\n",
       "      <td>Germany</td>\n",
       "      <td>Executive</td>\n",
       "      <td>CEO</td>\n",
       "      <td>35</td>\n",
       "      <td>M</td>\n",
       "      <td>Male</td>\n",
       "      <td>Not Applicable</td>\n",
       "      <td>Not Applicable</td>\n",
       "      <td>2008</td>\n",
       "      <td>ACTIVE</td>\n",
       "      <td>HEADOFFICE</td>\n",
       "    </tr>\n",
       "    <tr>\n",
       "      <th>3</th>\n",
       "      <td>1318</td>\n",
       "      <td>12/31/2009 0:00</td>\n",
       "      <td>01/03/1954</td>\n",
       "      <td>8/28/1989</td>\n",
       "      <td>01/01/1900</td>\n",
       "      <td>55</td>\n",
       "      <td>20</td>\n",
       "      <td>Germany</td>\n",
       "      <td>Executive</td>\n",
       "      <td>CEO</td>\n",
       "      <td>35</td>\n",
       "      <td>M</td>\n",
       "      <td>Male</td>\n",
       "      <td>Not Applicable</td>\n",
       "      <td>Not Applicable</td>\n",
       "      <td>2009</td>\n",
       "      <td>ACTIVE</td>\n",
       "      <td>HEADOFFICE</td>\n",
       "    </tr>\n",
       "    <tr>\n",
       "      <th>4</th>\n",
       "      <td>1318</td>\n",
       "      <td>12/31/2010 0:00</td>\n",
       "      <td>01/03/1954</td>\n",
       "      <td>8/28/1989</td>\n",
       "      <td>01/01/1900</td>\n",
       "      <td>56</td>\n",
       "      <td>21</td>\n",
       "      <td>Germany</td>\n",
       "      <td>Executive</td>\n",
       "      <td>CEO</td>\n",
       "      <td>35</td>\n",
       "      <td>M</td>\n",
       "      <td>Male</td>\n",
       "      <td>Not Applicable</td>\n",
       "      <td>Not Applicable</td>\n",
       "      <td>2010</td>\n",
       "      <td>ACTIVE</td>\n",
       "      <td>HEADOFFICE</td>\n",
       "    </tr>\n",
       "  </tbody>\n",
       "</table>\n",
       "</div>"
      ],
      "text/plain": [
       "   employee_id   recorddate_key birthdate_key orighiredate_key  \\\n",
       "0         1318  12/31/2006 0:00    01/03/1954        8/28/1989   \n",
       "1         1318  12/31/2007 0:00    01/03/1954        8/28/1989   \n",
       "2         1318  12/31/2008 0:00    01/03/1954        8/28/1989   \n",
       "3         1318  12/31/2009 0:00    01/03/1954        8/28/1989   \n",
       "4         1318  12/31/2010 0:00    01/03/1954        8/28/1989   \n",
       "\n",
       "  terminationdate_key  age  length_of_service  country department_name  \\\n",
       "0          01/01/1900   52                 17  Germany       Executive   \n",
       "1          01/01/1900   53                 18  Germany       Executive   \n",
       "2          01/01/1900   54                 19  Germany       Executive   \n",
       "3          01/01/1900   55                 20  Germany       Executive   \n",
       "4          01/01/1900   56                 21  Germany       Executive   \n",
       "\n",
       "  job_title  store_number gender gender_full termreason_desc   termtype_desc  \\\n",
       "0       CEO            35      M        Male  Not Applicable  Not Applicable   \n",
       "1       CEO            35      M        Male  Not Applicable  Not Applicable   \n",
       "2       CEO            35      M        Male  Not Applicable  Not Applicable   \n",
       "3       CEO            35      M        Male  Not Applicable  Not Applicable   \n",
       "4       CEO            35      M        Male  Not Applicable  Not Applicable   \n",
       "\n",
       "   year_of_record employment_status business_unit  \n",
       "0            2006            ACTIVE    HEADOFFICE  \n",
       "1            2007            ACTIVE    HEADOFFICE  \n",
       "2            2008            ACTIVE    HEADOFFICE  \n",
       "3            2009            ACTIVE    HEADOFFICE  \n",
       "4            2010            ACTIVE    HEADOFFICE  "
      ]
     },
     "execution_count": 26,
     "metadata": {},
     "output_type": "execute_result"
    }
   ],
   "source": [
    "df.head()"
   ]
  },
  {
   "cell_type": "markdown",
   "id": "f301bf65",
   "metadata": {},
   "source": [
    "I am going to remove four columns before conducting our analyses:\n",
    "\n",
    "    1. 'employee_id' is not needed for our analyses. \n",
    "    2. 'recorddate_key' captures the date and time information was captured about the employee, and would not be useful for our analysis.\n",
    "    3. 'birthdate_key' captures the date of birthday for the employee, but we also have a variable *age* which is more useful for our analysis. \n",
    "    4. 'gender_full' details the employees gender written as a full word, but we also have the variable *gender_short* which captures the same information with less memory. \n",
    "    5. 'orighiredate_key' details the date the employee was hired, however, we also have the length_of_service which captures similar information in an easier format. "
   ]
  },
  {
   "cell_type": "code",
   "execution_count": 27,
   "id": "511474e6",
   "metadata": {},
   "outputs": [],
   "source": [
    "#drop recorddate_key, birthdate_key, and gender_full columns \n",
    "df = df.drop(['employee_id','recorddate_key', 'birthdate_key', 'gender_full', 'orighiredate_key'], axis = 1)"
   ]
  },
  {
   "cell_type": "code",
   "execution_count": 28,
   "id": "9cb43154",
   "metadata": {},
   "outputs": [
    {
     "data": {
      "text/html": [
       "<div>\n",
       "<style scoped>\n",
       "    .dataframe tbody tr th:only-of-type {\n",
       "        vertical-align: middle;\n",
       "    }\n",
       "\n",
       "    .dataframe tbody tr th {\n",
       "        vertical-align: top;\n",
       "    }\n",
       "\n",
       "    .dataframe thead th {\n",
       "        text-align: right;\n",
       "    }\n",
       "</style>\n",
       "<table border=\"1\" class=\"dataframe\">\n",
       "  <thead>\n",
       "    <tr style=\"text-align: right;\">\n",
       "      <th></th>\n",
       "      <th>terminationdate_key</th>\n",
       "      <th>age</th>\n",
       "      <th>length_of_service</th>\n",
       "      <th>country</th>\n",
       "      <th>department_name</th>\n",
       "      <th>job_title</th>\n",
       "      <th>store_number</th>\n",
       "      <th>gender</th>\n",
       "      <th>termreason_desc</th>\n",
       "      <th>termtype_desc</th>\n",
       "      <th>year_of_record</th>\n",
       "      <th>employment_status</th>\n",
       "      <th>business_unit</th>\n",
       "    </tr>\n",
       "  </thead>\n",
       "  <tbody>\n",
       "    <tr>\n",
       "      <th>0</th>\n",
       "      <td>01/01/1900</td>\n",
       "      <td>52</td>\n",
       "      <td>17</td>\n",
       "      <td>Germany</td>\n",
       "      <td>Executive</td>\n",
       "      <td>CEO</td>\n",
       "      <td>35</td>\n",
       "      <td>M</td>\n",
       "      <td>Not Applicable</td>\n",
       "      <td>Not Applicable</td>\n",
       "      <td>2006</td>\n",
       "      <td>ACTIVE</td>\n",
       "      <td>HEADOFFICE</td>\n",
       "    </tr>\n",
       "    <tr>\n",
       "      <th>1</th>\n",
       "      <td>01/01/1900</td>\n",
       "      <td>53</td>\n",
       "      <td>18</td>\n",
       "      <td>Germany</td>\n",
       "      <td>Executive</td>\n",
       "      <td>CEO</td>\n",
       "      <td>35</td>\n",
       "      <td>M</td>\n",
       "      <td>Not Applicable</td>\n",
       "      <td>Not Applicable</td>\n",
       "      <td>2007</td>\n",
       "      <td>ACTIVE</td>\n",
       "      <td>HEADOFFICE</td>\n",
       "    </tr>\n",
       "    <tr>\n",
       "      <th>2</th>\n",
       "      <td>01/01/1900</td>\n",
       "      <td>54</td>\n",
       "      <td>19</td>\n",
       "      <td>Germany</td>\n",
       "      <td>Executive</td>\n",
       "      <td>CEO</td>\n",
       "      <td>35</td>\n",
       "      <td>M</td>\n",
       "      <td>Not Applicable</td>\n",
       "      <td>Not Applicable</td>\n",
       "      <td>2008</td>\n",
       "      <td>ACTIVE</td>\n",
       "      <td>HEADOFFICE</td>\n",
       "    </tr>\n",
       "    <tr>\n",
       "      <th>3</th>\n",
       "      <td>01/01/1900</td>\n",
       "      <td>55</td>\n",
       "      <td>20</td>\n",
       "      <td>Germany</td>\n",
       "      <td>Executive</td>\n",
       "      <td>CEO</td>\n",
       "      <td>35</td>\n",
       "      <td>M</td>\n",
       "      <td>Not Applicable</td>\n",
       "      <td>Not Applicable</td>\n",
       "      <td>2009</td>\n",
       "      <td>ACTIVE</td>\n",
       "      <td>HEADOFFICE</td>\n",
       "    </tr>\n",
       "    <tr>\n",
       "      <th>4</th>\n",
       "      <td>01/01/1900</td>\n",
       "      <td>56</td>\n",
       "      <td>21</td>\n",
       "      <td>Germany</td>\n",
       "      <td>Executive</td>\n",
       "      <td>CEO</td>\n",
       "      <td>35</td>\n",
       "      <td>M</td>\n",
       "      <td>Not Applicable</td>\n",
       "      <td>Not Applicable</td>\n",
       "      <td>2010</td>\n",
       "      <td>ACTIVE</td>\n",
       "      <td>HEADOFFICE</td>\n",
       "    </tr>\n",
       "  </tbody>\n",
       "</table>\n",
       "</div>"
      ],
      "text/plain": [
       "  terminationdate_key  age  length_of_service  country department_name  \\\n",
       "0          01/01/1900   52                 17  Germany       Executive   \n",
       "1          01/01/1900   53                 18  Germany       Executive   \n",
       "2          01/01/1900   54                 19  Germany       Executive   \n",
       "3          01/01/1900   55                 20  Germany       Executive   \n",
       "4          01/01/1900   56                 21  Germany       Executive   \n",
       "\n",
       "  job_title  store_number gender termreason_desc   termtype_desc  \\\n",
       "0       CEO            35      M  Not Applicable  Not Applicable   \n",
       "1       CEO            35      M  Not Applicable  Not Applicable   \n",
       "2       CEO            35      M  Not Applicable  Not Applicable   \n",
       "3       CEO            35      M  Not Applicable  Not Applicable   \n",
       "4       CEO            35      M  Not Applicable  Not Applicable   \n",
       "\n",
       "   year_of_record employment_status business_unit  \n",
       "0            2006            ACTIVE    HEADOFFICE  \n",
       "1            2007            ACTIVE    HEADOFFICE  \n",
       "2            2008            ACTIVE    HEADOFFICE  \n",
       "3            2009            ACTIVE    HEADOFFICE  \n",
       "4            2010            ACTIVE    HEADOFFICE  "
      ]
     },
     "execution_count": 28,
     "metadata": {},
     "output_type": "execute_result"
    }
   ],
   "source": [
    "#checking output \n",
    "df.head()"
   ]
  },
  {
   "cell_type": "code",
   "execution_count": 29,
   "id": "1964c733",
   "metadata": {},
   "outputs": [
    {
     "data": {
      "text/plain": [
       "(49653, 13)"
      ]
     },
     "execution_count": 29,
     "metadata": {},
     "output_type": "execute_result"
    }
   ],
   "source": [
    "df.shape"
   ]
  },
  {
   "cell_type": "markdown",
   "id": "e0cce7a2",
   "metadata": {},
   "source": [
    "**Observations:** The four columns have been removed. "
   ]
  },
  {
   "cell_type": "markdown",
   "id": "14d968f5",
   "metadata": {},
   "source": [
    "## B. Consistency checks"
   ]
  },
  {
   "cell_type": "markdown",
   "id": "68fc2f6b",
   "metadata": {},
   "source": [
    "### Approach to consistency checks \n",
    "\n",
    "1. Checking for duplicate values\n",
    "2. Checking for mixed-type data columns \n",
    "3. Checking for missing values "
   ]
  },
  {
   "cell_type": "markdown",
   "id": "6a651249",
   "metadata": {},
   "source": [
    "##### 1. Checking for duplicate values "
   ]
  },
  {
   "cell_type": "code",
   "execution_count": 30,
   "id": "163c03b9",
   "metadata": {},
   "outputs": [],
   "source": [
    "#creating new data frame just for duplicate values\n",
    "df_dups = df[df.duplicated()]"
   ]
  },
  {
   "cell_type": "code",
   "execution_count": 31,
   "id": "2dc95d42",
   "metadata": {},
   "outputs": [
    {
     "data": {
      "text/html": [
       "<div>\n",
       "<style scoped>\n",
       "    .dataframe tbody tr th:only-of-type {\n",
       "        vertical-align: middle;\n",
       "    }\n",
       "\n",
       "    .dataframe tbody tr th {\n",
       "        vertical-align: top;\n",
       "    }\n",
       "\n",
       "    .dataframe thead th {\n",
       "        text-align: right;\n",
       "    }\n",
       "</style>\n",
       "<table border=\"1\" class=\"dataframe\">\n",
       "  <thead>\n",
       "    <tr style=\"text-align: right;\">\n",
       "      <th></th>\n",
       "      <th>terminationdate_key</th>\n",
       "      <th>age</th>\n",
       "      <th>length_of_service</th>\n",
       "      <th>country</th>\n",
       "      <th>department_name</th>\n",
       "      <th>job_title</th>\n",
       "      <th>store_number</th>\n",
       "      <th>gender</th>\n",
       "      <th>termreason_desc</th>\n",
       "      <th>termtype_desc</th>\n",
       "      <th>year_of_record</th>\n",
       "      <th>employment_status</th>\n",
       "      <th>business_unit</th>\n",
       "    </tr>\n",
       "  </thead>\n",
       "  <tbody>\n",
       "    <tr>\n",
       "      <th>430</th>\n",
       "      <td>6/16/2009</td>\n",
       "      <td>57</td>\n",
       "      <td>17</td>\n",
       "      <td>Germany</td>\n",
       "      <td>Information Technology</td>\n",
       "      <td>Systems Analyst</td>\n",
       "      <td>35</td>\n",
       "      <td>M</td>\n",
       "      <td>Not Applicable</td>\n",
       "      <td>Not Applicable</td>\n",
       "      <td>2006</td>\n",
       "      <td>ACTIVE</td>\n",
       "      <td>HEADOFFICE</td>\n",
       "    </tr>\n",
       "    <tr>\n",
       "      <th>431</th>\n",
       "      <td>6/16/2009</td>\n",
       "      <td>58</td>\n",
       "      <td>18</td>\n",
       "      <td>Germany</td>\n",
       "      <td>Information Technology</td>\n",
       "      <td>Systems Analyst</td>\n",
       "      <td>35</td>\n",
       "      <td>M</td>\n",
       "      <td>Not Applicable</td>\n",
       "      <td>Not Applicable</td>\n",
       "      <td>2007</td>\n",
       "      <td>ACTIVE</td>\n",
       "      <td>HEADOFFICE</td>\n",
       "    </tr>\n",
       "    <tr>\n",
       "      <th>432</th>\n",
       "      <td>6/16/2009</td>\n",
       "      <td>59</td>\n",
       "      <td>19</td>\n",
       "      <td>Germany</td>\n",
       "      <td>Information Technology</td>\n",
       "      <td>Systems Analyst</td>\n",
       "      <td>35</td>\n",
       "      <td>M</td>\n",
       "      <td>Not Applicable</td>\n",
       "      <td>Not Applicable</td>\n",
       "      <td>2008</td>\n",
       "      <td>ACTIVE</td>\n",
       "      <td>HEADOFFICE</td>\n",
       "    </tr>\n",
       "    <tr>\n",
       "      <th>954</th>\n",
       "      <td>12/30/2010</td>\n",
       "      <td>56</td>\n",
       "      <td>16</td>\n",
       "      <td>France</td>\n",
       "      <td>Meats</td>\n",
       "      <td>Meat Cutter</td>\n",
       "      <td>37</td>\n",
       "      <td>M</td>\n",
       "      <td>Not Applicable</td>\n",
       "      <td>Not Applicable</td>\n",
       "      <td>2006</td>\n",
       "      <td>ACTIVE</td>\n",
       "      <td>STORES</td>\n",
       "    </tr>\n",
       "    <tr>\n",
       "      <th>955</th>\n",
       "      <td>12/30/2010</td>\n",
       "      <td>57</td>\n",
       "      <td>17</td>\n",
       "      <td>France</td>\n",
       "      <td>Meats</td>\n",
       "      <td>Meat Cutter</td>\n",
       "      <td>37</td>\n",
       "      <td>M</td>\n",
       "      <td>Not Applicable</td>\n",
       "      <td>Not Applicable</td>\n",
       "      <td>2007</td>\n",
       "      <td>ACTIVE</td>\n",
       "      <td>STORES</td>\n",
       "    </tr>\n",
       "    <tr>\n",
       "      <th>...</th>\n",
       "      <td>...</td>\n",
       "      <td>...</td>\n",
       "      <td>...</td>\n",
       "      <td>...</td>\n",
       "      <td>...</td>\n",
       "      <td>...</td>\n",
       "      <td>...</td>\n",
       "      <td>...</td>\n",
       "      <td>...</td>\n",
       "      <td>...</td>\n",
       "      <td>...</td>\n",
       "      <td>...</td>\n",
       "      <td>...</td>\n",
       "    </tr>\n",
       "    <tr>\n",
       "      <th>49545</th>\n",
       "      <td>12/30/2014</td>\n",
       "      <td>25</td>\n",
       "      <td>3</td>\n",
       "      <td>Italy</td>\n",
       "      <td>Processed Foods</td>\n",
       "      <td>Shelf Stocker</td>\n",
       "      <td>20</td>\n",
       "      <td>F</td>\n",
       "      <td>Layoff</td>\n",
       "      <td>Involuntary</td>\n",
       "      <td>2014</td>\n",
       "      <td>TERMINATED</td>\n",
       "      <td>STORES</td>\n",
       "    </tr>\n",
       "    <tr>\n",
       "      <th>49586</th>\n",
       "      <td>02/12/2014</td>\n",
       "      <td>21</td>\n",
       "      <td>1</td>\n",
       "      <td>Germany</td>\n",
       "      <td>Customer Service</td>\n",
       "      <td>Cashier</td>\n",
       "      <td>44</td>\n",
       "      <td>M</td>\n",
       "      <td>Resignaton</td>\n",
       "      <td>Voluntary</td>\n",
       "      <td>2014</td>\n",
       "      <td>TERMINATED</td>\n",
       "      <td>STORES</td>\n",
       "    </tr>\n",
       "    <tr>\n",
       "      <th>49596</th>\n",
       "      <td>12/30/2014</td>\n",
       "      <td>22</td>\n",
       "      <td>2</td>\n",
       "      <td>Italy</td>\n",
       "      <td>Customer Service</td>\n",
       "      <td>Cashier</td>\n",
       "      <td>20</td>\n",
       "      <td>M</td>\n",
       "      <td>Layoff</td>\n",
       "      <td>Involuntary</td>\n",
       "      <td>2014</td>\n",
       "      <td>TERMINATED</td>\n",
       "      <td>STORES</td>\n",
       "    </tr>\n",
       "    <tr>\n",
       "      <th>49599</th>\n",
       "      <td>12/30/2014</td>\n",
       "      <td>22</td>\n",
       "      <td>2</td>\n",
       "      <td>Montenegro</td>\n",
       "      <td>Customer Service</td>\n",
       "      <td>Cashier</td>\n",
       "      <td>11</td>\n",
       "      <td>F</td>\n",
       "      <td>Layoff</td>\n",
       "      <td>Involuntary</td>\n",
       "      <td>2014</td>\n",
       "      <td>TERMINATED</td>\n",
       "      <td>STORES</td>\n",
       "    </tr>\n",
       "    <tr>\n",
       "      <th>49600</th>\n",
       "      <td>12/30/2014</td>\n",
       "      <td>22</td>\n",
       "      <td>2</td>\n",
       "      <td>Italy</td>\n",
       "      <td>Customer Service</td>\n",
       "      <td>Cashier</td>\n",
       "      <td>20</td>\n",
       "      <td>M</td>\n",
       "      <td>Layoff</td>\n",
       "      <td>Involuntary</td>\n",
       "      <td>2014</td>\n",
       "      <td>TERMINATED</td>\n",
       "      <td>STORES</td>\n",
       "    </tr>\n",
       "  </tbody>\n",
       "</table>\n",
       "<p>24396 rows × 13 columns</p>\n",
       "</div>"
      ],
      "text/plain": [
       "      terminationdate_key  age  length_of_service     country  \\\n",
       "430             6/16/2009   57                 17     Germany   \n",
       "431             6/16/2009   58                 18     Germany   \n",
       "432             6/16/2009   59                 19     Germany   \n",
       "954            12/30/2010   56                 16      France   \n",
       "955            12/30/2010   57                 17      France   \n",
       "...                   ...  ...                ...         ...   \n",
       "49545          12/30/2014   25                  3       Italy   \n",
       "49586          02/12/2014   21                  1     Germany   \n",
       "49596          12/30/2014   22                  2       Italy   \n",
       "49599          12/30/2014   22                  2  Montenegro   \n",
       "49600          12/30/2014   22                  2       Italy   \n",
       "\n",
       "              department_name        job_title  store_number gender  \\\n",
       "430    Information Technology  Systems Analyst            35      M   \n",
       "431    Information Technology  Systems Analyst            35      M   \n",
       "432    Information Technology  Systems Analyst            35      M   \n",
       "954                     Meats      Meat Cutter            37      M   \n",
       "955                     Meats      Meat Cutter            37      M   \n",
       "...                       ...              ...           ...    ...   \n",
       "49545         Processed Foods    Shelf Stocker            20      F   \n",
       "49586        Customer Service          Cashier            44      M   \n",
       "49596        Customer Service          Cashier            20      M   \n",
       "49599        Customer Service          Cashier            11      F   \n",
       "49600        Customer Service          Cashier            20      M   \n",
       "\n",
       "      termreason_desc   termtype_desc  year_of_record employment_status  \\\n",
       "430    Not Applicable  Not Applicable            2006            ACTIVE   \n",
       "431    Not Applicable  Not Applicable            2007            ACTIVE   \n",
       "432    Not Applicable  Not Applicable            2008            ACTIVE   \n",
       "954    Not Applicable  Not Applicable            2006            ACTIVE   \n",
       "955    Not Applicable  Not Applicable            2007            ACTIVE   \n",
       "...               ...             ...             ...               ...   \n",
       "49545          Layoff     Involuntary            2014        TERMINATED   \n",
       "49586      Resignaton       Voluntary            2014        TERMINATED   \n",
       "49596          Layoff     Involuntary            2014        TERMINATED   \n",
       "49599          Layoff     Involuntary            2014        TERMINATED   \n",
       "49600          Layoff     Involuntary            2014        TERMINATED   \n",
       "\n",
       "      business_unit  \n",
       "430      HEADOFFICE  \n",
       "431      HEADOFFICE  \n",
       "432      HEADOFFICE  \n",
       "954          STORES  \n",
       "955          STORES  \n",
       "...             ...  \n",
       "49545        STORES  \n",
       "49586        STORES  \n",
       "49596        STORES  \n",
       "49599        STORES  \n",
       "49600        STORES  \n",
       "\n",
       "[24396 rows x 13 columns]"
      ]
     },
     "execution_count": 31,
     "metadata": {},
     "output_type": "execute_result"
    }
   ],
   "source": [
    "#printing duplicate values\n",
    "df_dups"
   ]
  },
  {
   "cell_type": "markdown",
   "id": "b18dc701",
   "metadata": {},
   "source": [
    "**Observations:** No duplicate values found "
   ]
  },
  {
   "cell_type": "markdown",
   "id": "bbd1c1af",
   "metadata": {},
   "source": [
    "##### 2. Checking for mixed-type data"
   ]
  },
  {
   "cell_type": "code",
   "execution_count": 32,
   "id": "d18f8cec",
   "metadata": {},
   "outputs": [],
   "source": [
    "#Checking for mixed-type data in the dataframe\n",
    "for col in df.columns.tolist():\n",
    "    weird = (df[[col]].applymap(type) != df[[col]].iloc[0].apply(type)).any(axis = 1)\n",
    "    if len (df[weird]) > 0:\n",
    "        print (col)"
   ]
  },
  {
   "cell_type": "markdown",
   "id": "2d01c73f",
   "metadata": {},
   "source": [
    "**Observations:** No mixed-data returned"
   ]
  },
  {
   "cell_type": "markdown",
   "id": "8f9bf27a",
   "metadata": {},
   "source": [
    "##### 3. Checking for missing values"
   ]
  },
  {
   "cell_type": "code",
   "execution_count": 33,
   "id": "7f0d0141",
   "metadata": {},
   "outputs": [
    {
     "data": {
      "text/plain": [
       "terminationdate_key    0\n",
       "age                    0\n",
       "length_of_service      0\n",
       "country                0\n",
       "department_name        0\n",
       "job_title              0\n",
       "store_number           0\n",
       "gender                 0\n",
       "termreason_desc        0\n",
       "termtype_desc          0\n",
       "year_of_record         0\n",
       "employment_status      0\n",
       "business_unit          0\n",
       "dtype: int64"
      ]
     },
     "execution_count": 33,
     "metadata": {},
     "output_type": "execute_result"
    }
   ],
   "source": [
    "#checking for missing values in the datafram\n",
    "df.isnull().sum()"
   ]
  },
  {
   "cell_type": "markdown",
   "id": "0778ee6d",
   "metadata": {},
   "source": [
    "**Observations:** No missing data observed"
   ]
  },
  {
   "cell_type": "markdown",
   "id": "71b84244",
   "metadata": {},
   "source": [
    "# 4. Merging population data"
   ]
  },
  {
   "cell_type": "markdown",
   "id": "444f072c",
   "metadata": {},
   "source": [
    "### A. Adding in town or city population"
   ]
  },
  {
   "cell_type": "markdown",
   "id": "e5becdab",
   "metadata": {},
   "source": [
    "At the moment, the dataset only contains the city or town where the employee is based but I want to understand the size of these locations to see if they have an impact on attrition. \n",
    "\n",
    "I used the census information held on the Government website Statistic Canada to obtain the population information for each of the towns from 2015. I created a csv containing this information which I will upload. "
   ]
  },
  {
   "cell_type": "code",
   "execution_count": 34,
   "id": "83c46918",
   "metadata": {},
   "outputs": [],
   "source": [
    "#importing csv containing location and population information\n",
    "df_pop = pd.read_csv(os.path.join(path, '02_data', 'Original_data', 'EuPopulations.csv'), index_col=False)"
   ]
  },
  {
   "cell_type": "code",
   "execution_count": 35,
   "id": "fc2593ed",
   "metadata": {},
   "outputs": [
    {
     "name": "stdout",
     "output_type": "stream",
     "text": [
      "EU Populations\n"
     ]
    },
    {
     "data": {
      "text/html": [
       "<div>\n",
       "<style scoped>\n",
       "    .dataframe tbody tr th:only-of-type {\n",
       "        vertical-align: middle;\n",
       "    }\n",
       "\n",
       "    .dataframe tbody tr th {\n",
       "        vertical-align: top;\n",
       "    }\n",
       "\n",
       "    .dataframe thead th {\n",
       "        text-align: right;\n",
       "    }\n",
       "</style>\n",
       "<table border=\"1\" class=\"dataframe\">\n",
       "  <thead>\n",
       "    <tr style=\"text-align: right;\">\n",
       "      <th></th>\n",
       "      <th>#</th>\n",
       "      <th>country</th>\n",
       "      <th>population</th>\n",
       "      <th>Yearly  Change</th>\n",
       "      <th>Net  Change</th>\n",
       "      <th>Density  (P/Km²)</th>\n",
       "    </tr>\n",
       "  </thead>\n",
       "  <tbody>\n",
       "    <tr>\n",
       "      <th>0</th>\n",
       "      <td>1</td>\n",
       "      <td>Russia</td>\n",
       "      <td>145934462</td>\n",
       "      <td>0.0004</td>\n",
       "      <td>62206</td>\n",
       "      <td>9</td>\n",
       "    </tr>\n",
       "    <tr>\n",
       "      <th>1</th>\n",
       "      <td>2</td>\n",
       "      <td>Germany</td>\n",
       "      <td>83783942</td>\n",
       "      <td>0.0032</td>\n",
       "      <td>266897</td>\n",
       "      <td>240</td>\n",
       "    </tr>\n",
       "    <tr>\n",
       "      <th>2</th>\n",
       "      <td>3</td>\n",
       "      <td>United Kingdom</td>\n",
       "      <td>67886011</td>\n",
       "      <td>0.0053</td>\n",
       "      <td>355839</td>\n",
       "      <td>281</td>\n",
       "    </tr>\n",
       "    <tr>\n",
       "      <th>3</th>\n",
       "      <td>4</td>\n",
       "      <td>France</td>\n",
       "      <td>65273511</td>\n",
       "      <td>0.0022</td>\n",
       "      <td>143783</td>\n",
       "      <td>119</td>\n",
       "    </tr>\n",
       "    <tr>\n",
       "      <th>4</th>\n",
       "      <td>5</td>\n",
       "      <td>Italy</td>\n",
       "      <td>60461826</td>\n",
       "      <td>-0.0015</td>\n",
       "      <td>-88249</td>\n",
       "      <td>206</td>\n",
       "    </tr>\n",
       "    <tr>\n",
       "      <th>5</th>\n",
       "      <td>6</td>\n",
       "      <td>Spain</td>\n",
       "      <td>46754778</td>\n",
       "      <td>0.0004</td>\n",
       "      <td>18002</td>\n",
       "      <td>94</td>\n",
       "    </tr>\n",
       "    <tr>\n",
       "      <th>6</th>\n",
       "      <td>7</td>\n",
       "      <td>Ukraine</td>\n",
       "      <td>43733762</td>\n",
       "      <td>-0.0059</td>\n",
       "      <td>-259876</td>\n",
       "      <td>75</td>\n",
       "    </tr>\n",
       "    <tr>\n",
       "      <th>7</th>\n",
       "      <td>8</td>\n",
       "      <td>Poland</td>\n",
       "      <td>37846611</td>\n",
       "      <td>-0.0011</td>\n",
       "      <td>-41157</td>\n",
       "      <td>124</td>\n",
       "    </tr>\n",
       "    <tr>\n",
       "      <th>8</th>\n",
       "      <td>9</td>\n",
       "      <td>Romania</td>\n",
       "      <td>19237691</td>\n",
       "      <td>-0.0066</td>\n",
       "      <td>-126866</td>\n",
       "      <td>84</td>\n",
       "    </tr>\n",
       "    <tr>\n",
       "      <th>9</th>\n",
       "      <td>10</td>\n",
       "      <td>Netherlands</td>\n",
       "      <td>17134872</td>\n",
       "      <td>0.0022</td>\n",
       "      <td>37742</td>\n",
       "      <td>508</td>\n",
       "    </tr>\n",
       "    <tr>\n",
       "      <th>10</th>\n",
       "      <td>11</td>\n",
       "      <td>Belgium</td>\n",
       "      <td>11589623</td>\n",
       "      <td>0.0044</td>\n",
       "      <td>50295</td>\n",
       "      <td>383</td>\n",
       "    </tr>\n",
       "    <tr>\n",
       "      <th>11</th>\n",
       "      <td>12</td>\n",
       "      <td>Czech Republic (Czechia)</td>\n",
       "      <td>10708981</td>\n",
       "      <td>0.0018</td>\n",
       "      <td>19772</td>\n",
       "      <td>139</td>\n",
       "    </tr>\n",
       "    <tr>\n",
       "      <th>12</th>\n",
       "      <td>13</td>\n",
       "      <td>Greece</td>\n",
       "      <td>10423054</td>\n",
       "      <td>-0.0048</td>\n",
       "      <td>-50401</td>\n",
       "      <td>81</td>\n",
       "    </tr>\n",
       "    <tr>\n",
       "      <th>13</th>\n",
       "      <td>14</td>\n",
       "      <td>Portugal</td>\n",
       "      <td>10196709</td>\n",
       "      <td>-0.0029</td>\n",
       "      <td>-29478</td>\n",
       "      <td>111</td>\n",
       "    </tr>\n",
       "    <tr>\n",
       "      <th>14</th>\n",
       "      <td>15</td>\n",
       "      <td>Sweden</td>\n",
       "      <td>10099265</td>\n",
       "      <td>0.0063</td>\n",
       "      <td>62886</td>\n",
       "      <td>25</td>\n",
       "    </tr>\n",
       "    <tr>\n",
       "      <th>15</th>\n",
       "      <td>16</td>\n",
       "      <td>Hungary</td>\n",
       "      <td>9660351</td>\n",
       "      <td>-0.0025</td>\n",
       "      <td>-24328</td>\n",
       "      <td>107</td>\n",
       "    </tr>\n",
       "    <tr>\n",
       "      <th>16</th>\n",
       "      <td>17</td>\n",
       "      <td>Belarus</td>\n",
       "      <td>9449323</td>\n",
       "      <td>-0.0003</td>\n",
       "      <td>-3088</td>\n",
       "      <td>47</td>\n",
       "    </tr>\n",
       "    <tr>\n",
       "      <th>17</th>\n",
       "      <td>18</td>\n",
       "      <td>Austria</td>\n",
       "      <td>9006398</td>\n",
       "      <td>0.0057</td>\n",
       "      <td>51296</td>\n",
       "      <td>109</td>\n",
       "    </tr>\n",
       "    <tr>\n",
       "      <th>18</th>\n",
       "      <td>19</td>\n",
       "      <td>Serbia</td>\n",
       "      <td>8737371</td>\n",
       "      <td>-0.0040</td>\n",
       "      <td>-34864</td>\n",
       "      <td>100</td>\n",
       "    </tr>\n",
       "    <tr>\n",
       "      <th>19</th>\n",
       "      <td>20</td>\n",
       "      <td>Switzerland</td>\n",
       "      <td>8654622</td>\n",
       "      <td>0.0074</td>\n",
       "      <td>63257</td>\n",
       "      <td>219</td>\n",
       "    </tr>\n",
       "    <tr>\n",
       "      <th>20</th>\n",
       "      <td>21</td>\n",
       "      <td>Bulgaria</td>\n",
       "      <td>6948445</td>\n",
       "      <td>-0.0074</td>\n",
       "      <td>-51674</td>\n",
       "      <td>64</td>\n",
       "    </tr>\n",
       "    <tr>\n",
       "      <th>21</th>\n",
       "      <td>22</td>\n",
       "      <td>Denmark</td>\n",
       "      <td>5792202</td>\n",
       "      <td>0.0035</td>\n",
       "      <td>20326</td>\n",
       "      <td>137</td>\n",
       "    </tr>\n",
       "    <tr>\n",
       "      <th>22</th>\n",
       "      <td>23</td>\n",
       "      <td>Finland</td>\n",
       "      <td>5540720</td>\n",
       "      <td>0.0015</td>\n",
       "      <td>8564</td>\n",
       "      <td>18</td>\n",
       "    </tr>\n",
       "    <tr>\n",
       "      <th>23</th>\n",
       "      <td>24</td>\n",
       "      <td>Slovakia</td>\n",
       "      <td>5459642</td>\n",
       "      <td>0.0005</td>\n",
       "      <td>2629</td>\n",
       "      <td>114</td>\n",
       "    </tr>\n",
       "    <tr>\n",
       "      <th>24</th>\n",
       "      <td>25</td>\n",
       "      <td>Norway</td>\n",
       "      <td>5421241</td>\n",
       "      <td>0.0079</td>\n",
       "      <td>42384</td>\n",
       "      <td>15</td>\n",
       "    </tr>\n",
       "    <tr>\n",
       "      <th>25</th>\n",
       "      <td>26</td>\n",
       "      <td>Ireland</td>\n",
       "      <td>4937786</td>\n",
       "      <td>0.0113</td>\n",
       "      <td>55291</td>\n",
       "      <td>72</td>\n",
       "    </tr>\n",
       "    <tr>\n",
       "      <th>26</th>\n",
       "      <td>27</td>\n",
       "      <td>Croatia</td>\n",
       "      <td>4105267</td>\n",
       "      <td>-0.0061</td>\n",
       "      <td>-25037</td>\n",
       "      <td>73</td>\n",
       "    </tr>\n",
       "    <tr>\n",
       "      <th>27</th>\n",
       "      <td>28</td>\n",
       "      <td>Moldova</td>\n",
       "      <td>4033963</td>\n",
       "      <td>-0.0023</td>\n",
       "      <td>-9300</td>\n",
       "      <td>123</td>\n",
       "    </tr>\n",
       "    <tr>\n",
       "      <th>28</th>\n",
       "      <td>29</td>\n",
       "      <td>Bosnia and Herzegovina</td>\n",
       "      <td>3280819</td>\n",
       "      <td>-0.0061</td>\n",
       "      <td>-20181</td>\n",
       "      <td>64</td>\n",
       "    </tr>\n",
       "    <tr>\n",
       "      <th>29</th>\n",
       "      <td>30</td>\n",
       "      <td>Albania</td>\n",
       "      <td>2877797</td>\n",
       "      <td>-0.0011</td>\n",
       "      <td>-3120</td>\n",
       "      <td>105</td>\n",
       "    </tr>\n",
       "    <tr>\n",
       "      <th>30</th>\n",
       "      <td>31</td>\n",
       "      <td>Lithuania</td>\n",
       "      <td>2722289</td>\n",
       "      <td>-0.0135</td>\n",
       "      <td>-37338</td>\n",
       "      <td>43</td>\n",
       "    </tr>\n",
       "    <tr>\n",
       "      <th>31</th>\n",
       "      <td>32</td>\n",
       "      <td>North Macedonia</td>\n",
       "      <td>2083374</td>\n",
       "      <td>0.0000</td>\n",
       "      <td>-85</td>\n",
       "      <td>83</td>\n",
       "    </tr>\n",
       "    <tr>\n",
       "      <th>32</th>\n",
       "      <td>33</td>\n",
       "      <td>Slovenia</td>\n",
       "      <td>2078938</td>\n",
       "      <td>0.0001</td>\n",
       "      <td>284</td>\n",
       "      <td>103</td>\n",
       "    </tr>\n",
       "    <tr>\n",
       "      <th>33</th>\n",
       "      <td>34</td>\n",
       "      <td>Latvia</td>\n",
       "      <td>1886198</td>\n",
       "      <td>-0.0108</td>\n",
       "      <td>-20545</td>\n",
       "      <td>30</td>\n",
       "    </tr>\n",
       "    <tr>\n",
       "      <th>34</th>\n",
       "      <td>35</td>\n",
       "      <td>Estonia</td>\n",
       "      <td>1326535</td>\n",
       "      <td>0.0007</td>\n",
       "      <td>887</td>\n",
       "      <td>31</td>\n",
       "    </tr>\n",
       "    <tr>\n",
       "      <th>35</th>\n",
       "      <td>36</td>\n",
       "      <td>Montenegro</td>\n",
       "      <td>628066</td>\n",
       "      <td>0.0001</td>\n",
       "      <td>79</td>\n",
       "      <td>47</td>\n",
       "    </tr>\n",
       "    <tr>\n",
       "      <th>36</th>\n",
       "      <td>37</td>\n",
       "      <td>Luxembourg</td>\n",
       "      <td>625978</td>\n",
       "      <td>0.0166</td>\n",
       "      <td>10249</td>\n",
       "      <td>242</td>\n",
       "    </tr>\n",
       "    <tr>\n",
       "      <th>37</th>\n",
       "      <td>38</td>\n",
       "      <td>Malta</td>\n",
       "      <td>441543</td>\n",
       "      <td>0.0027</td>\n",
       "      <td>1171</td>\n",
       "      <td>1380</td>\n",
       "    </tr>\n",
       "    <tr>\n",
       "      <th>38</th>\n",
       "      <td>39</td>\n",
       "      <td>Iceland</td>\n",
       "      <td>341243</td>\n",
       "      <td>0.0065</td>\n",
       "      <td>2212</td>\n",
       "      <td>3</td>\n",
       "    </tr>\n",
       "    <tr>\n",
       "      <th>39</th>\n",
       "      <td>40</td>\n",
       "      <td>Channel Islands</td>\n",
       "      <td>173863</td>\n",
       "      <td>0.0093</td>\n",
       "      <td>1604</td>\n",
       "      <td>915</td>\n",
       "    </tr>\n",
       "    <tr>\n",
       "      <th>40</th>\n",
       "      <td>41</td>\n",
       "      <td>Isle of Man</td>\n",
       "      <td>85033</td>\n",
       "      <td>0.0053</td>\n",
       "      <td>449</td>\n",
       "      <td>149</td>\n",
       "    </tr>\n",
       "    <tr>\n",
       "      <th>41</th>\n",
       "      <td>42</td>\n",
       "      <td>Andorra</td>\n",
       "      <td>77265</td>\n",
       "      <td>0.0016</td>\n",
       "      <td>123</td>\n",
       "      <td>164</td>\n",
       "    </tr>\n",
       "    <tr>\n",
       "      <th>42</th>\n",
       "      <td>43</td>\n",
       "      <td>Faeroe Islands</td>\n",
       "      <td>48863</td>\n",
       "      <td>0.0038</td>\n",
       "      <td>185</td>\n",
       "      <td>35</td>\n",
       "    </tr>\n",
       "    <tr>\n",
       "      <th>43</th>\n",
       "      <td>44</td>\n",
       "      <td>Monaco</td>\n",
       "      <td>39242</td>\n",
       "      <td>0.0071</td>\n",
       "      <td>278</td>\n",
       "      <td>26337</td>\n",
       "    </tr>\n",
       "    <tr>\n",
       "      <th>44</th>\n",
       "      <td>45</td>\n",
       "      <td>Liechtenstein</td>\n",
       "      <td>38128</td>\n",
       "      <td>0.0029</td>\n",
       "      <td>109</td>\n",
       "      <td>238</td>\n",
       "    </tr>\n",
       "    <tr>\n",
       "      <th>45</th>\n",
       "      <td>46</td>\n",
       "      <td>San Marino</td>\n",
       "      <td>33931</td>\n",
       "      <td>0.0021</td>\n",
       "      <td>71</td>\n",
       "      <td>566</td>\n",
       "    </tr>\n",
       "    <tr>\n",
       "      <th>46</th>\n",
       "      <td>47</td>\n",
       "      <td>Gibraltar</td>\n",
       "      <td>33691</td>\n",
       "      <td>-0.0003</td>\n",
       "      <td>-10</td>\n",
       "      <td>3369</td>\n",
       "    </tr>\n",
       "    <tr>\n",
       "      <th>47</th>\n",
       "      <td>48</td>\n",
       "      <td>Holy See</td>\n",
       "      <td>801</td>\n",
       "      <td>0.0025</td>\n",
       "      <td>2</td>\n",
       "      <td>2003</td>\n",
       "    </tr>\n",
       "  </tbody>\n",
       "</table>\n",
       "</div>"
      ],
      "text/plain": [
       "     #                   country  population  Yearly  Change  Net  Change  \\\n",
       "0    1                    Russia   145934462          0.0004        62206   \n",
       "1    2                   Germany    83783942          0.0032       266897   \n",
       "2    3            United Kingdom    67886011          0.0053       355839   \n",
       "3    4                    France    65273511          0.0022       143783   \n",
       "4    5                     Italy    60461826         -0.0015       -88249   \n",
       "5    6                     Spain    46754778          0.0004        18002   \n",
       "6    7                   Ukraine    43733762         -0.0059      -259876   \n",
       "7    8                    Poland    37846611         -0.0011       -41157   \n",
       "8    9                   Romania    19237691         -0.0066      -126866   \n",
       "9   10               Netherlands    17134872          0.0022        37742   \n",
       "10  11                   Belgium    11589623          0.0044        50295   \n",
       "11  12  Czech Republic (Czechia)    10708981          0.0018        19772   \n",
       "12  13                    Greece    10423054         -0.0048       -50401   \n",
       "13  14                  Portugal    10196709         -0.0029       -29478   \n",
       "14  15                    Sweden    10099265          0.0063        62886   \n",
       "15  16                   Hungary     9660351         -0.0025       -24328   \n",
       "16  17                   Belarus     9449323         -0.0003        -3088   \n",
       "17  18                   Austria     9006398          0.0057        51296   \n",
       "18  19                    Serbia     8737371         -0.0040       -34864   \n",
       "19  20               Switzerland     8654622          0.0074        63257   \n",
       "20  21                  Bulgaria     6948445         -0.0074       -51674   \n",
       "21  22                   Denmark     5792202          0.0035        20326   \n",
       "22  23                   Finland     5540720          0.0015         8564   \n",
       "23  24                  Slovakia     5459642          0.0005         2629   \n",
       "24  25                    Norway     5421241          0.0079        42384   \n",
       "25  26                   Ireland     4937786          0.0113        55291   \n",
       "26  27                   Croatia     4105267         -0.0061       -25037   \n",
       "27  28                   Moldova     4033963         -0.0023        -9300   \n",
       "28  29    Bosnia and Herzegovina     3280819         -0.0061       -20181   \n",
       "29  30                   Albania     2877797         -0.0011        -3120   \n",
       "30  31                 Lithuania     2722289         -0.0135       -37338   \n",
       "31  32           North Macedonia     2083374          0.0000          -85   \n",
       "32  33                  Slovenia     2078938          0.0001          284   \n",
       "33  34                    Latvia     1886198         -0.0108       -20545   \n",
       "34  35                   Estonia     1326535          0.0007          887   \n",
       "35  36                Montenegro      628066          0.0001           79   \n",
       "36  37                Luxembourg      625978          0.0166        10249   \n",
       "37  38                     Malta      441543          0.0027         1171   \n",
       "38  39                   Iceland      341243          0.0065         2212   \n",
       "39  40           Channel Islands      173863          0.0093         1604   \n",
       "40  41               Isle of Man       85033          0.0053          449   \n",
       "41  42                   Andorra       77265          0.0016          123   \n",
       "42  43            Faeroe Islands       48863          0.0038          185   \n",
       "43  44                    Monaco       39242          0.0071          278   \n",
       "44  45             Liechtenstein       38128          0.0029          109   \n",
       "45  46                San Marino       33931          0.0021           71   \n",
       "46  47                 Gibraltar       33691         -0.0003          -10   \n",
       "47  48                  Holy See         801          0.0025            2   \n",
       "\n",
       "    Density  (P/Km²)  \n",
       "0                  9  \n",
       "1                240  \n",
       "2                281  \n",
       "3                119  \n",
       "4                206  \n",
       "5                 94  \n",
       "6                 75  \n",
       "7                124  \n",
       "8                 84  \n",
       "9                508  \n",
       "10               383  \n",
       "11               139  \n",
       "12                81  \n",
       "13               111  \n",
       "14                25  \n",
       "15               107  \n",
       "16                47  \n",
       "17               109  \n",
       "18               100  \n",
       "19               219  \n",
       "20                64  \n",
       "21               137  \n",
       "22                18  \n",
       "23               114  \n",
       "24                15  \n",
       "25                72  \n",
       "26                73  \n",
       "27               123  \n",
       "28                64  \n",
       "29               105  \n",
       "30                43  \n",
       "31                83  \n",
       "32               103  \n",
       "33                30  \n",
       "34                31  \n",
       "35                47  \n",
       "36               242  \n",
       "37              1380  \n",
       "38                 3  \n",
       "39               915  \n",
       "40               149  \n",
       "41               164  \n",
       "42                35  \n",
       "43             26337  \n",
       "44               238  \n",
       "45               566  \n",
       "46              3369  \n",
       "47              2003  "
      ]
     },
     "execution_count": 35,
     "metadata": {},
     "output_type": "execute_result"
    }
   ],
   "source": [
    "#checking output\n",
    "print('EU Populations')\n",
    "df_pop"
   ]
  },
  {
   "cell_type": "code",
   "execution_count": 36,
   "id": "f3d479b6",
   "metadata": {},
   "outputs": [
    {
     "data": {
      "text/plain": [
       "(48, 6)"
      ]
     },
     "execution_count": 36,
     "metadata": {},
     "output_type": "execute_result"
    }
   ],
   "source": [
    "df_pop.shape"
   ]
  },
  {
   "cell_type": "code",
   "execution_count": 37,
   "id": "a38c2ffb",
   "metadata": {},
   "outputs": [
    {
     "data": {
      "text/plain": [
       "#                     int64\n",
       "country              object\n",
       "population            int64\n",
       "Yearly  Change      float64\n",
       "Net  Change           int64\n",
       "Density  (P/Km²)      int64\n",
       "dtype: object"
      ]
     },
     "execution_count": 37,
     "metadata": {},
     "output_type": "execute_result"
    }
   ],
   "source": [
    "#checking datatypes\n",
    "df_pop.dtypes"
   ]
  },
  {
   "cell_type": "code",
   "execution_count": 38,
   "id": "11beb6e3",
   "metadata": {},
   "outputs": [
    {
     "data": {
      "text/plain": [
       "Index(['#', 'country', 'population', 'Yearly  Change', 'Net  Change',\n",
       "       'Density  (P/Km²)'],\n",
       "      dtype='object')"
      ]
     },
     "execution_count": 38,
     "metadata": {},
     "output_type": "execute_result"
    }
   ],
   "source": [
    "#removing the space in the column titles  \n",
    "df_pop.columns.str.strip()"
   ]
  },
  {
   "cell_type": "code",
   "execution_count": 39,
   "id": "bab1cb21",
   "metadata": {},
   "outputs": [],
   "source": [
    "#dropping columns not needed for our analyses prior to merging\n",
    "df_pop = df_pop.drop(columns = ['#','Yearly  Change', 'Net  Change', 'Density  (P/Km²)'])"
   ]
  },
  {
   "cell_type": "code",
   "execution_count": 40,
   "id": "c0ce8e1f",
   "metadata": {},
   "outputs": [
    {
     "data": {
      "text/html": [
       "<div>\n",
       "<style scoped>\n",
       "    .dataframe tbody tr th:only-of-type {\n",
       "        vertical-align: middle;\n",
       "    }\n",
       "\n",
       "    .dataframe tbody tr th {\n",
       "        vertical-align: top;\n",
       "    }\n",
       "\n",
       "    .dataframe thead th {\n",
       "        text-align: right;\n",
       "    }\n",
       "</style>\n",
       "<table border=\"1\" class=\"dataframe\">\n",
       "  <thead>\n",
       "    <tr style=\"text-align: right;\">\n",
       "      <th></th>\n",
       "      <th>country</th>\n",
       "      <th>population</th>\n",
       "    </tr>\n",
       "  </thead>\n",
       "  <tbody>\n",
       "    <tr>\n",
       "      <th>0</th>\n",
       "      <td>Russia</td>\n",
       "      <td>145934462</td>\n",
       "    </tr>\n",
       "    <tr>\n",
       "      <th>1</th>\n",
       "      <td>Germany</td>\n",
       "      <td>83783942</td>\n",
       "    </tr>\n",
       "    <tr>\n",
       "      <th>2</th>\n",
       "      <td>United Kingdom</td>\n",
       "      <td>67886011</td>\n",
       "    </tr>\n",
       "    <tr>\n",
       "      <th>3</th>\n",
       "      <td>France</td>\n",
       "      <td>65273511</td>\n",
       "    </tr>\n",
       "    <tr>\n",
       "      <th>4</th>\n",
       "      <td>Italy</td>\n",
       "      <td>60461826</td>\n",
       "    </tr>\n",
       "  </tbody>\n",
       "</table>\n",
       "</div>"
      ],
      "text/plain": [
       "          country  population\n",
       "0          Russia   145934462\n",
       "1         Germany    83783942\n",
       "2  United Kingdom    67886011\n",
       "3          France    65273511\n",
       "4           Italy    60461826"
      ]
     },
     "execution_count": 40,
     "metadata": {},
     "output_type": "execute_result"
    }
   ],
   "source": [
    "#renaming \"country column\" for merging\n",
    "df_pop.head()"
   ]
  },
  {
   "cell_type": "code",
   "execution_count": 41,
   "id": "5c35ac12",
   "metadata": {},
   "outputs": [],
   "source": [
    "#merging df_ords and df_ords_prior\n",
    "df_merge = df.merge(df_pop, on = 'country', indicator = True)"
   ]
  },
  {
   "cell_type": "code",
   "execution_count": 42,
   "id": "9238baa3",
   "metadata": {
    "scrolled": true
   },
   "outputs": [
    {
     "data": {
      "text/html": [
       "<div>\n",
       "<style scoped>\n",
       "    .dataframe tbody tr th:only-of-type {\n",
       "        vertical-align: middle;\n",
       "    }\n",
       "\n",
       "    .dataframe tbody tr th {\n",
       "        vertical-align: top;\n",
       "    }\n",
       "\n",
       "    .dataframe thead th {\n",
       "        text-align: right;\n",
       "    }\n",
       "</style>\n",
       "<table border=\"1\" class=\"dataframe\">\n",
       "  <thead>\n",
       "    <tr style=\"text-align: right;\">\n",
       "      <th></th>\n",
       "      <th>terminationdate_key</th>\n",
       "      <th>age</th>\n",
       "      <th>length_of_service</th>\n",
       "      <th>country</th>\n",
       "      <th>department_name</th>\n",
       "      <th>job_title</th>\n",
       "      <th>store_number</th>\n",
       "      <th>gender</th>\n",
       "      <th>termreason_desc</th>\n",
       "      <th>termtype_desc</th>\n",
       "      <th>year_of_record</th>\n",
       "      <th>employment_status</th>\n",
       "      <th>business_unit</th>\n",
       "      <th>population</th>\n",
       "      <th>_merge</th>\n",
       "    </tr>\n",
       "  </thead>\n",
       "  <tbody>\n",
       "    <tr>\n",
       "      <th>0</th>\n",
       "      <td>01/01/1900</td>\n",
       "      <td>52</td>\n",
       "      <td>17</td>\n",
       "      <td>Germany</td>\n",
       "      <td>Executive</td>\n",
       "      <td>CEO</td>\n",
       "      <td>35</td>\n",
       "      <td>M</td>\n",
       "      <td>Not Applicable</td>\n",
       "      <td>Not Applicable</td>\n",
       "      <td>2006</td>\n",
       "      <td>ACTIVE</td>\n",
       "      <td>HEADOFFICE</td>\n",
       "      <td>83783942</td>\n",
       "      <td>both</td>\n",
       "    </tr>\n",
       "    <tr>\n",
       "      <th>1</th>\n",
       "      <td>01/01/1900</td>\n",
       "      <td>53</td>\n",
       "      <td>18</td>\n",
       "      <td>Germany</td>\n",
       "      <td>Executive</td>\n",
       "      <td>CEO</td>\n",
       "      <td>35</td>\n",
       "      <td>M</td>\n",
       "      <td>Not Applicable</td>\n",
       "      <td>Not Applicable</td>\n",
       "      <td>2007</td>\n",
       "      <td>ACTIVE</td>\n",
       "      <td>HEADOFFICE</td>\n",
       "      <td>83783942</td>\n",
       "      <td>both</td>\n",
       "    </tr>\n",
       "    <tr>\n",
       "      <th>2</th>\n",
       "      <td>01/01/1900</td>\n",
       "      <td>54</td>\n",
       "      <td>19</td>\n",
       "      <td>Germany</td>\n",
       "      <td>Executive</td>\n",
       "      <td>CEO</td>\n",
       "      <td>35</td>\n",
       "      <td>M</td>\n",
       "      <td>Not Applicable</td>\n",
       "      <td>Not Applicable</td>\n",
       "      <td>2008</td>\n",
       "      <td>ACTIVE</td>\n",
       "      <td>HEADOFFICE</td>\n",
       "      <td>83783942</td>\n",
       "      <td>both</td>\n",
       "    </tr>\n",
       "    <tr>\n",
       "      <th>3</th>\n",
       "      <td>01/01/1900</td>\n",
       "      <td>55</td>\n",
       "      <td>20</td>\n",
       "      <td>Germany</td>\n",
       "      <td>Executive</td>\n",
       "      <td>CEO</td>\n",
       "      <td>35</td>\n",
       "      <td>M</td>\n",
       "      <td>Not Applicable</td>\n",
       "      <td>Not Applicable</td>\n",
       "      <td>2009</td>\n",
       "      <td>ACTIVE</td>\n",
       "      <td>HEADOFFICE</td>\n",
       "      <td>83783942</td>\n",
       "      <td>both</td>\n",
       "    </tr>\n",
       "    <tr>\n",
       "      <th>4</th>\n",
       "      <td>01/01/1900</td>\n",
       "      <td>56</td>\n",
       "      <td>21</td>\n",
       "      <td>Germany</td>\n",
       "      <td>Executive</td>\n",
       "      <td>CEO</td>\n",
       "      <td>35</td>\n",
       "      <td>M</td>\n",
       "      <td>Not Applicable</td>\n",
       "      <td>Not Applicable</td>\n",
       "      <td>2010</td>\n",
       "      <td>ACTIVE</td>\n",
       "      <td>HEADOFFICE</td>\n",
       "      <td>83783942</td>\n",
       "      <td>both</td>\n",
       "    </tr>\n",
       "    <tr>\n",
       "      <th>...</th>\n",
       "      <td>...</td>\n",
       "      <td>...</td>\n",
       "      <td>...</td>\n",
       "      <td>...</td>\n",
       "      <td>...</td>\n",
       "      <td>...</td>\n",
       "      <td>...</td>\n",
       "      <td>...</td>\n",
       "      <td>...</td>\n",
       "      <td>...</td>\n",
       "      <td>...</td>\n",
       "      <td>...</td>\n",
       "      <td>...</td>\n",
       "      <td>...</td>\n",
       "      <td>...</td>\n",
       "    </tr>\n",
       "    <tr>\n",
       "      <th>49639</th>\n",
       "      <td>9/13/2013</td>\n",
       "      <td>65</td>\n",
       "      <td>13</td>\n",
       "      <td>Iceland</td>\n",
       "      <td>Bakery</td>\n",
       "      <td>Baker</td>\n",
       "      <td>24</td>\n",
       "      <td>F</td>\n",
       "      <td>Retirement</td>\n",
       "      <td>Voluntary</td>\n",
       "      <td>2013</td>\n",
       "      <td>TERMINATED</td>\n",
       "      <td>STORES</td>\n",
       "      <td>341243</td>\n",
       "      <td>both</td>\n",
       "    </tr>\n",
       "    <tr>\n",
       "      <th>49640</th>\n",
       "      <td>12/30/2015</td>\n",
       "      <td>31</td>\n",
       "      <td>7</td>\n",
       "      <td>Iceland</td>\n",
       "      <td>Dairy</td>\n",
       "      <td>Dairy Person</td>\n",
       "      <td>24</td>\n",
       "      <td>M</td>\n",
       "      <td>Layoff</td>\n",
       "      <td>Involuntary</td>\n",
       "      <td>2015</td>\n",
       "      <td>TERMINATED</td>\n",
       "      <td>STORES</td>\n",
       "      <td>341243</td>\n",
       "      <td>both</td>\n",
       "    </tr>\n",
       "    <tr>\n",
       "      <th>49641</th>\n",
       "      <td>12/30/2015</td>\n",
       "      <td>31</td>\n",
       "      <td>7</td>\n",
       "      <td>Iceland</td>\n",
       "      <td>Dairy</td>\n",
       "      <td>Dairy Person</td>\n",
       "      <td>24</td>\n",
       "      <td>M</td>\n",
       "      <td>Layoff</td>\n",
       "      <td>Involuntary</td>\n",
       "      <td>2015</td>\n",
       "      <td>TERMINATED</td>\n",
       "      <td>STORES</td>\n",
       "      <td>341243</td>\n",
       "      <td>both</td>\n",
       "    </tr>\n",
       "    <tr>\n",
       "      <th>49642</th>\n",
       "      <td>12/30/2015</td>\n",
       "      <td>29</td>\n",
       "      <td>6</td>\n",
       "      <td>Iceland</td>\n",
       "      <td>Dairy</td>\n",
       "      <td>Dairy Person</td>\n",
       "      <td>24</td>\n",
       "      <td>M</td>\n",
       "      <td>Layoff</td>\n",
       "      <td>Involuntary</td>\n",
       "      <td>2015</td>\n",
       "      <td>TERMINATED</td>\n",
       "      <td>STORES</td>\n",
       "      <td>341243</td>\n",
       "      <td>both</td>\n",
       "    </tr>\n",
       "    <tr>\n",
       "      <th>49643</th>\n",
       "      <td>12/30/2015</td>\n",
       "      <td>23</td>\n",
       "      <td>3</td>\n",
       "      <td>Iceland</td>\n",
       "      <td>Dairy</td>\n",
       "      <td>Dairy Person</td>\n",
       "      <td>24</td>\n",
       "      <td>F</td>\n",
       "      <td>Layoff</td>\n",
       "      <td>Involuntary</td>\n",
       "      <td>2015</td>\n",
       "      <td>TERMINATED</td>\n",
       "      <td>STORES</td>\n",
       "      <td>341243</td>\n",
       "      <td>both</td>\n",
       "    </tr>\n",
       "  </tbody>\n",
       "</table>\n",
       "<p>49644 rows × 15 columns</p>\n",
       "</div>"
      ],
      "text/plain": [
       "      terminationdate_key  age  length_of_service  country department_name  \\\n",
       "0              01/01/1900   52                 17  Germany       Executive   \n",
       "1              01/01/1900   53                 18  Germany       Executive   \n",
       "2              01/01/1900   54                 19  Germany       Executive   \n",
       "3              01/01/1900   55                 20  Germany       Executive   \n",
       "4              01/01/1900   56                 21  Germany       Executive   \n",
       "...                   ...  ...                ...      ...             ...   \n",
       "49639           9/13/2013   65                 13  Iceland          Bakery   \n",
       "49640          12/30/2015   31                  7  Iceland           Dairy   \n",
       "49641          12/30/2015   31                  7  Iceland           Dairy   \n",
       "49642          12/30/2015   29                  6  Iceland           Dairy   \n",
       "49643          12/30/2015   23                  3  Iceland           Dairy   \n",
       "\n",
       "          job_title  store_number gender termreason_desc   termtype_desc  \\\n",
       "0               CEO            35      M  Not Applicable  Not Applicable   \n",
       "1               CEO            35      M  Not Applicable  Not Applicable   \n",
       "2               CEO            35      M  Not Applicable  Not Applicable   \n",
       "3               CEO            35      M  Not Applicable  Not Applicable   \n",
       "4               CEO            35      M  Not Applicable  Not Applicable   \n",
       "...             ...           ...    ...             ...             ...   \n",
       "49639         Baker            24      F      Retirement       Voluntary   \n",
       "49640  Dairy Person            24      M          Layoff     Involuntary   \n",
       "49641  Dairy Person            24      M          Layoff     Involuntary   \n",
       "49642  Dairy Person            24      M          Layoff     Involuntary   \n",
       "49643  Dairy Person            24      F          Layoff     Involuntary   \n",
       "\n",
       "       year_of_record employment_status business_unit  population _merge  \n",
       "0                2006            ACTIVE    HEADOFFICE    83783942   both  \n",
       "1                2007            ACTIVE    HEADOFFICE    83783942   both  \n",
       "2                2008            ACTIVE    HEADOFFICE    83783942   both  \n",
       "3                2009            ACTIVE    HEADOFFICE    83783942   both  \n",
       "4                2010            ACTIVE    HEADOFFICE    83783942   both  \n",
       "...               ...               ...           ...         ...    ...  \n",
       "49639            2013        TERMINATED        STORES      341243   both  \n",
       "49640            2015        TERMINATED        STORES      341243   both  \n",
       "49641            2015        TERMINATED        STORES      341243   both  \n",
       "49642            2015        TERMINATED        STORES      341243   both  \n",
       "49643            2015        TERMINATED        STORES      341243   both  \n",
       "\n",
       "[49644 rows x 15 columns]"
      ]
     },
     "execution_count": 42,
     "metadata": {},
     "output_type": "execute_result"
    }
   ],
   "source": [
    "#checking output\n",
    "df_merge"
   ]
  },
  {
   "cell_type": "code",
   "execution_count": 43,
   "id": "92971abc",
   "metadata": {},
   "outputs": [
    {
     "data": {
      "text/plain": [
       "both          49644\n",
       "left_only         0\n",
       "right_only        0\n",
       "Name: _merge, dtype: int64"
      ]
     },
     "execution_count": 43,
     "metadata": {},
     "output_type": "execute_result"
    }
   ],
   "source": [
    "df_merge['_merge'].value_counts()"
   ]
  },
  {
   "cell_type": "code",
   "execution_count": 44,
   "id": "6271793f",
   "metadata": {},
   "outputs": [
    {
     "data": {
      "text/plain": [
       "(49644, 15)"
      ]
     },
     "execution_count": 44,
     "metadata": {},
     "output_type": "execute_result"
    }
   ],
   "source": [
    "df_merge.shape"
   ]
  },
  {
   "cell_type": "markdown",
   "id": "fb29d118",
   "metadata": {},
   "source": [
    "### B. Creating a population flag "
   ]
  },
  {
   "cell_type": "markdown",
   "id": "024d2ad2",
   "metadata": {},
   "source": [
    "I want to understand whether popualtion size has an impact on attrition, so I'm going to group the city locations into groups. Statistics Canada defines population areas in the following sizes:\n",
    "- small countries, with a population of up to 9,999,999;\n",
    "- medium countries, with a population of between 10,000,000 and 49,999,999;\n",
    "- large countries, consisting of a population of 50,000,000 and over."
   ]
  },
  {
   "cell_type": "code",
   "execution_count": 45,
   "id": "5972a4bb",
   "metadata": {},
   "outputs": [],
   "source": [
    "#creating pop_flag variable\n",
    "df_merge.loc[df_merge['population'] > 50000000, 'pop_flag'] = 'large_country'\n",
    "df_merge.loc[(df_merge['population'] <= 49999999) & (df_merge['population'] > 10000000), 'pop_flag'] = 'medium_country'\n",
    "df_merge.loc[df_merge['population'] < 9999999, 'pop_flag'] = 'small_country'"
   ]
  },
  {
   "cell_type": "code",
   "execution_count": 46,
   "id": "11161cab",
   "metadata": {},
   "outputs": [
    {
     "data": {
      "text/plain": [
       "large_country     21121\n",
       "medium_country    14650\n",
       "small_country     13873\n",
       "Name: pop_flag, dtype: int64"
      ]
     },
     "execution_count": 46,
     "metadata": {},
     "output_type": "execute_result"
    }
   ],
   "source": [
    "#checking output \n",
    "df_merge['pop_flag'].value_counts()"
   ]
  },
  {
   "cell_type": "code",
   "execution_count": 47,
   "id": "77c0bb2a",
   "metadata": {},
   "outputs": [
    {
     "data": {
      "text/plain": [
       "large_country     42.5%\n",
       "medium_country    29.5%\n",
       "small_country     27.9%\n",
       "Name: pop_flag, dtype: object"
      ]
     },
     "execution_count": 47,
     "metadata": {},
     "output_type": "execute_result"
    }
   ],
   "source": [
    "#checking output as percentage \n",
    "df_merge['pop_flag'].value_counts(normalize = True).mul(100).round(1).astype(str) + '%'"
   ]
  },
  {
   "cell_type": "code",
   "execution_count": 48,
   "id": "55aff9c6",
   "metadata": {},
   "outputs": [
    {
     "data": {
      "text/plain": [
       "(49644, 16)"
      ]
     },
     "execution_count": 48,
     "metadata": {},
     "output_type": "execute_result"
    }
   ],
   "source": [
    "#checking dataframe size - should have 20 columns now \n",
    "df_merge.shape"
   ]
  },
  {
   "cell_type": "markdown",
   "id": "40273af9",
   "metadata": {},
   "source": [
    "### C. Creating job groupings"
   ]
  },
  {
   "cell_type": "markdown",
   "id": "1562e3c9",
   "metadata": {},
   "source": [
    "Another key variable we have is job title and a potentially interesting part of analyses could be whether job seniority impacts attrition. Unfortunately, there are over 40 different job titles within the dataset. I will therefore group the different jobs into four bands:\n",
    "\n",
    "    1. C-Suite: CEO, VP, Chief Information Officer \n",
    "    2. Director: anyone with Director in their title\n",
    "    3. Manager: anyone with Manager in their title\n",
    "    4. Associate: everyone else including Legal Counsel, Analysts, Clerks, Executive Assistants etc. "
   ]
  },
  {
   "cell_type": "code",
   "execution_count": 49,
   "id": "94689e68",
   "metadata": {},
   "outputs": [
    {
     "data": {
      "text/plain": [
       "47"
      ]
     },
     "execution_count": 49,
     "metadata": {},
     "output_type": "execute_result"
    }
   ],
   "source": [
    "#understanding how many jobs there currently are\n",
    "df_merge['job_title'].nunique()"
   ]
  },
  {
   "cell_type": "code",
   "execution_count": 50,
   "id": "d9118876",
   "metadata": {},
   "outputs": [
    {
     "data": {
      "text/plain": [
       "Meat Cutter                        9984\n",
       "Dairy Person                       8581\n",
       "Produce Clerk                      8237\n",
       "Baker                              8096\n",
       "Cashier                            6816\n",
       "Shelf Stocker                      5622\n",
       "Customer Service Manager            306\n",
       "Processed Foods Manager             289\n",
       "Bakery Manager                      285\n",
       "Meats Manager                       285\n",
       "Produce Manager                     278\n",
       "Store Manager                       271\n",
       "Recruiter                            62\n",
       "HRIS Analyst                         55\n",
       "Accounting Clerk                     50\n",
       "Benefits Admin                       35\n",
       "Accounts Receiveable Clerk           30\n",
       "Labor Relations Analyst              30\n",
       "Trainer                              26\n",
       "Accounts Payable Clerk               25\n",
       "Investment Analyst                   20\n",
       "Auditor                              20\n",
       "Systems Analyst                      20\n",
       "Compensation Analyst                 20\n",
       "Corporate Lawyer                     17\n",
       "CEO                                  10\n",
       "VP Stores                            10\n",
       "Director, Recruitment                10\n",
       "Legal Counsel                        10\n",
       "VP Human Resources                   10\n",
       "VP Finance                           10\n",
       "Exec Assistant, VP Stores            10\n",
       "Exec Assistant, Legal Counsel        10\n",
       "CHief Information Officer            10\n",
       "Exec Assistant, Human Resources      10\n",
       "Exec Assistant, Finance              10\n",
       "Dairy Manager                         9\n",
       "Director, HR Technology               9\n",
       "Director, Employee Records            9\n",
       "Director, Accounts Receivable         9\n",
       "Director, Accounts Payable            9\n",
       "Director, Accounting                  9\n",
       "Director, Investments                 4\n",
       "Director, Labor Relations             4\n",
       "Director, Compensation                4\n",
       "Director, Audit                       4\n",
       "Director, Training                    4\n",
       "Name: job_title, dtype: int64"
      ]
     },
     "execution_count": 50,
     "metadata": {},
     "output_type": "execute_result"
    }
   ],
   "source": [
    "df_merge['job_title'].value_counts()"
   ]
  },
  {
   "cell_type": "code",
   "execution_count": 51,
   "id": "173b58a1",
   "metadata": {},
   "outputs": [],
   "source": [
    "#grouping job titles into four categories\n",
    "c_suite = ['CEO', 'CHief Information Officer', 'VP Stores', 'VP Human Resources', 'VP Finance']\n",
    "director = ['Director, HR Technology', 'Director, Employee Records', 'Director, Accounts Receivable', 'Director, Accounts Payable', 'Director, Accounting', 'Director, Investments', 'Director, Labor Relations', 'Director, Compensation', 'Director, Audit', 'Director, Training', 'Director, Recruitment']\n",
    "manager = ['Dairy Manager', 'Store Manager', 'Produce Manager', 'Bakery Manager', 'Meats Manager', 'Processed Foods Manager', 'Customer Service Manager']\n",
    "associate = ['Meat Cutter', 'Dairy Person', 'Produce Clerk', 'Baker', 'Cashier', 'Shelf Stocker', 'Recruiter', 'HRIS Analyst', 'Accounting Clerk', 'Benefits Admin', 'Accounts Receiveable Clerk', 'Labor Relations Analyst', 'Trainer', 'Accounts Payable Clerk', 'Investment Analyst', 'Auditor', 'Systems Analyst', 'Compensation Analyst', 'Corporate Lawyer', 'Legal Counsel', 'Exec Assistant, VP Stores', 'Exec Assistant, Legal Counsel', 'Exec Assistant, Human Resources', 'Exec Assistant, Finance']"
   ]
  },
  {
   "cell_type": "code",
   "execution_count": 52,
   "id": "02ea0836",
   "metadata": {},
   "outputs": [
    {
     "name": "stdout",
     "output_type": "stream",
     "text": [
      "Total jobs categorised: 47 out of 47\n"
     ]
    }
   ],
   "source": [
    "#checking the output \n",
    "total = len(c_suite) + len(director) + len(manager) + len(associate)\n",
    "print('Total jobs categorised:', total, 'out of 47')"
   ]
  },
  {
   "cell_type": "code",
   "execution_count": 53,
   "id": "e204d7a2",
   "metadata": {},
   "outputs": [],
   "source": [
    "#creating new duplicate job_title column called 'seniority' in case we need job_title information further in our analyses\n",
    "df_merge['seniority'] = df_merge.loc[:, 'job_title']"
   ]
  },
  {
   "cell_type": "code",
   "execution_count": 54,
   "id": "d1496849",
   "metadata": {},
   "outputs": [],
   "source": [
    "#defining a function which groups our job_titles into our four categories and mapping the results to the seniority column \n",
    "def titleChange(job):\n",
    "    if job in c_suite: return 'c_suite'\n",
    "    if job in director: return 'director'\n",
    "    if job in manager: return 'manager'\n",
    "    if job in associate: return 'associate'\n",
    "    else: return 'new_role'\n",
    "\n",
    "df_merge['seniority'] = df_merge['seniority'].map(titleChange)"
   ]
  },
  {
   "cell_type": "code",
   "execution_count": 55,
   "id": "fd93eada",
   "metadata": {},
   "outputs": [
    {
     "data": {
      "text/plain": [
       "associate    47796\n",
       "manager       1723\n",
       "director        75\n",
       "c_suite         50\n",
       "Name: seniority, dtype: int64"
      ]
     },
     "execution_count": 55,
     "metadata": {},
     "output_type": "execute_result"
    }
   ],
   "source": [
    "df_merge['seniority'].value_counts()"
   ]
  },
  {
   "cell_type": "code",
   "execution_count": 56,
   "id": "88a96bd1",
   "metadata": {},
   "outputs": [
    {
     "data": {
      "text/html": [
       "<div>\n",
       "<style scoped>\n",
       "    .dataframe tbody tr th:only-of-type {\n",
       "        vertical-align: middle;\n",
       "    }\n",
       "\n",
       "    .dataframe tbody tr th {\n",
       "        vertical-align: top;\n",
       "    }\n",
       "\n",
       "    .dataframe thead th {\n",
       "        text-align: right;\n",
       "    }\n",
       "</style>\n",
       "<table border=\"1\" class=\"dataframe\">\n",
       "  <thead>\n",
       "    <tr style=\"text-align: right;\">\n",
       "      <th></th>\n",
       "      <th>terminationdate_key</th>\n",
       "      <th>age</th>\n",
       "      <th>length_of_service</th>\n",
       "      <th>country</th>\n",
       "      <th>department_name</th>\n",
       "      <th>job_title</th>\n",
       "      <th>store_number</th>\n",
       "      <th>gender</th>\n",
       "      <th>termreason_desc</th>\n",
       "      <th>termtype_desc</th>\n",
       "      <th>year_of_record</th>\n",
       "      <th>employment_status</th>\n",
       "      <th>business_unit</th>\n",
       "      <th>population</th>\n",
       "      <th>_merge</th>\n",
       "      <th>pop_flag</th>\n",
       "      <th>seniority</th>\n",
       "    </tr>\n",
       "  </thead>\n",
       "  <tbody>\n",
       "    <tr>\n",
       "      <th>0</th>\n",
       "      <td>01/01/1900</td>\n",
       "      <td>52</td>\n",
       "      <td>17</td>\n",
       "      <td>Germany</td>\n",
       "      <td>Executive</td>\n",
       "      <td>CEO</td>\n",
       "      <td>35</td>\n",
       "      <td>M</td>\n",
       "      <td>Not Applicable</td>\n",
       "      <td>Not Applicable</td>\n",
       "      <td>2006</td>\n",
       "      <td>ACTIVE</td>\n",
       "      <td>HEADOFFICE</td>\n",
       "      <td>83783942</td>\n",
       "      <td>both</td>\n",
       "      <td>large_country</td>\n",
       "      <td>c_suite</td>\n",
       "    </tr>\n",
       "    <tr>\n",
       "      <th>1</th>\n",
       "      <td>01/01/1900</td>\n",
       "      <td>53</td>\n",
       "      <td>18</td>\n",
       "      <td>Germany</td>\n",
       "      <td>Executive</td>\n",
       "      <td>CEO</td>\n",
       "      <td>35</td>\n",
       "      <td>M</td>\n",
       "      <td>Not Applicable</td>\n",
       "      <td>Not Applicable</td>\n",
       "      <td>2007</td>\n",
       "      <td>ACTIVE</td>\n",
       "      <td>HEADOFFICE</td>\n",
       "      <td>83783942</td>\n",
       "      <td>both</td>\n",
       "      <td>large_country</td>\n",
       "      <td>c_suite</td>\n",
       "    </tr>\n",
       "    <tr>\n",
       "      <th>2</th>\n",
       "      <td>01/01/1900</td>\n",
       "      <td>54</td>\n",
       "      <td>19</td>\n",
       "      <td>Germany</td>\n",
       "      <td>Executive</td>\n",
       "      <td>CEO</td>\n",
       "      <td>35</td>\n",
       "      <td>M</td>\n",
       "      <td>Not Applicable</td>\n",
       "      <td>Not Applicable</td>\n",
       "      <td>2008</td>\n",
       "      <td>ACTIVE</td>\n",
       "      <td>HEADOFFICE</td>\n",
       "      <td>83783942</td>\n",
       "      <td>both</td>\n",
       "      <td>large_country</td>\n",
       "      <td>c_suite</td>\n",
       "    </tr>\n",
       "    <tr>\n",
       "      <th>3</th>\n",
       "      <td>01/01/1900</td>\n",
       "      <td>55</td>\n",
       "      <td>20</td>\n",
       "      <td>Germany</td>\n",
       "      <td>Executive</td>\n",
       "      <td>CEO</td>\n",
       "      <td>35</td>\n",
       "      <td>M</td>\n",
       "      <td>Not Applicable</td>\n",
       "      <td>Not Applicable</td>\n",
       "      <td>2009</td>\n",
       "      <td>ACTIVE</td>\n",
       "      <td>HEADOFFICE</td>\n",
       "      <td>83783942</td>\n",
       "      <td>both</td>\n",
       "      <td>large_country</td>\n",
       "      <td>c_suite</td>\n",
       "    </tr>\n",
       "    <tr>\n",
       "      <th>4</th>\n",
       "      <td>01/01/1900</td>\n",
       "      <td>56</td>\n",
       "      <td>21</td>\n",
       "      <td>Germany</td>\n",
       "      <td>Executive</td>\n",
       "      <td>CEO</td>\n",
       "      <td>35</td>\n",
       "      <td>M</td>\n",
       "      <td>Not Applicable</td>\n",
       "      <td>Not Applicable</td>\n",
       "      <td>2010</td>\n",
       "      <td>ACTIVE</td>\n",
       "      <td>HEADOFFICE</td>\n",
       "      <td>83783942</td>\n",
       "      <td>both</td>\n",
       "      <td>large_country</td>\n",
       "      <td>c_suite</td>\n",
       "    </tr>\n",
       "  </tbody>\n",
       "</table>\n",
       "</div>"
      ],
      "text/plain": [
       "  terminationdate_key  age  length_of_service  country department_name  \\\n",
       "0          01/01/1900   52                 17  Germany       Executive   \n",
       "1          01/01/1900   53                 18  Germany       Executive   \n",
       "2          01/01/1900   54                 19  Germany       Executive   \n",
       "3          01/01/1900   55                 20  Germany       Executive   \n",
       "4          01/01/1900   56                 21  Germany       Executive   \n",
       "\n",
       "  job_title  store_number gender termreason_desc   termtype_desc  \\\n",
       "0       CEO            35      M  Not Applicable  Not Applicable   \n",
       "1       CEO            35      M  Not Applicable  Not Applicable   \n",
       "2       CEO            35      M  Not Applicable  Not Applicable   \n",
       "3       CEO            35      M  Not Applicable  Not Applicable   \n",
       "4       CEO            35      M  Not Applicable  Not Applicable   \n",
       "\n",
       "   year_of_record employment_status business_unit  population _merge  \\\n",
       "0            2006            ACTIVE    HEADOFFICE    83783942   both   \n",
       "1            2007            ACTIVE    HEADOFFICE    83783942   both   \n",
       "2            2008            ACTIVE    HEADOFFICE    83783942   both   \n",
       "3            2009            ACTIVE    HEADOFFICE    83783942   both   \n",
       "4            2010            ACTIVE    HEADOFFICE    83783942   both   \n",
       "\n",
       "        pop_flag seniority  \n",
       "0  large_country   c_suite  \n",
       "1  large_country   c_suite  \n",
       "2  large_country   c_suite  \n",
       "3  large_country   c_suite  \n",
       "4  large_country   c_suite  "
      ]
     },
     "execution_count": 56,
     "metadata": {},
     "output_type": "execute_result"
    }
   ],
   "source": [
    "#checking output \n",
    "df_merge.head()"
   ]
  },
  {
   "cell_type": "code",
   "execution_count": 57,
   "id": "70ad9f8b",
   "metadata": {},
   "outputs": [
    {
     "data": {
      "text/plain": [
       "(49644, 17)"
      ]
     },
     "execution_count": 57,
     "metadata": {},
     "output_type": "execute_result"
    }
   ],
   "source": [
    "#confirming that dataframe has the same number of rows but one more column\n",
    "df_merge.shape"
   ]
  },
  {
   "cell_type": "markdown",
   "id": "13c74890",
   "metadata": {},
   "source": [
    "### D. Creating age groupings"
   ]
  },
  {
   "cell_type": "markdown",
   "id": "298f82e3",
   "metadata": {},
   "source": [
    "The dataset includes a variable for age, but it might also be interesting to aggregate age into three groups. "
   ]
  },
  {
   "cell_type": "code",
   "execution_count": 58,
   "id": "b82580a1",
   "metadata": {},
   "outputs": [
    {
     "data": {
      "text/plain": [
       "47"
      ]
     },
     "execution_count": 58,
     "metadata": {},
     "output_type": "execute_result"
    }
   ],
   "source": [
    "#understanding the age range of employees\n",
    "df_merge['age'].nunique()"
   ]
  },
  {
   "cell_type": "code",
   "execution_count": 59,
   "id": "bb81936d",
   "metadata": {},
   "outputs": [
    {
     "data": {
      "text/plain": [
       "count    49644.000000\n",
       "mean        42.077411\n",
       "std         12.428304\n",
       "min         19.000000\n",
       "25%         31.000000\n",
       "50%         42.000000\n",
       "75%         53.000000\n",
       "max         65.000000\n",
       "Name: age, dtype: float64"
      ]
     },
     "execution_count": 59,
     "metadata": {},
     "output_type": "execute_result"
    }
   ],
   "source": [
    "df_merge['age'].describe()"
   ]
  },
  {
   "cell_type": "markdown",
   "id": "5efda098",
   "metadata": {},
   "source": [
    "**Observations:** There are 47 different ages within our dataset. The minimum age is 19 and the maximum is 65, which would be retirement age. I am going to group employees into four groups: \n",
    "\n",
    "1. Young adults: 19 - 34\n",
    "2. Mid adults: 35 - 49\n",
    "3. Older adults: 50 - 65 "
   ]
  },
  {
   "cell_type": "code",
   "execution_count": 60,
   "id": "c704bb74",
   "metadata": {},
   "outputs": [],
   "source": [
    "#creating age_flag variable\n",
    "df_merge.loc[df_merge['age'] >= 50, 'age_flag'] = 'older_adults'\n",
    "df_merge.loc[(df_merge['age'] < 50) & (df_merge['age'] >= 35), 'age_flag'] = 'mid_adults'\n",
    "df_merge.loc[df_merge['age'] < 35, 'age_flag'] = 'young_adults'"
   ]
  },
  {
   "cell_type": "code",
   "execution_count": 61,
   "id": "0d34fd1b",
   "metadata": {},
   "outputs": [
    {
     "data": {
      "text/plain": [
       "mid_adults      17378\n",
       "older_adults    16154\n",
       "young_adults    16112\n",
       "Name: age_flag, dtype: int64"
      ]
     },
     "execution_count": 61,
     "metadata": {},
     "output_type": "execute_result"
    }
   ],
   "source": [
    "#checking output \n",
    "df_merge['age_flag'].value_counts()"
   ]
  },
  {
   "cell_type": "code",
   "execution_count": 62,
   "id": "bb1f0cdb",
   "metadata": {},
   "outputs": [
    {
     "data": {
      "text/plain": [
       "mid_adults      35.0%\n",
       "older_adults    32.5%\n",
       "young_adults    32.5%\n",
       "Name: age_flag, dtype: object"
      ]
     },
     "execution_count": 62,
     "metadata": {},
     "output_type": "execute_result"
    }
   ],
   "source": [
    "#checking output as percentage \n",
    "df_merge['age_flag'].value_counts(normalize = True).mul(100).round(1).astype(str) + '%'"
   ]
  },
  {
   "cell_type": "code",
   "execution_count": 63,
   "id": "d3aa0427",
   "metadata": {},
   "outputs": [
    {
     "data": {
      "text/plain": [
       "(49644, 18)"
      ]
     },
     "execution_count": 63,
     "metadata": {},
     "output_type": "execute_result"
    }
   ],
   "source": [
    "#checking dataframe size - should have 19 columns now \n",
    "df_merge.shape"
   ]
  },
  {
   "cell_type": "markdown",
   "id": "a3992d37",
   "metadata": {},
   "source": [
    "# 5. Converting categorical variables to numeric"
   ]
  },
  {
   "cell_type": "markdown",
   "id": "a917d2af",
   "metadata": {},
   "source": [
    "Any future machine learning models require categorical variables to be coded as numerical values. We will start by understanding which variables will need to be encoded. "
   ]
  },
  {
   "cell_type": "markdown",
   "id": "482158fd",
   "metadata": {},
   "source": [
    "#### Understanding which variables need to be converted"
   ]
  },
  {
   "cell_type": "code",
   "execution_count": 64,
   "id": "bc4b3eed",
   "metadata": {},
   "outputs": [
    {
     "data": {
      "text/html": [
       "<div>\n",
       "<style scoped>\n",
       "    .dataframe tbody tr th:only-of-type {\n",
       "        vertical-align: middle;\n",
       "    }\n",
       "\n",
       "    .dataframe tbody tr th {\n",
       "        vertical-align: top;\n",
       "    }\n",
       "\n",
       "    .dataframe thead th {\n",
       "        text-align: right;\n",
       "    }\n",
       "</style>\n",
       "<table border=\"1\" class=\"dataframe\">\n",
       "  <thead>\n",
       "    <tr style=\"text-align: right;\">\n",
       "      <th></th>\n",
       "      <th>terminationdate_key</th>\n",
       "      <th>age</th>\n",
       "      <th>length_of_service</th>\n",
       "      <th>country</th>\n",
       "      <th>department_name</th>\n",
       "      <th>job_title</th>\n",
       "      <th>store_number</th>\n",
       "      <th>gender</th>\n",
       "      <th>termreason_desc</th>\n",
       "      <th>termtype_desc</th>\n",
       "      <th>year_of_record</th>\n",
       "      <th>employment_status</th>\n",
       "      <th>business_unit</th>\n",
       "      <th>population</th>\n",
       "      <th>_merge</th>\n",
       "      <th>pop_flag</th>\n",
       "      <th>seniority</th>\n",
       "      <th>age_flag</th>\n",
       "    </tr>\n",
       "  </thead>\n",
       "  <tbody>\n",
       "    <tr>\n",
       "      <th>0</th>\n",
       "      <td>01/01/1900</td>\n",
       "      <td>52</td>\n",
       "      <td>17</td>\n",
       "      <td>Germany</td>\n",
       "      <td>Executive</td>\n",
       "      <td>CEO</td>\n",
       "      <td>35</td>\n",
       "      <td>M</td>\n",
       "      <td>Not Applicable</td>\n",
       "      <td>Not Applicable</td>\n",
       "      <td>2006</td>\n",
       "      <td>ACTIVE</td>\n",
       "      <td>HEADOFFICE</td>\n",
       "      <td>83783942</td>\n",
       "      <td>both</td>\n",
       "      <td>large_country</td>\n",
       "      <td>c_suite</td>\n",
       "      <td>older_adults</td>\n",
       "    </tr>\n",
       "    <tr>\n",
       "      <th>1</th>\n",
       "      <td>01/01/1900</td>\n",
       "      <td>53</td>\n",
       "      <td>18</td>\n",
       "      <td>Germany</td>\n",
       "      <td>Executive</td>\n",
       "      <td>CEO</td>\n",
       "      <td>35</td>\n",
       "      <td>M</td>\n",
       "      <td>Not Applicable</td>\n",
       "      <td>Not Applicable</td>\n",
       "      <td>2007</td>\n",
       "      <td>ACTIVE</td>\n",
       "      <td>HEADOFFICE</td>\n",
       "      <td>83783942</td>\n",
       "      <td>both</td>\n",
       "      <td>large_country</td>\n",
       "      <td>c_suite</td>\n",
       "      <td>older_adults</td>\n",
       "    </tr>\n",
       "    <tr>\n",
       "      <th>2</th>\n",
       "      <td>01/01/1900</td>\n",
       "      <td>54</td>\n",
       "      <td>19</td>\n",
       "      <td>Germany</td>\n",
       "      <td>Executive</td>\n",
       "      <td>CEO</td>\n",
       "      <td>35</td>\n",
       "      <td>M</td>\n",
       "      <td>Not Applicable</td>\n",
       "      <td>Not Applicable</td>\n",
       "      <td>2008</td>\n",
       "      <td>ACTIVE</td>\n",
       "      <td>HEADOFFICE</td>\n",
       "      <td>83783942</td>\n",
       "      <td>both</td>\n",
       "      <td>large_country</td>\n",
       "      <td>c_suite</td>\n",
       "      <td>older_adults</td>\n",
       "    </tr>\n",
       "    <tr>\n",
       "      <th>3</th>\n",
       "      <td>01/01/1900</td>\n",
       "      <td>55</td>\n",
       "      <td>20</td>\n",
       "      <td>Germany</td>\n",
       "      <td>Executive</td>\n",
       "      <td>CEO</td>\n",
       "      <td>35</td>\n",
       "      <td>M</td>\n",
       "      <td>Not Applicable</td>\n",
       "      <td>Not Applicable</td>\n",
       "      <td>2009</td>\n",
       "      <td>ACTIVE</td>\n",
       "      <td>HEADOFFICE</td>\n",
       "      <td>83783942</td>\n",
       "      <td>both</td>\n",
       "      <td>large_country</td>\n",
       "      <td>c_suite</td>\n",
       "      <td>older_adults</td>\n",
       "    </tr>\n",
       "    <tr>\n",
       "      <th>4</th>\n",
       "      <td>01/01/1900</td>\n",
       "      <td>56</td>\n",
       "      <td>21</td>\n",
       "      <td>Germany</td>\n",
       "      <td>Executive</td>\n",
       "      <td>CEO</td>\n",
       "      <td>35</td>\n",
       "      <td>M</td>\n",
       "      <td>Not Applicable</td>\n",
       "      <td>Not Applicable</td>\n",
       "      <td>2010</td>\n",
       "      <td>ACTIVE</td>\n",
       "      <td>HEADOFFICE</td>\n",
       "      <td>83783942</td>\n",
       "      <td>both</td>\n",
       "      <td>large_country</td>\n",
       "      <td>c_suite</td>\n",
       "      <td>older_adults</td>\n",
       "    </tr>\n",
       "  </tbody>\n",
       "</table>\n",
       "</div>"
      ],
      "text/plain": [
       "  terminationdate_key  age  length_of_service  country department_name  \\\n",
       "0          01/01/1900   52                 17  Germany       Executive   \n",
       "1          01/01/1900   53                 18  Germany       Executive   \n",
       "2          01/01/1900   54                 19  Germany       Executive   \n",
       "3          01/01/1900   55                 20  Germany       Executive   \n",
       "4          01/01/1900   56                 21  Germany       Executive   \n",
       "\n",
       "  job_title  store_number gender termreason_desc   termtype_desc  \\\n",
       "0       CEO            35      M  Not Applicable  Not Applicable   \n",
       "1       CEO            35      M  Not Applicable  Not Applicable   \n",
       "2       CEO            35      M  Not Applicable  Not Applicable   \n",
       "3       CEO            35      M  Not Applicable  Not Applicable   \n",
       "4       CEO            35      M  Not Applicable  Not Applicable   \n",
       "\n",
       "   year_of_record employment_status business_unit  population _merge  \\\n",
       "0            2006            ACTIVE    HEADOFFICE    83783942   both   \n",
       "1            2007            ACTIVE    HEADOFFICE    83783942   both   \n",
       "2            2008            ACTIVE    HEADOFFICE    83783942   both   \n",
       "3            2009            ACTIVE    HEADOFFICE    83783942   both   \n",
       "4            2010            ACTIVE    HEADOFFICE    83783942   both   \n",
       "\n",
       "        pop_flag seniority      age_flag  \n",
       "0  large_country   c_suite  older_adults  \n",
       "1  large_country   c_suite  older_adults  \n",
       "2  large_country   c_suite  older_adults  \n",
       "3  large_country   c_suite  older_adults  \n",
       "4  large_country   c_suite  older_adults  "
      ]
     },
     "execution_count": 64,
     "metadata": {},
     "output_type": "execute_result"
    }
   ],
   "source": [
    "#reminder of the dataset\n",
    "df_merge.head()"
   ]
  },
  {
   "cell_type": "code",
   "execution_count": 65,
   "id": "5475e9b3",
   "metadata": {},
   "outputs": [
    {
     "data": {
      "text/html": [
       "<div>\n",
       "<style scoped>\n",
       "    .dataframe tbody tr th:only-of-type {\n",
       "        vertical-align: middle;\n",
       "    }\n",
       "\n",
       "    .dataframe tbody tr th {\n",
       "        vertical-align: top;\n",
       "    }\n",
       "\n",
       "    .dataframe thead th {\n",
       "        text-align: right;\n",
       "    }\n",
       "</style>\n",
       "<table border=\"1\" class=\"dataframe\">\n",
       "  <thead>\n",
       "    <tr style=\"text-align: right;\">\n",
       "      <th></th>\n",
       "      <th>gender</th>\n",
       "      <th>termreason_desc</th>\n",
       "      <th>termtype_desc</th>\n",
       "      <th>employment_status</th>\n",
       "      <th>business_unit</th>\n",
       "      <th>pop_flag</th>\n",
       "      <th>seniority</th>\n",
       "      <th>age_flag</th>\n",
       "    </tr>\n",
       "  </thead>\n",
       "  <tbody>\n",
       "    <tr>\n",
       "      <th>0</th>\n",
       "      <td>M</td>\n",
       "      <td>Not Applicable</td>\n",
       "      <td>Not Applicable</td>\n",
       "      <td>ACTIVE</td>\n",
       "      <td>HEADOFFICE</td>\n",
       "      <td>large_country</td>\n",
       "      <td>c_suite</td>\n",
       "      <td>older_adults</td>\n",
       "    </tr>\n",
       "    <tr>\n",
       "      <th>1</th>\n",
       "      <td>M</td>\n",
       "      <td>Not Applicable</td>\n",
       "      <td>Not Applicable</td>\n",
       "      <td>ACTIVE</td>\n",
       "      <td>HEADOFFICE</td>\n",
       "      <td>large_country</td>\n",
       "      <td>c_suite</td>\n",
       "      <td>older_adults</td>\n",
       "    </tr>\n",
       "    <tr>\n",
       "      <th>2</th>\n",
       "      <td>M</td>\n",
       "      <td>Not Applicable</td>\n",
       "      <td>Not Applicable</td>\n",
       "      <td>ACTIVE</td>\n",
       "      <td>HEADOFFICE</td>\n",
       "      <td>large_country</td>\n",
       "      <td>c_suite</td>\n",
       "      <td>older_adults</td>\n",
       "    </tr>\n",
       "    <tr>\n",
       "      <th>3</th>\n",
       "      <td>M</td>\n",
       "      <td>Not Applicable</td>\n",
       "      <td>Not Applicable</td>\n",
       "      <td>ACTIVE</td>\n",
       "      <td>HEADOFFICE</td>\n",
       "      <td>large_country</td>\n",
       "      <td>c_suite</td>\n",
       "      <td>older_adults</td>\n",
       "    </tr>\n",
       "    <tr>\n",
       "      <th>4</th>\n",
       "      <td>M</td>\n",
       "      <td>Not Applicable</td>\n",
       "      <td>Not Applicable</td>\n",
       "      <td>ACTIVE</td>\n",
       "      <td>HEADOFFICE</td>\n",
       "      <td>large_country</td>\n",
       "      <td>c_suite</td>\n",
       "      <td>older_adults</td>\n",
       "    </tr>\n",
       "  </tbody>\n",
       "</table>\n",
       "</div>"
      ],
      "text/plain": [
       "  gender termreason_desc   termtype_desc employment_status business_unit  \\\n",
       "0      M  Not Applicable  Not Applicable            ACTIVE    HEADOFFICE   \n",
       "1      M  Not Applicable  Not Applicable            ACTIVE    HEADOFFICE   \n",
       "2      M  Not Applicable  Not Applicable            ACTIVE    HEADOFFICE   \n",
       "3      M  Not Applicable  Not Applicable            ACTIVE    HEADOFFICE   \n",
       "4      M  Not Applicable  Not Applicable            ACTIVE    HEADOFFICE   \n",
       "\n",
       "        pop_flag seniority      age_flag  \n",
       "0  large_country   c_suite  older_adults  \n",
       "1  large_country   c_suite  older_adults  \n",
       "2  large_country   c_suite  older_adults  \n",
       "3  large_country   c_suite  older_adults  \n",
       "4  large_country   c_suite  older_adults  "
      ]
     },
     "execution_count": 65,
     "metadata": {},
     "output_type": "execute_result"
    }
   ],
   "source": [
    "#creating a dataframe of only categorical variables to be converted to numeric\n",
    "df_categorical = df_merge[['gender', 'termreason_desc', 'termtype_desc', 'employment_status', 'business_unit', 'pop_flag', 'seniority', 'age_flag']]\n",
    "df_categorical.head()"
   ]
  },
  {
   "cell_type": "code",
   "execution_count": 66,
   "id": "f151c959",
   "metadata": {},
   "outputs": [
    {
     "name": "stdout",
     "output_type": "stream",
     "text": [
      "gender : ['M' 'F']\n",
      "termreason_desc : ['Not Applicable' 'Retirement' 'Resignaton' 'Layoff']\n",
      "termtype_desc : ['Not Applicable' 'Voluntary' 'Involuntary']\n",
      "employment_status : ['ACTIVE' 'TERMINATED']\n",
      "business_unit : ['HEADOFFICE' 'STORES']\n",
      "pop_flag : ['large_country' 'small_country' 'medium_country']\n",
      "seniority : ['c_suite' 'associate' 'director' 'manager']\n",
      "age_flag : ['older_adults' 'mid_adults' 'young_adults']\n"
     ]
    }
   ],
   "source": [
    "#print column names and all unique variables\n",
    "for column in df_categorical:\n",
    "    print (f'{column} : {df_categorical[column].unique()}')"
   ]
  },
  {
   "cell_type": "code",
   "execution_count": 67,
   "id": "39c9cecd",
   "metadata": {},
   "outputs": [
    {
     "data": {
      "text/html": [
       "<div>\n",
       "<style scoped>\n",
       "    .dataframe tbody tr th:only-of-type {\n",
       "        vertical-align: middle;\n",
       "    }\n",
       "\n",
       "    .dataframe tbody tr th {\n",
       "        vertical-align: top;\n",
       "    }\n",
       "\n",
       "    .dataframe thead th {\n",
       "        text-align: right;\n",
       "    }\n",
       "</style>\n",
       "<table border=\"1\" class=\"dataframe\">\n",
       "  <thead>\n",
       "    <tr style=\"text-align: right;\">\n",
       "      <th></th>\n",
       "      <th>terminationdate_key</th>\n",
       "      <th>age</th>\n",
       "      <th>length_of_service</th>\n",
       "      <th>country</th>\n",
       "      <th>department_name</th>\n",
       "      <th>job_title</th>\n",
       "      <th>store_number</th>\n",
       "      <th>gender</th>\n",
       "      <th>termreason_desc</th>\n",
       "      <th>termtype_desc</th>\n",
       "      <th>year_of_record</th>\n",
       "      <th>employment_status</th>\n",
       "      <th>business_unit</th>\n",
       "      <th>population</th>\n",
       "      <th>_merge</th>\n",
       "      <th>pop_flag</th>\n",
       "      <th>seniority</th>\n",
       "      <th>age_flag</th>\n",
       "    </tr>\n",
       "  </thead>\n",
       "  <tbody>\n",
       "    <tr>\n",
       "      <th>0</th>\n",
       "      <td>01/01/1900</td>\n",
       "      <td>52</td>\n",
       "      <td>17</td>\n",
       "      <td>Germany</td>\n",
       "      <td>Executive</td>\n",
       "      <td>CEO</td>\n",
       "      <td>35</td>\n",
       "      <td>M</td>\n",
       "      <td>Not Applicable</td>\n",
       "      <td>Not Applicable</td>\n",
       "      <td>2006</td>\n",
       "      <td>ACTIVE</td>\n",
       "      <td>HEADOFFICE</td>\n",
       "      <td>83783942</td>\n",
       "      <td>both</td>\n",
       "      <td>large_country</td>\n",
       "      <td>c_suite</td>\n",
       "      <td>older_adults</td>\n",
       "    </tr>\n",
       "    <tr>\n",
       "      <th>1</th>\n",
       "      <td>01/01/1900</td>\n",
       "      <td>53</td>\n",
       "      <td>18</td>\n",
       "      <td>Germany</td>\n",
       "      <td>Executive</td>\n",
       "      <td>CEO</td>\n",
       "      <td>35</td>\n",
       "      <td>M</td>\n",
       "      <td>Not Applicable</td>\n",
       "      <td>Not Applicable</td>\n",
       "      <td>2007</td>\n",
       "      <td>ACTIVE</td>\n",
       "      <td>HEADOFFICE</td>\n",
       "      <td>83783942</td>\n",
       "      <td>both</td>\n",
       "      <td>large_country</td>\n",
       "      <td>c_suite</td>\n",
       "      <td>older_adults</td>\n",
       "    </tr>\n",
       "    <tr>\n",
       "      <th>2</th>\n",
       "      <td>01/01/1900</td>\n",
       "      <td>54</td>\n",
       "      <td>19</td>\n",
       "      <td>Germany</td>\n",
       "      <td>Executive</td>\n",
       "      <td>CEO</td>\n",
       "      <td>35</td>\n",
       "      <td>M</td>\n",
       "      <td>Not Applicable</td>\n",
       "      <td>Not Applicable</td>\n",
       "      <td>2008</td>\n",
       "      <td>ACTIVE</td>\n",
       "      <td>HEADOFFICE</td>\n",
       "      <td>83783942</td>\n",
       "      <td>both</td>\n",
       "      <td>large_country</td>\n",
       "      <td>c_suite</td>\n",
       "      <td>older_adults</td>\n",
       "    </tr>\n",
       "    <tr>\n",
       "      <th>3</th>\n",
       "      <td>01/01/1900</td>\n",
       "      <td>55</td>\n",
       "      <td>20</td>\n",
       "      <td>Germany</td>\n",
       "      <td>Executive</td>\n",
       "      <td>CEO</td>\n",
       "      <td>35</td>\n",
       "      <td>M</td>\n",
       "      <td>Not Applicable</td>\n",
       "      <td>Not Applicable</td>\n",
       "      <td>2009</td>\n",
       "      <td>ACTIVE</td>\n",
       "      <td>HEADOFFICE</td>\n",
       "      <td>83783942</td>\n",
       "      <td>both</td>\n",
       "      <td>large_country</td>\n",
       "      <td>c_suite</td>\n",
       "      <td>older_adults</td>\n",
       "    </tr>\n",
       "    <tr>\n",
       "      <th>4</th>\n",
       "      <td>01/01/1900</td>\n",
       "      <td>56</td>\n",
       "      <td>21</td>\n",
       "      <td>Germany</td>\n",
       "      <td>Executive</td>\n",
       "      <td>CEO</td>\n",
       "      <td>35</td>\n",
       "      <td>M</td>\n",
       "      <td>Not Applicable</td>\n",
       "      <td>Not Applicable</td>\n",
       "      <td>2010</td>\n",
       "      <td>ACTIVE</td>\n",
       "      <td>HEADOFFICE</td>\n",
       "      <td>83783942</td>\n",
       "      <td>both</td>\n",
       "      <td>large_country</td>\n",
       "      <td>c_suite</td>\n",
       "      <td>older_adults</td>\n",
       "    </tr>\n",
       "  </tbody>\n",
       "</table>\n",
       "</div>"
      ],
      "text/plain": [
       "  terminationdate_key  age  length_of_service  country department_name  \\\n",
       "0          01/01/1900   52                 17  Germany       Executive   \n",
       "1          01/01/1900   53                 18  Germany       Executive   \n",
       "2          01/01/1900   54                 19  Germany       Executive   \n",
       "3          01/01/1900   55                 20  Germany       Executive   \n",
       "4          01/01/1900   56                 21  Germany       Executive   \n",
       "\n",
       "  job_title  store_number gender termreason_desc   termtype_desc  \\\n",
       "0       CEO            35      M  Not Applicable  Not Applicable   \n",
       "1       CEO            35      M  Not Applicable  Not Applicable   \n",
       "2       CEO            35      M  Not Applicable  Not Applicable   \n",
       "3       CEO            35      M  Not Applicable  Not Applicable   \n",
       "4       CEO            35      M  Not Applicable  Not Applicable   \n",
       "\n",
       "   year_of_record employment_status business_unit  population _merge  \\\n",
       "0            2006            ACTIVE    HEADOFFICE    83783942   both   \n",
       "1            2007            ACTIVE    HEADOFFICE    83783942   both   \n",
       "2            2008            ACTIVE    HEADOFFICE    83783942   both   \n",
       "3            2009            ACTIVE    HEADOFFICE    83783942   both   \n",
       "4            2010            ACTIVE    HEADOFFICE    83783942   both   \n",
       "\n",
       "        pop_flag seniority      age_flag  \n",
       "0  large_country   c_suite  older_adults  \n",
       "1  large_country   c_suite  older_adults  \n",
       "2  large_country   c_suite  older_adults  \n",
       "3  large_country   c_suite  older_adults  \n",
       "4  large_country   c_suite  older_adults  "
      ]
     },
     "execution_count": 67,
     "metadata": {},
     "output_type": "execute_result"
    }
   ],
   "source": [
    "df_merge.head()"
   ]
  },
  {
   "cell_type": "code",
   "execution_count": 68,
   "id": "ea0ea214",
   "metadata": {},
   "outputs": [
    {
     "data": {
      "text/html": [
       "<div>\n",
       "<style scoped>\n",
       "    .dataframe tbody tr th:only-of-type {\n",
       "        vertical-align: middle;\n",
       "    }\n",
       "\n",
       "    .dataframe tbody tr th {\n",
       "        vertical-align: top;\n",
       "    }\n",
       "\n",
       "    .dataframe thead th {\n",
       "        text-align: right;\n",
       "    }\n",
       "</style>\n",
       "<table border=\"1\" class=\"dataframe\">\n",
       "  <thead>\n",
       "    <tr style=\"text-align: right;\">\n",
       "      <th></th>\n",
       "      <th>country</th>\n",
       "      <th>department_name</th>\n",
       "      <th>terminationdate_key</th>\n",
       "      <th>age</th>\n",
       "      <th>length_of_service</th>\n",
       "      <th>job_title</th>\n",
       "      <th>store_number</th>\n",
       "      <th>year_of_record</th>\n",
       "      <th>population</th>\n",
       "      <th>pop_flag</th>\n",
       "      <th>gender</th>\n",
       "      <th>seniority</th>\n",
       "      <th>age_flag</th>\n",
       "      <th>termreason_desc</th>\n",
       "      <th>termtype_desc</th>\n",
       "      <th>business_unit</th>\n",
       "    </tr>\n",
       "  </thead>\n",
       "  <tbody>\n",
       "    <tr>\n",
       "      <th>0</th>\n",
       "      <td>Germany</td>\n",
       "      <td>Executive</td>\n",
       "      <td>01/01/1900</td>\n",
       "      <td>52</td>\n",
       "      <td>17</td>\n",
       "      <td>CEO</td>\n",
       "      <td>35</td>\n",
       "      <td>2006</td>\n",
       "      <td>83783942</td>\n",
       "      <td>large_country</td>\n",
       "      <td>M</td>\n",
       "      <td>c_suite</td>\n",
       "      <td>older_adults</td>\n",
       "      <td>Not Applicable</td>\n",
       "      <td>Not Applicable</td>\n",
       "      <td>HEADOFFICE</td>\n",
       "    </tr>\n",
       "    <tr>\n",
       "      <th>1</th>\n",
       "      <td>Germany</td>\n",
       "      <td>Executive</td>\n",
       "      <td>01/01/1900</td>\n",
       "      <td>53</td>\n",
       "      <td>18</td>\n",
       "      <td>CEO</td>\n",
       "      <td>35</td>\n",
       "      <td>2007</td>\n",
       "      <td>83783942</td>\n",
       "      <td>large_country</td>\n",
       "      <td>M</td>\n",
       "      <td>c_suite</td>\n",
       "      <td>older_adults</td>\n",
       "      <td>Not Applicable</td>\n",
       "      <td>Not Applicable</td>\n",
       "      <td>HEADOFFICE</td>\n",
       "    </tr>\n",
       "    <tr>\n",
       "      <th>2</th>\n",
       "      <td>Germany</td>\n",
       "      <td>Executive</td>\n",
       "      <td>01/01/1900</td>\n",
       "      <td>54</td>\n",
       "      <td>19</td>\n",
       "      <td>CEO</td>\n",
       "      <td>35</td>\n",
       "      <td>2008</td>\n",
       "      <td>83783942</td>\n",
       "      <td>large_country</td>\n",
       "      <td>M</td>\n",
       "      <td>c_suite</td>\n",
       "      <td>older_adults</td>\n",
       "      <td>Not Applicable</td>\n",
       "      <td>Not Applicable</td>\n",
       "      <td>HEADOFFICE</td>\n",
       "    </tr>\n",
       "    <tr>\n",
       "      <th>3</th>\n",
       "      <td>Germany</td>\n",
       "      <td>Executive</td>\n",
       "      <td>01/01/1900</td>\n",
       "      <td>55</td>\n",
       "      <td>20</td>\n",
       "      <td>CEO</td>\n",
       "      <td>35</td>\n",
       "      <td>2009</td>\n",
       "      <td>83783942</td>\n",
       "      <td>large_country</td>\n",
       "      <td>M</td>\n",
       "      <td>c_suite</td>\n",
       "      <td>older_adults</td>\n",
       "      <td>Not Applicable</td>\n",
       "      <td>Not Applicable</td>\n",
       "      <td>HEADOFFICE</td>\n",
       "    </tr>\n",
       "    <tr>\n",
       "      <th>4</th>\n",
       "      <td>Germany</td>\n",
       "      <td>Executive</td>\n",
       "      <td>01/01/1900</td>\n",
       "      <td>56</td>\n",
       "      <td>21</td>\n",
       "      <td>CEO</td>\n",
       "      <td>35</td>\n",
       "      <td>2010</td>\n",
       "      <td>83783942</td>\n",
       "      <td>large_country</td>\n",
       "      <td>M</td>\n",
       "      <td>c_suite</td>\n",
       "      <td>older_adults</td>\n",
       "      <td>Not Applicable</td>\n",
       "      <td>Not Applicable</td>\n",
       "      <td>HEADOFFICE</td>\n",
       "    </tr>\n",
       "  </tbody>\n",
       "</table>\n",
       "</div>"
      ],
      "text/plain": [
       "   country department_name terminationdate_key  age  length_of_service  \\\n",
       "0  Germany       Executive          01/01/1900   52                 17   \n",
       "1  Germany       Executive          01/01/1900   53                 18   \n",
       "2  Germany       Executive          01/01/1900   54                 19   \n",
       "3  Germany       Executive          01/01/1900   55                 20   \n",
       "4  Germany       Executive          01/01/1900   56                 21   \n",
       "\n",
       "  job_title  store_number  year_of_record  population       pop_flag gender  \\\n",
       "0       CEO            35            2006    83783942  large_country      M   \n",
       "1       CEO            35            2007    83783942  large_country      M   \n",
       "2       CEO            35            2008    83783942  large_country      M   \n",
       "3       CEO            35            2009    83783942  large_country      M   \n",
       "4       CEO            35            2010    83783942  large_country      M   \n",
       "\n",
       "  seniority      age_flag termreason_desc   termtype_desc business_unit  \n",
       "0   c_suite  older_adults  Not Applicable  Not Applicable    HEADOFFICE  \n",
       "1   c_suite  older_adults  Not Applicable  Not Applicable    HEADOFFICE  \n",
       "2   c_suite  older_adults  Not Applicable  Not Applicable    HEADOFFICE  \n",
       "3   c_suite  older_adults  Not Applicable  Not Applicable    HEADOFFICE  \n",
       "4   c_suite  older_adults  Not Applicable  Not Applicable    HEADOFFICE  "
      ]
     },
     "execution_count": 68,
     "metadata": {},
     "output_type": "execute_result"
    }
   ],
   "source": [
    "#creating a dataframe for the remaing variables which I will merge with the encoded variables \n",
    "df_original = df_merge[['country', 'department_name','terminationdate_key', 'age', 'length_of_service', 'job_title', 'store_number', 'year_of_record', 'population', 'pop_flag', 'gender', 'seniority', 'age_flag', 'termreason_desc', 'termtype_desc', 'business_unit']]\n",
    "df_original.head()"
   ]
  },
  {
   "cell_type": "markdown",
   "id": "cbdb80de",
   "metadata": {},
   "source": [
    "Once I have encoded my variables, I will merge them with the orginal numeric values. "
   ]
  },
  {
   "cell_type": "markdown",
   "id": "90b1f17e",
   "metadata": {},
   "source": [
    "### A. Variables with two distinct values"
   ]
  },
  {
   "cell_type": "markdown",
   "id": "8b23c1ab",
   "metadata": {},
   "source": [
    "#### a. Gender"
   ]
  },
  {
   "cell_type": "code",
   "execution_count": 69,
   "id": "15c30616",
   "metadata": {},
   "outputs": [
    {
     "data": {
      "text/plain": [
       "2"
      ]
     },
     "execution_count": 69,
     "metadata": {},
     "output_type": "execute_result"
    }
   ],
   "source": [
    "#confirming number of unique values prior to encoding so we can check results \n",
    "df_categorical['gender'].nunique()"
   ]
  },
  {
   "cell_type": "code",
   "execution_count": 70,
   "id": "884c4dde",
   "metadata": {},
   "outputs": [],
   "source": [
    "#defining department_name encoder object \n",
    "gender_encoder = LabelEncoder()"
   ]
  },
  {
   "cell_type": "code",
   "execution_count": 71,
   "id": "9414c5ad",
   "metadata": {},
   "outputs": [
    {
     "data": {
      "text/plain": [
       "LabelEncoder()"
      ]
     },
     "execution_count": 71,
     "metadata": {},
     "output_type": "execute_result"
    }
   ],
   "source": [
    "#fit the object into the data\n",
    "gender_encoder.fit(df_categorical['gender'])"
   ]
  },
  {
   "cell_type": "code",
   "execution_count": 72,
   "id": "a780d97a",
   "metadata": {},
   "outputs": [],
   "source": [
    "#convert into numerical format\n",
    "gender_values = gender_encoder.transform(df_categorical['gender'])"
   ]
  },
  {
   "cell_type": "code",
   "execution_count": 73,
   "id": "30bfe48b",
   "metadata": {},
   "outputs": [
    {
     "name": "stdout",
     "output_type": "stream",
     "text": [
      "Before Encoding: ['F', 'F', 'F', 'F', 'M', 'F', 'M', 'M', 'M', 'F']\n",
      "After Encoding: [0 0 0 0 1 0 1 1 1 0]\n",
      "The inverse from the encoding result: ['F' 'F' 'F' 'F' 'M' 'F' 'M' 'M' 'M' 'F']\n"
     ]
    }
   ],
   "source": [
    "print(\"Before Encoding:\", list(df_categorical['gender'][-10:]))\n",
    "print(\"After Encoding:\", gender_values[-10:])\n",
    "print(\"The inverse from the encoding result:\", gender_encoder.inverse_transform(gender_values[-10:]))"
   ]
  },
  {
   "cell_type": "code",
   "execution_count": 74,
   "id": "ff74af24",
   "metadata": {},
   "outputs": [
    {
     "data": {
      "text/html": [
       "<div>\n",
       "<style scoped>\n",
       "    .dataframe tbody tr th:only-of-type {\n",
       "        vertical-align: middle;\n",
       "    }\n",
       "\n",
       "    .dataframe tbody tr th {\n",
       "        vertical-align: top;\n",
       "    }\n",
       "\n",
       "    .dataframe thead th {\n",
       "        text-align: right;\n",
       "    }\n",
       "</style>\n",
       "<table border=\"1\" class=\"dataframe\">\n",
       "  <thead>\n",
       "    <tr style=\"text-align: right;\">\n",
       "      <th></th>\n",
       "      <th>gender</th>\n",
       "      <th>termreason_desc</th>\n",
       "      <th>termtype_desc</th>\n",
       "      <th>employment_status</th>\n",
       "      <th>business_unit</th>\n",
       "      <th>pop_flag</th>\n",
       "      <th>seniority</th>\n",
       "      <th>age_flag</th>\n",
       "    </tr>\n",
       "  </thead>\n",
       "  <tbody>\n",
       "    <tr>\n",
       "      <th>0</th>\n",
       "      <td>M</td>\n",
       "      <td>Not Applicable</td>\n",
       "      <td>Not Applicable</td>\n",
       "      <td>ACTIVE</td>\n",
       "      <td>HEADOFFICE</td>\n",
       "      <td>large_country</td>\n",
       "      <td>c_suite</td>\n",
       "      <td>older_adults</td>\n",
       "    </tr>\n",
       "    <tr>\n",
       "      <th>1</th>\n",
       "      <td>M</td>\n",
       "      <td>Not Applicable</td>\n",
       "      <td>Not Applicable</td>\n",
       "      <td>ACTIVE</td>\n",
       "      <td>HEADOFFICE</td>\n",
       "      <td>large_country</td>\n",
       "      <td>c_suite</td>\n",
       "      <td>older_adults</td>\n",
       "    </tr>\n",
       "    <tr>\n",
       "      <th>2</th>\n",
       "      <td>M</td>\n",
       "      <td>Not Applicable</td>\n",
       "      <td>Not Applicable</td>\n",
       "      <td>ACTIVE</td>\n",
       "      <td>HEADOFFICE</td>\n",
       "      <td>large_country</td>\n",
       "      <td>c_suite</td>\n",
       "      <td>older_adults</td>\n",
       "    </tr>\n",
       "    <tr>\n",
       "      <th>3</th>\n",
       "      <td>M</td>\n",
       "      <td>Not Applicable</td>\n",
       "      <td>Not Applicable</td>\n",
       "      <td>ACTIVE</td>\n",
       "      <td>HEADOFFICE</td>\n",
       "      <td>large_country</td>\n",
       "      <td>c_suite</td>\n",
       "      <td>older_adults</td>\n",
       "    </tr>\n",
       "    <tr>\n",
       "      <th>4</th>\n",
       "      <td>M</td>\n",
       "      <td>Not Applicable</td>\n",
       "      <td>Not Applicable</td>\n",
       "      <td>ACTIVE</td>\n",
       "      <td>HEADOFFICE</td>\n",
       "      <td>large_country</td>\n",
       "      <td>c_suite</td>\n",
       "      <td>older_adults</td>\n",
       "    </tr>\n",
       "  </tbody>\n",
       "</table>\n",
       "</div>"
      ],
      "text/plain": [
       "  gender termreason_desc   termtype_desc employment_status business_unit  \\\n",
       "0      M  Not Applicable  Not Applicable            ACTIVE    HEADOFFICE   \n",
       "1      M  Not Applicable  Not Applicable            ACTIVE    HEADOFFICE   \n",
       "2      M  Not Applicable  Not Applicable            ACTIVE    HEADOFFICE   \n",
       "3      M  Not Applicable  Not Applicable            ACTIVE    HEADOFFICE   \n",
       "4      M  Not Applicable  Not Applicable            ACTIVE    HEADOFFICE   \n",
       "\n",
       "        pop_flag seniority      age_flag  \n",
       "0  large_country   c_suite  older_adults  \n",
       "1  large_country   c_suite  older_adults  \n",
       "2  large_country   c_suite  older_adults  \n",
       "3  large_country   c_suite  older_adults  \n",
       "4  large_country   c_suite  older_adults  "
      ]
     },
     "execution_count": 74,
     "metadata": {},
     "output_type": "execute_result"
    }
   ],
   "source": [
    "#checking output\n",
    "df_categorical.head()"
   ]
  },
  {
   "cell_type": "code",
   "execution_count": 75,
   "id": "b8df7798",
   "metadata": {},
   "outputs": [
    {
     "data": {
      "text/plain": [
       "(49644, 8)"
      ]
     },
     "execution_count": 75,
     "metadata": {},
     "output_type": "execute_result"
    }
   ],
   "source": [
    "df_categorical.shape"
   ]
  },
  {
   "cell_type": "markdown",
   "id": "adb51ec8",
   "metadata": {},
   "source": [
    "**Notes** \n",
    "Female has been encoded as *0* and Male as *1*"
   ]
  },
  {
   "cell_type": "markdown",
   "id": "7075a357",
   "metadata": {},
   "source": [
    "#### b. Employment status"
   ]
  },
  {
   "cell_type": "code",
   "execution_count": 76,
   "id": "d801e572",
   "metadata": {},
   "outputs": [
    {
     "data": {
      "text/plain": [
       "2"
      ]
     },
     "execution_count": 76,
     "metadata": {},
     "output_type": "execute_result"
    }
   ],
   "source": [
    "#confirming number of unique values prior to encoding so we can check results \n",
    "df_categorical['employment_status'].nunique()"
   ]
  },
  {
   "cell_type": "code",
   "execution_count": 77,
   "id": "9c28ef38",
   "metadata": {},
   "outputs": [],
   "source": [
    "#defining department_name encoder object \n",
    "employment_encoder = LabelEncoder()"
   ]
  },
  {
   "cell_type": "code",
   "execution_count": 78,
   "id": "b8ae6b47",
   "metadata": {},
   "outputs": [
    {
     "name": "stdout",
     "output_type": "stream",
     "text": [
      "Before Encoding: ['ACTIVE', 'ACTIVE', 'ACTIVE', 'ACTIVE', 'ACTIVE']\n",
      "After Encoding: [0 0 0 0 0]\n",
      "The inverse from the encoding result: ['ACTIVE' 'ACTIVE' 'ACTIVE' 'ACTIVE' 'ACTIVE']\n"
     ]
    }
   ],
   "source": [
    "#encoding values\n",
    "employment_values = employment_encoder.fit_transform(df_categorical['employment_status'])\n",
    "\n",
    "print(\"Before Encoding:\", list(df_categorical['employment_status'][:5]))\n",
    "print(\"After Encoding:\", employment_values[:5])\n",
    "print(\"The inverse from the encoding result:\", employment_encoder.inverse_transform(employment_values[:5]))"
   ]
  },
  {
   "cell_type": "code",
   "execution_count": 79,
   "id": "efe53983",
   "metadata": {},
   "outputs": [
    {
     "data": {
      "text/html": [
       "<div>\n",
       "<style scoped>\n",
       "    .dataframe tbody tr th:only-of-type {\n",
       "        vertical-align: middle;\n",
       "    }\n",
       "\n",
       "    .dataframe tbody tr th {\n",
       "        vertical-align: top;\n",
       "    }\n",
       "\n",
       "    .dataframe thead th {\n",
       "        text-align: right;\n",
       "    }\n",
       "</style>\n",
       "<table border=\"1\" class=\"dataframe\">\n",
       "  <thead>\n",
       "    <tr style=\"text-align: right;\">\n",
       "      <th></th>\n",
       "      <th>gender</th>\n",
       "      <th>termreason_desc</th>\n",
       "      <th>termtype_desc</th>\n",
       "      <th>employment_status</th>\n",
       "      <th>business_unit</th>\n",
       "      <th>pop_flag</th>\n",
       "      <th>seniority</th>\n",
       "      <th>age_flag</th>\n",
       "    </tr>\n",
       "  </thead>\n",
       "  <tbody>\n",
       "    <tr>\n",
       "      <th>0</th>\n",
       "      <td>M</td>\n",
       "      <td>Not Applicable</td>\n",
       "      <td>Not Applicable</td>\n",
       "      <td>ACTIVE</td>\n",
       "      <td>HEADOFFICE</td>\n",
       "      <td>large_country</td>\n",
       "      <td>c_suite</td>\n",
       "      <td>older_adults</td>\n",
       "    </tr>\n",
       "    <tr>\n",
       "      <th>1</th>\n",
       "      <td>M</td>\n",
       "      <td>Not Applicable</td>\n",
       "      <td>Not Applicable</td>\n",
       "      <td>ACTIVE</td>\n",
       "      <td>HEADOFFICE</td>\n",
       "      <td>large_country</td>\n",
       "      <td>c_suite</td>\n",
       "      <td>older_adults</td>\n",
       "    </tr>\n",
       "    <tr>\n",
       "      <th>2</th>\n",
       "      <td>M</td>\n",
       "      <td>Not Applicable</td>\n",
       "      <td>Not Applicable</td>\n",
       "      <td>ACTIVE</td>\n",
       "      <td>HEADOFFICE</td>\n",
       "      <td>large_country</td>\n",
       "      <td>c_suite</td>\n",
       "      <td>older_adults</td>\n",
       "    </tr>\n",
       "    <tr>\n",
       "      <th>3</th>\n",
       "      <td>M</td>\n",
       "      <td>Not Applicable</td>\n",
       "      <td>Not Applicable</td>\n",
       "      <td>ACTIVE</td>\n",
       "      <td>HEADOFFICE</td>\n",
       "      <td>large_country</td>\n",
       "      <td>c_suite</td>\n",
       "      <td>older_adults</td>\n",
       "    </tr>\n",
       "    <tr>\n",
       "      <th>4</th>\n",
       "      <td>M</td>\n",
       "      <td>Not Applicable</td>\n",
       "      <td>Not Applicable</td>\n",
       "      <td>ACTIVE</td>\n",
       "      <td>HEADOFFICE</td>\n",
       "      <td>large_country</td>\n",
       "      <td>c_suite</td>\n",
       "      <td>older_adults</td>\n",
       "    </tr>\n",
       "  </tbody>\n",
       "</table>\n",
       "</div>"
      ],
      "text/plain": [
       "  gender termreason_desc   termtype_desc employment_status business_unit  \\\n",
       "0      M  Not Applicable  Not Applicable            ACTIVE    HEADOFFICE   \n",
       "1      M  Not Applicable  Not Applicable            ACTIVE    HEADOFFICE   \n",
       "2      M  Not Applicable  Not Applicable            ACTIVE    HEADOFFICE   \n",
       "3      M  Not Applicable  Not Applicable            ACTIVE    HEADOFFICE   \n",
       "4      M  Not Applicable  Not Applicable            ACTIVE    HEADOFFICE   \n",
       "\n",
       "        pop_flag seniority      age_flag  \n",
       "0  large_country   c_suite  older_adults  \n",
       "1  large_country   c_suite  older_adults  \n",
       "2  large_country   c_suite  older_adults  \n",
       "3  large_country   c_suite  older_adults  \n",
       "4  large_country   c_suite  older_adults  "
      ]
     },
     "execution_count": 79,
     "metadata": {},
     "output_type": "execute_result"
    }
   ],
   "source": [
    "#checking output\n",
    "df_categorical.head()"
   ]
  },
  {
   "cell_type": "code",
   "execution_count": 80,
   "id": "b4033a95",
   "metadata": {},
   "outputs": [
    {
     "data": {
      "text/plain": [
       "(49644, 18)"
      ]
     },
     "execution_count": 80,
     "metadata": {},
     "output_type": "execute_result"
    }
   ],
   "source": [
    "df_merge.shape"
   ]
  },
  {
   "cell_type": "code",
   "execution_count": 81,
   "id": "d0cdb5b5",
   "metadata": {},
   "outputs": [
    {
     "data": {
      "text/plain": [
       "2"
      ]
     },
     "execution_count": 81,
     "metadata": {},
     "output_type": "execute_result"
    }
   ],
   "source": [
    "df_categorical['employment_status'].nunique()"
   ]
  },
  {
   "cell_type": "markdown",
   "id": "2215731b",
   "metadata": {},
   "source": [
    "**Notes** \n",
    "ACTIVE has been encoded as *0* and TERMINATED as *1*"
   ]
  },
  {
   "cell_type": "markdown",
   "id": "8bf1978e",
   "metadata": {},
   "source": [
    "#### c. Business unit"
   ]
  },
  {
   "cell_type": "code",
   "execution_count": 82,
   "id": "dc1040db",
   "metadata": {},
   "outputs": [
    {
     "data": {
      "text/plain": [
       "2"
      ]
     },
     "execution_count": 82,
     "metadata": {},
     "output_type": "execute_result"
    }
   ],
   "source": [
    "#confirming number of unique values prior to encoding so we can check results \n",
    "df_categorical['business_unit'].nunique()"
   ]
  },
  {
   "cell_type": "code",
   "execution_count": 83,
   "id": "0ad9df83",
   "metadata": {},
   "outputs": [],
   "source": [
    "#defining department_name encoder object\n",
    "business_encoder = LabelEncoder()"
   ]
  },
  {
   "cell_type": "code",
   "execution_count": 84,
   "id": "02130d13",
   "metadata": {},
   "outputs": [
    {
     "name": "stdout",
     "output_type": "stream",
     "text": [
      "Before Encoding: ['HEADOFFICE', 'HEADOFFICE', 'HEADOFFICE', 'HEADOFFICE', 'HEADOFFICE']\n",
      "After Encoding: [0 0 0 0 0]\n",
      "The inverse from the encoding result: ['HEADOFFICE' 'HEADOFFICE' 'HEADOFFICE' 'HEADOFFICE' 'HEADOFFICE']\n"
     ]
    }
   ],
   "source": [
    "#encoding values\n",
    "business_values = business_encoder.fit_transform(df_categorical['business_unit'])\n",
    "\n",
    "print(\"Before Encoding:\", list(df_categorical['business_unit'][:5]))\n",
    "print(\"After Encoding:\", business_values[:5])\n",
    "print(\"The inverse from the encoding result:\", business_encoder.inverse_transform(business_values[:5]))"
   ]
  },
  {
   "cell_type": "code",
   "execution_count": 85,
   "id": "c77c6512",
   "metadata": {},
   "outputs": [
    {
     "data": {
      "text/html": [
       "<div>\n",
       "<style scoped>\n",
       "    .dataframe tbody tr th:only-of-type {\n",
       "        vertical-align: middle;\n",
       "    }\n",
       "\n",
       "    .dataframe tbody tr th {\n",
       "        vertical-align: top;\n",
       "    }\n",
       "\n",
       "    .dataframe thead th {\n",
       "        text-align: right;\n",
       "    }\n",
       "</style>\n",
       "<table border=\"1\" class=\"dataframe\">\n",
       "  <thead>\n",
       "    <tr style=\"text-align: right;\">\n",
       "      <th></th>\n",
       "      <th>gender</th>\n",
       "      <th>termreason_desc</th>\n",
       "      <th>termtype_desc</th>\n",
       "      <th>employment_status</th>\n",
       "      <th>business_unit</th>\n",
       "      <th>pop_flag</th>\n",
       "      <th>seniority</th>\n",
       "      <th>age_flag</th>\n",
       "    </tr>\n",
       "  </thead>\n",
       "  <tbody>\n",
       "    <tr>\n",
       "      <th>0</th>\n",
       "      <td>M</td>\n",
       "      <td>Not Applicable</td>\n",
       "      <td>Not Applicable</td>\n",
       "      <td>ACTIVE</td>\n",
       "      <td>HEADOFFICE</td>\n",
       "      <td>large_country</td>\n",
       "      <td>c_suite</td>\n",
       "      <td>older_adults</td>\n",
       "    </tr>\n",
       "    <tr>\n",
       "      <th>1</th>\n",
       "      <td>M</td>\n",
       "      <td>Not Applicable</td>\n",
       "      <td>Not Applicable</td>\n",
       "      <td>ACTIVE</td>\n",
       "      <td>HEADOFFICE</td>\n",
       "      <td>large_country</td>\n",
       "      <td>c_suite</td>\n",
       "      <td>older_adults</td>\n",
       "    </tr>\n",
       "    <tr>\n",
       "      <th>2</th>\n",
       "      <td>M</td>\n",
       "      <td>Not Applicable</td>\n",
       "      <td>Not Applicable</td>\n",
       "      <td>ACTIVE</td>\n",
       "      <td>HEADOFFICE</td>\n",
       "      <td>large_country</td>\n",
       "      <td>c_suite</td>\n",
       "      <td>older_adults</td>\n",
       "    </tr>\n",
       "    <tr>\n",
       "      <th>3</th>\n",
       "      <td>M</td>\n",
       "      <td>Not Applicable</td>\n",
       "      <td>Not Applicable</td>\n",
       "      <td>ACTIVE</td>\n",
       "      <td>HEADOFFICE</td>\n",
       "      <td>large_country</td>\n",
       "      <td>c_suite</td>\n",
       "      <td>older_adults</td>\n",
       "    </tr>\n",
       "    <tr>\n",
       "      <th>4</th>\n",
       "      <td>M</td>\n",
       "      <td>Not Applicable</td>\n",
       "      <td>Not Applicable</td>\n",
       "      <td>ACTIVE</td>\n",
       "      <td>HEADOFFICE</td>\n",
       "      <td>large_country</td>\n",
       "      <td>c_suite</td>\n",
       "      <td>older_adults</td>\n",
       "    </tr>\n",
       "  </tbody>\n",
       "</table>\n",
       "</div>"
      ],
      "text/plain": [
       "  gender termreason_desc   termtype_desc employment_status business_unit  \\\n",
       "0      M  Not Applicable  Not Applicable            ACTIVE    HEADOFFICE   \n",
       "1      M  Not Applicable  Not Applicable            ACTIVE    HEADOFFICE   \n",
       "2      M  Not Applicable  Not Applicable            ACTIVE    HEADOFFICE   \n",
       "3      M  Not Applicable  Not Applicable            ACTIVE    HEADOFFICE   \n",
       "4      M  Not Applicable  Not Applicable            ACTIVE    HEADOFFICE   \n",
       "\n",
       "        pop_flag seniority      age_flag  \n",
       "0  large_country   c_suite  older_adults  \n",
       "1  large_country   c_suite  older_adults  \n",
       "2  large_country   c_suite  older_adults  \n",
       "3  large_country   c_suite  older_adults  \n",
       "4  large_country   c_suite  older_adults  "
      ]
     },
     "execution_count": 85,
     "metadata": {},
     "output_type": "execute_result"
    }
   ],
   "source": [
    "#checking output\n",
    "df_categorical.head()"
   ]
  },
  {
   "cell_type": "code",
   "execution_count": 86,
   "id": "1660f7fd",
   "metadata": {},
   "outputs": [
    {
     "data": {
      "text/plain": [
       "(49644, 8)"
      ]
     },
     "execution_count": 86,
     "metadata": {},
     "output_type": "execute_result"
    }
   ],
   "source": [
    "df_categorical.shape"
   ]
  },
  {
   "cell_type": "code",
   "execution_count": 87,
   "id": "f35a8468",
   "metadata": {},
   "outputs": [
    {
     "data": {
      "text/plain": [
       "2"
      ]
     },
     "execution_count": 87,
     "metadata": {},
     "output_type": "execute_result"
    }
   ],
   "source": [
    "df_categorical['employment_status'].nunique()"
   ]
  },
  {
   "cell_type": "markdown",
   "id": "abd5a983",
   "metadata": {},
   "source": [
    "**Notes** \n",
    "HEADOFFICE has been encoded as *0* and STORES as *1*"
   ]
  },
  {
   "cell_type": "markdown",
   "id": "646f5aad",
   "metadata": {},
   "source": [
    "### B. Variables with multiple distinct values"
   ]
  },
  {
   "cell_type": "markdown",
   "id": "4c487cd9",
   "metadata": {},
   "source": [
    "For variables with multiple distinct values we need to ise a 2-dimensional array as the input. "
   ]
  },
  {
   "cell_type": "markdown",
   "id": "bd55c5dc",
   "metadata": {},
   "source": [
    "#### a. Term reason"
   ]
  },
  {
   "cell_type": "code",
   "execution_count": 88,
   "id": "7bdd346b",
   "metadata": {},
   "outputs": [
    {
     "data": {
      "text/plain": [
       "Not Applicable    48160\n",
       "Retirement          885\n",
       "Resignaton          385\n",
       "Layoff              214\n",
       "Name: termreason_desc, dtype: int64"
      ]
     },
     "execution_count": 88,
     "metadata": {},
     "output_type": "execute_result"
    }
   ],
   "source": [
    "df_categorical['termreason_desc'].value_counts()"
   ]
  },
  {
   "cell_type": "code",
   "execution_count": 89,
   "id": "80633d7f",
   "metadata": {
    "scrolled": true
   },
   "outputs": [
    {
     "name": "stdout",
     "output_type": "stream",
     "text": [
      "0    Not Applicable\n",
      "1    Not Applicable\n",
      "2    Not Applicable\n",
      "3    Not Applicable\n",
      "4    Not Applicable\n",
      "Name: termreason_desc, dtype: object\n",
      "\n",
      "[[0. 1. 0. 0.]\n",
      " [0. 1. 0. 0.]\n",
      " [0. 1. 0. 0.]\n",
      " [0. 1. 0. 0.]\n",
      " [0. 1. 0. 0.]]\n",
      "\n",
      "[['Not Applicable']\n",
      " ['Not Applicable']\n",
      " ['Not Applicable']\n",
      " ['Not Applicable']\n",
      " ['Not Applicable']]\n"
     ]
    }
   ],
   "source": [
    "treason_encoder = OneHotEncoder()\n",
    "treason_reshaped = np.array(df_categorical['termreason_desc']).reshape(-1, 1)\n",
    "treason_values = treason_encoder.fit_transform(treason_reshaped)\n",
    "\n",
    "print(df_categorical['termreason_desc'][:5])\n",
    "print()\n",
    "print(treason_values.toarray()[:5])\n",
    "print()\n",
    "print(treason_encoder.inverse_transform(treason_values)[:5])"
   ]
  },
  {
   "cell_type": "markdown",
   "id": "5f634d24",
   "metadata": {},
   "source": [
    "#### b. Term type"
   ]
  },
  {
   "cell_type": "code",
   "execution_count": 90,
   "id": "deb37100",
   "metadata": {},
   "outputs": [
    {
     "data": {
      "text/plain": [
       "Not Applicable    48160\n",
       "Voluntary          1270\n",
       "Involuntary         214\n",
       "Name: termtype_desc, dtype: int64"
      ]
     },
     "execution_count": 90,
     "metadata": {},
     "output_type": "execute_result"
    }
   ],
   "source": [
    "df_categorical['termtype_desc'].value_counts()"
   ]
  },
  {
   "cell_type": "code",
   "execution_count": 91,
   "id": "c13090cb",
   "metadata": {},
   "outputs": [
    {
     "name": "stdout",
     "output_type": "stream",
     "text": [
      "0    Not Applicable\n",
      "1    Not Applicable\n",
      "2    Not Applicable\n",
      "3    Not Applicable\n",
      "4    Not Applicable\n",
      "Name: termtype_desc, dtype: object\n",
      "\n",
      "[[0. 1. 0.]\n",
      " [0. 1. 0.]\n",
      " [0. 1. 0.]\n",
      " [0. 1. 0.]\n",
      " [0. 1. 0.]]\n",
      "\n",
      "[['Not Applicable']\n",
      " ['Not Applicable']\n",
      " ['Not Applicable']\n",
      " ['Not Applicable']\n",
      " ['Not Applicable']]\n"
     ]
    }
   ],
   "source": [
    "ttype_encoder = OneHotEncoder()\n",
    "ttype_reshaped = np.array(df_categorical['termtype_desc']).reshape(-1, 1)\n",
    "ttype_values = ttype_encoder.fit_transform(ttype_reshaped)\n",
    "\n",
    "print(df_categorical['termtype_desc'][:5])\n",
    "print()\n",
    "print(ttype_values.toarray()[:5])\n",
    "print()\n",
    "print(ttype_encoder.inverse_transform(ttype_values)[:5])"
   ]
  },
  {
   "cell_type": "markdown",
   "id": "f5093a9e",
   "metadata": {},
   "source": [
    "#### c. Population flag "
   ]
  },
  {
   "cell_type": "code",
   "execution_count": 92,
   "id": "d7897929",
   "metadata": {},
   "outputs": [
    {
     "data": {
      "text/plain": [
       "large_country     21121\n",
       "medium_country    14650\n",
       "small_country     13873\n",
       "Name: pop_flag, dtype: int64"
      ]
     },
     "execution_count": 92,
     "metadata": {},
     "output_type": "execute_result"
    }
   ],
   "source": [
    "df_categorical['pop_flag'].value_counts()"
   ]
  },
  {
   "cell_type": "code",
   "execution_count": 93,
   "id": "965e521a",
   "metadata": {},
   "outputs": [
    {
     "name": "stdout",
     "output_type": "stream",
     "text": [
      "0    large_country\n",
      "1    large_country\n",
      "2    large_country\n",
      "3    large_country\n",
      "4    large_country\n",
      "Name: pop_flag, dtype: object\n",
      "\n",
      "[[1. 0. 0.]\n",
      " [1. 0. 0.]\n",
      " [1. 0. 0.]\n",
      " [1. 0. 0.]\n",
      " [1. 0. 0.]]\n",
      "\n",
      "[['large_country']\n",
      " ['large_country']\n",
      " ['large_country']\n",
      " ['large_country']\n",
      " ['large_country']]\n"
     ]
    }
   ],
   "source": [
    "popflag_encoder = OneHotEncoder()\n",
    "popflag_reshaped = np.array(df_categorical['pop_flag']).reshape(-1, 1)\n",
    "popflag_values = popflag_encoder.fit_transform(popflag_reshaped)\n",
    "\n",
    "print(df_categorical['pop_flag'][:5])\n",
    "print()\n",
    "print(popflag_values.toarray()[:5])\n",
    "print()\n",
    "print(popflag_encoder.inverse_transform(popflag_values)[:5])"
   ]
  },
  {
   "cell_type": "markdown",
   "id": "b443a98e",
   "metadata": {},
   "source": [
    "#### d. Seniority"
   ]
  },
  {
   "cell_type": "code",
   "execution_count": 94,
   "id": "f96c33d4",
   "metadata": {},
   "outputs": [
    {
     "data": {
      "text/plain": [
       "associate    47796\n",
       "manager       1723\n",
       "director        75\n",
       "c_suite         50\n",
       "Name: seniority, dtype: int64"
      ]
     },
     "execution_count": 94,
     "metadata": {},
     "output_type": "execute_result"
    }
   ],
   "source": [
    "df_categorical['seniority'].value_counts()"
   ]
  },
  {
   "cell_type": "code",
   "execution_count": 95,
   "id": "6547ce62",
   "metadata": {},
   "outputs": [
    {
     "name": "stdout",
     "output_type": "stream",
     "text": [
      "0    c_suite\n",
      "1    c_suite\n",
      "2    c_suite\n",
      "3    c_suite\n",
      "4    c_suite\n",
      "Name: seniority, dtype: object\n",
      "\n",
      "[[0. 1. 0. 0.]\n",
      " [0. 1. 0. 0.]\n",
      " [0. 1. 0. 0.]\n",
      " [0. 1. 0. 0.]\n",
      " [0. 1. 0. 0.]]\n",
      "\n",
      "[['c_suite']\n",
      " ['c_suite']\n",
      " ['c_suite']\n",
      " ['c_suite']\n",
      " ['c_suite']]\n"
     ]
    }
   ],
   "source": [
    "seniority_encoder = OneHotEncoder()\n",
    "seniority_reshaped = np.array(df_categorical['seniority']).reshape(-1, 1)\n",
    "seniority_values = seniority_encoder.fit_transform(seniority_reshaped)\n",
    "\n",
    "print(df_categorical['seniority'][:5])\n",
    "print()\n",
    "print(seniority_values.toarray()[:5])\n",
    "print()\n",
    "print(seniority_encoder.inverse_transform(seniority_values)[:5])"
   ]
  },
  {
   "cell_type": "markdown",
   "id": "d04154e4",
   "metadata": {},
   "source": [
    "#### e. Age flag"
   ]
  },
  {
   "cell_type": "code",
   "execution_count": 96,
   "id": "b4d76e77",
   "metadata": {},
   "outputs": [
    {
     "data": {
      "text/plain": [
       "mid_adults      17378\n",
       "older_adults    16154\n",
       "young_adults    16112\n",
       "Name: age_flag, dtype: int64"
      ]
     },
     "execution_count": 96,
     "metadata": {},
     "output_type": "execute_result"
    }
   ],
   "source": [
    "df_categorical['age_flag'].value_counts()"
   ]
  },
  {
   "cell_type": "code",
   "execution_count": 97,
   "id": "0f94446c",
   "metadata": {},
   "outputs": [
    {
     "name": "stdout",
     "output_type": "stream",
     "text": [
      "0    older_adults\n",
      "1    older_adults\n",
      "2    older_adults\n",
      "3    older_adults\n",
      "4    older_adults\n",
      "Name: age_flag, dtype: object\n",
      "\n",
      "[[0. 1. 0.]\n",
      " [0. 1. 0.]\n",
      " [0. 1. 0.]\n",
      " [0. 1. 0.]\n",
      " [0. 1. 0.]]\n",
      "\n",
      "[['older_adults']\n",
      " ['older_adults']\n",
      " ['older_adults']\n",
      " ['older_adults']\n",
      " ['older_adults']]\n"
     ]
    }
   ],
   "source": [
    "ageflag_encoder = OneHotEncoder()\n",
    "ageflag_reshaped = np.array(df_categorical['age_flag']).reshape(-1, 1)\n",
    "ageflag_values = ageflag_encoder.fit_transform(ageflag_reshaped)\n",
    "\n",
    "print(df_categorical['age_flag'][:5])\n",
    "print()\n",
    "print(ageflag_values.toarray()[:5])\n",
    "print()\n",
    "print(ageflag_encoder.inverse_transform(ageflag_values)[:5])"
   ]
  },
  {
   "cell_type": "markdown",
   "id": "8f839958",
   "metadata": {},
   "source": [
    "### C. Creating encoded dataframe"
   ]
  },
  {
   "cell_type": "markdown",
   "id": "cd197e5b",
   "metadata": {},
   "source": [
    "For each column, I will initialize the DataFrame object for creating the dataframe. \n",
    "\n",
    "    1. Gender\n",
    "    2. Employment status\n",
    "    3. Business unit\n",
    "    4. Term reason\n",
    "    5. Term type\n",
    "    6. Population flag\n",
    "    7. Seniority\n",
    "    8. Age flag"
   ]
  },
  {
   "cell_type": "code",
   "execution_count": 98,
   "id": "aef22001",
   "metadata": {},
   "outputs": [],
   "source": [
    "#gender\n",
    "gender = pd.DataFrame(gender_values, columns=['gender'])"
   ]
  },
  {
   "cell_type": "code",
   "execution_count": 99,
   "id": "a3cbc055",
   "metadata": {},
   "outputs": [],
   "source": [
    "#employment status\n",
    "employmentstatus = pd.DataFrame(employment_values, columns=['employment_status'])"
   ]
  },
  {
   "cell_type": "code",
   "execution_count": 100,
   "id": "2dd0acf1",
   "metadata": {},
   "outputs": [],
   "source": [
    "#business unit\n",
    "businessunit = pd.DataFrame(business_values, columns=['business_unit'])"
   ]
  },
  {
   "cell_type": "code",
   "execution_count": 101,
   "id": "b9f4e7cf",
   "metadata": {},
   "outputs": [],
   "source": [
    "#termination reason\n",
    "termreason = pd.DataFrame(treason_values.toarray(), columns=['Not Applicable', 'Retirement', 'Resignaton', 'Layoff'])"
   ]
  },
  {
   "cell_type": "code",
   "execution_count": 102,
   "id": "12edba5a",
   "metadata": {},
   "outputs": [],
   "source": [
    "#term type \n",
    "termtype = pd.DataFrame(ttype_values.toarray(), columns=['Not Applicable', 'Voluntary', 'Involuntary'])"
   ]
  },
  {
   "cell_type": "code",
   "execution_count": 103,
   "id": "b6110399",
   "metadata": {},
   "outputs": [],
   "source": [
    "#population flag \n",
    "popflag = pd.DataFrame(popflag_values.toarray(), columns=['large_country', 'medium_country', 'small_country'])"
   ]
  },
  {
   "cell_type": "code",
   "execution_count": 104,
   "id": "fe373c0b",
   "metadata": {},
   "outputs": [],
   "source": [
    "#seniority \n",
    "seniorityflag = pd.DataFrame(seniority_values.toarray(), columns=['c_suite', 'associate', 'director', 'manager'])"
   ]
  },
  {
   "cell_type": "code",
   "execution_count": 105,
   "id": "009b98eb",
   "metadata": {},
   "outputs": [],
   "source": [
    "#age flag\n",
    "ageflag = pd.DataFrame(ageflag_values.toarray(), columns=['older_adults', 'mid_adults', 'young_adults'])"
   ]
  },
  {
   "cell_type": "markdown",
   "id": "c25a512c",
   "metadata": {},
   "source": [
    "Next we combine all of the categorical columns into one dataframe."
   ]
  },
  {
   "cell_type": "code",
   "execution_count": 106,
   "id": "a1c46a8a",
   "metadata": {},
   "outputs": [],
   "source": [
    "df_categorical_encoded = pd.concat([gender, employmentstatus, businessunit, termreason, termtype, popflag, seniorityflag, ageflag], axis=1)"
   ]
  },
  {
   "cell_type": "code",
   "execution_count": 107,
   "id": "f20b0e98",
   "metadata": {},
   "outputs": [
    {
     "name": "stdout",
     "output_type": "stream",
     "text": [
      "(49644, 20)\n"
     ]
    },
    {
     "data": {
      "text/html": [
       "<div>\n",
       "<style scoped>\n",
       "    .dataframe tbody tr th:only-of-type {\n",
       "        vertical-align: middle;\n",
       "    }\n",
       "\n",
       "    .dataframe tbody tr th {\n",
       "        vertical-align: top;\n",
       "    }\n",
       "\n",
       "    .dataframe thead th {\n",
       "        text-align: right;\n",
       "    }\n",
       "</style>\n",
       "<table border=\"1\" class=\"dataframe\">\n",
       "  <thead>\n",
       "    <tr style=\"text-align: right;\">\n",
       "      <th></th>\n",
       "      <th>gender</th>\n",
       "      <th>employment_status</th>\n",
       "      <th>business_unit</th>\n",
       "      <th>Not Applicable</th>\n",
       "      <th>Retirement</th>\n",
       "      <th>Resignaton</th>\n",
       "      <th>Layoff</th>\n",
       "      <th>Not Applicable</th>\n",
       "      <th>Voluntary</th>\n",
       "      <th>Involuntary</th>\n",
       "      <th>large_country</th>\n",
       "      <th>medium_country</th>\n",
       "      <th>small_country</th>\n",
       "      <th>c_suite</th>\n",
       "      <th>associate</th>\n",
       "      <th>director</th>\n",
       "      <th>manager</th>\n",
       "      <th>older_adults</th>\n",
       "      <th>mid_adults</th>\n",
       "      <th>young_adults</th>\n",
       "    </tr>\n",
       "  </thead>\n",
       "  <tbody>\n",
       "    <tr>\n",
       "      <th>0</th>\n",
       "      <td>1</td>\n",
       "      <td>0</td>\n",
       "      <td>0</td>\n",
       "      <td>0.0</td>\n",
       "      <td>1.0</td>\n",
       "      <td>0.0</td>\n",
       "      <td>0.0</td>\n",
       "      <td>0.0</td>\n",
       "      <td>1.0</td>\n",
       "      <td>0.0</td>\n",
       "      <td>1.0</td>\n",
       "      <td>0.0</td>\n",
       "      <td>0.0</td>\n",
       "      <td>0.0</td>\n",
       "      <td>1.0</td>\n",
       "      <td>0.0</td>\n",
       "      <td>0.0</td>\n",
       "      <td>0.0</td>\n",
       "      <td>1.0</td>\n",
       "      <td>0.0</td>\n",
       "    </tr>\n",
       "    <tr>\n",
       "      <th>1</th>\n",
       "      <td>1</td>\n",
       "      <td>0</td>\n",
       "      <td>0</td>\n",
       "      <td>0.0</td>\n",
       "      <td>1.0</td>\n",
       "      <td>0.0</td>\n",
       "      <td>0.0</td>\n",
       "      <td>0.0</td>\n",
       "      <td>1.0</td>\n",
       "      <td>0.0</td>\n",
       "      <td>1.0</td>\n",
       "      <td>0.0</td>\n",
       "      <td>0.0</td>\n",
       "      <td>0.0</td>\n",
       "      <td>1.0</td>\n",
       "      <td>0.0</td>\n",
       "      <td>0.0</td>\n",
       "      <td>0.0</td>\n",
       "      <td>1.0</td>\n",
       "      <td>0.0</td>\n",
       "    </tr>\n",
       "    <tr>\n",
       "      <th>2</th>\n",
       "      <td>1</td>\n",
       "      <td>0</td>\n",
       "      <td>0</td>\n",
       "      <td>0.0</td>\n",
       "      <td>1.0</td>\n",
       "      <td>0.0</td>\n",
       "      <td>0.0</td>\n",
       "      <td>0.0</td>\n",
       "      <td>1.0</td>\n",
       "      <td>0.0</td>\n",
       "      <td>1.0</td>\n",
       "      <td>0.0</td>\n",
       "      <td>0.0</td>\n",
       "      <td>0.0</td>\n",
       "      <td>1.0</td>\n",
       "      <td>0.0</td>\n",
       "      <td>0.0</td>\n",
       "      <td>0.0</td>\n",
       "      <td>1.0</td>\n",
       "      <td>0.0</td>\n",
       "    </tr>\n",
       "    <tr>\n",
       "      <th>3</th>\n",
       "      <td>1</td>\n",
       "      <td>0</td>\n",
       "      <td>0</td>\n",
       "      <td>0.0</td>\n",
       "      <td>1.0</td>\n",
       "      <td>0.0</td>\n",
       "      <td>0.0</td>\n",
       "      <td>0.0</td>\n",
       "      <td>1.0</td>\n",
       "      <td>0.0</td>\n",
       "      <td>1.0</td>\n",
       "      <td>0.0</td>\n",
       "      <td>0.0</td>\n",
       "      <td>0.0</td>\n",
       "      <td>1.0</td>\n",
       "      <td>0.0</td>\n",
       "      <td>0.0</td>\n",
       "      <td>0.0</td>\n",
       "      <td>1.0</td>\n",
       "      <td>0.0</td>\n",
       "    </tr>\n",
       "    <tr>\n",
       "      <th>4</th>\n",
       "      <td>1</td>\n",
       "      <td>0</td>\n",
       "      <td>0</td>\n",
       "      <td>0.0</td>\n",
       "      <td>1.0</td>\n",
       "      <td>0.0</td>\n",
       "      <td>0.0</td>\n",
       "      <td>0.0</td>\n",
       "      <td>1.0</td>\n",
       "      <td>0.0</td>\n",
       "      <td>1.0</td>\n",
       "      <td>0.0</td>\n",
       "      <td>0.0</td>\n",
       "      <td>0.0</td>\n",
       "      <td>1.0</td>\n",
       "      <td>0.0</td>\n",
       "      <td>0.0</td>\n",
       "      <td>0.0</td>\n",
       "      <td>1.0</td>\n",
       "      <td>0.0</td>\n",
       "    </tr>\n",
       "  </tbody>\n",
       "</table>\n",
       "</div>"
      ],
      "text/plain": [
       "   gender  employment_status  business_unit  Not Applicable  Retirement  \\\n",
       "0       1                  0              0             0.0         1.0   \n",
       "1       1                  0              0             0.0         1.0   \n",
       "2       1                  0              0             0.0         1.0   \n",
       "3       1                  0              0             0.0         1.0   \n",
       "4       1                  0              0             0.0         1.0   \n",
       "\n",
       "   Resignaton  Layoff  Not Applicable  Voluntary  Involuntary  large_country  \\\n",
       "0         0.0     0.0             0.0        1.0          0.0            1.0   \n",
       "1         0.0     0.0             0.0        1.0          0.0            1.0   \n",
       "2         0.0     0.0             0.0        1.0          0.0            1.0   \n",
       "3         0.0     0.0             0.0        1.0          0.0            1.0   \n",
       "4         0.0     0.0             0.0        1.0          0.0            1.0   \n",
       "\n",
       "   medium_country  small_country  c_suite  associate  director  manager  \\\n",
       "0             0.0            0.0      0.0        1.0       0.0      0.0   \n",
       "1             0.0            0.0      0.0        1.0       0.0      0.0   \n",
       "2             0.0            0.0      0.0        1.0       0.0      0.0   \n",
       "3             0.0            0.0      0.0        1.0       0.0      0.0   \n",
       "4             0.0            0.0      0.0        1.0       0.0      0.0   \n",
       "\n",
       "   older_adults  mid_adults  young_adults  \n",
       "0           0.0         1.0           0.0  \n",
       "1           0.0         1.0           0.0  \n",
       "2           0.0         1.0           0.0  \n",
       "3           0.0         1.0           0.0  \n",
       "4           0.0         1.0           0.0  "
      ]
     },
     "execution_count": 107,
     "metadata": {},
     "output_type": "execute_result"
    }
   ],
   "source": [
    "#checking output\n",
    "print(df_categorical_encoded.shape)\n",
    "df_categorical_encoded.head()"
   ]
  },
  {
   "cell_type": "markdown",
   "id": "ac184be7",
   "metadata": {},
   "source": [
    "Finally, we combine our new encoded dataframe with our the other \"original\" dataframe we created. As a reminder, this isn't the true original dataframe, rather the one we created which captured variables we didn't need to encode. "
   ]
  },
  {
   "cell_type": "code",
   "execution_count": 108,
   "id": "f171483c",
   "metadata": {},
   "outputs": [],
   "source": [
    "df_new = pd.concat([df_original, df_categorical_encoded], axis=1)"
   ]
  },
  {
   "cell_type": "code",
   "execution_count": 109,
   "id": "4040e68c",
   "metadata": {},
   "outputs": [
    {
     "name": "stdout",
     "output_type": "stream",
     "text": [
      "(49644, 36)\n"
     ]
    },
    {
     "data": {
      "text/html": [
       "<div>\n",
       "<style scoped>\n",
       "    .dataframe tbody tr th:only-of-type {\n",
       "        vertical-align: middle;\n",
       "    }\n",
       "\n",
       "    .dataframe tbody tr th {\n",
       "        vertical-align: top;\n",
       "    }\n",
       "\n",
       "    .dataframe thead th {\n",
       "        text-align: right;\n",
       "    }\n",
       "</style>\n",
       "<table border=\"1\" class=\"dataframe\">\n",
       "  <thead>\n",
       "    <tr style=\"text-align: right;\">\n",
       "      <th></th>\n",
       "      <th>country</th>\n",
       "      <th>department_name</th>\n",
       "      <th>terminationdate_key</th>\n",
       "      <th>age</th>\n",
       "      <th>length_of_service</th>\n",
       "      <th>job_title</th>\n",
       "      <th>store_number</th>\n",
       "      <th>year_of_record</th>\n",
       "      <th>population</th>\n",
       "      <th>pop_flag</th>\n",
       "      <th>...</th>\n",
       "      <th>large_country</th>\n",
       "      <th>medium_country</th>\n",
       "      <th>small_country</th>\n",
       "      <th>c_suite</th>\n",
       "      <th>associate</th>\n",
       "      <th>director</th>\n",
       "      <th>manager</th>\n",
       "      <th>older_adults</th>\n",
       "      <th>mid_adults</th>\n",
       "      <th>young_adults</th>\n",
       "    </tr>\n",
       "  </thead>\n",
       "  <tbody>\n",
       "    <tr>\n",
       "      <th>0</th>\n",
       "      <td>Germany</td>\n",
       "      <td>Executive</td>\n",
       "      <td>01/01/1900</td>\n",
       "      <td>52</td>\n",
       "      <td>17</td>\n",
       "      <td>CEO</td>\n",
       "      <td>35</td>\n",
       "      <td>2006</td>\n",
       "      <td>83783942</td>\n",
       "      <td>large_country</td>\n",
       "      <td>...</td>\n",
       "      <td>1.0</td>\n",
       "      <td>0.0</td>\n",
       "      <td>0.0</td>\n",
       "      <td>0.0</td>\n",
       "      <td>1.0</td>\n",
       "      <td>0.0</td>\n",
       "      <td>0.0</td>\n",
       "      <td>0.0</td>\n",
       "      <td>1.0</td>\n",
       "      <td>0.0</td>\n",
       "    </tr>\n",
       "    <tr>\n",
       "      <th>1</th>\n",
       "      <td>Germany</td>\n",
       "      <td>Executive</td>\n",
       "      <td>01/01/1900</td>\n",
       "      <td>53</td>\n",
       "      <td>18</td>\n",
       "      <td>CEO</td>\n",
       "      <td>35</td>\n",
       "      <td>2007</td>\n",
       "      <td>83783942</td>\n",
       "      <td>large_country</td>\n",
       "      <td>...</td>\n",
       "      <td>1.0</td>\n",
       "      <td>0.0</td>\n",
       "      <td>0.0</td>\n",
       "      <td>0.0</td>\n",
       "      <td>1.0</td>\n",
       "      <td>0.0</td>\n",
       "      <td>0.0</td>\n",
       "      <td>0.0</td>\n",
       "      <td>1.0</td>\n",
       "      <td>0.0</td>\n",
       "    </tr>\n",
       "    <tr>\n",
       "      <th>2</th>\n",
       "      <td>Germany</td>\n",
       "      <td>Executive</td>\n",
       "      <td>01/01/1900</td>\n",
       "      <td>54</td>\n",
       "      <td>19</td>\n",
       "      <td>CEO</td>\n",
       "      <td>35</td>\n",
       "      <td>2008</td>\n",
       "      <td>83783942</td>\n",
       "      <td>large_country</td>\n",
       "      <td>...</td>\n",
       "      <td>1.0</td>\n",
       "      <td>0.0</td>\n",
       "      <td>0.0</td>\n",
       "      <td>0.0</td>\n",
       "      <td>1.0</td>\n",
       "      <td>0.0</td>\n",
       "      <td>0.0</td>\n",
       "      <td>0.0</td>\n",
       "      <td>1.0</td>\n",
       "      <td>0.0</td>\n",
       "    </tr>\n",
       "    <tr>\n",
       "      <th>3</th>\n",
       "      <td>Germany</td>\n",
       "      <td>Executive</td>\n",
       "      <td>01/01/1900</td>\n",
       "      <td>55</td>\n",
       "      <td>20</td>\n",
       "      <td>CEO</td>\n",
       "      <td>35</td>\n",
       "      <td>2009</td>\n",
       "      <td>83783942</td>\n",
       "      <td>large_country</td>\n",
       "      <td>...</td>\n",
       "      <td>1.0</td>\n",
       "      <td>0.0</td>\n",
       "      <td>0.0</td>\n",
       "      <td>0.0</td>\n",
       "      <td>1.0</td>\n",
       "      <td>0.0</td>\n",
       "      <td>0.0</td>\n",
       "      <td>0.0</td>\n",
       "      <td>1.0</td>\n",
       "      <td>0.0</td>\n",
       "    </tr>\n",
       "    <tr>\n",
       "      <th>4</th>\n",
       "      <td>Germany</td>\n",
       "      <td>Executive</td>\n",
       "      <td>01/01/1900</td>\n",
       "      <td>56</td>\n",
       "      <td>21</td>\n",
       "      <td>CEO</td>\n",
       "      <td>35</td>\n",
       "      <td>2010</td>\n",
       "      <td>83783942</td>\n",
       "      <td>large_country</td>\n",
       "      <td>...</td>\n",
       "      <td>1.0</td>\n",
       "      <td>0.0</td>\n",
       "      <td>0.0</td>\n",
       "      <td>0.0</td>\n",
       "      <td>1.0</td>\n",
       "      <td>0.0</td>\n",
       "      <td>0.0</td>\n",
       "      <td>0.0</td>\n",
       "      <td>1.0</td>\n",
       "      <td>0.0</td>\n",
       "    </tr>\n",
       "  </tbody>\n",
       "</table>\n",
       "<p>5 rows × 36 columns</p>\n",
       "</div>"
      ],
      "text/plain": [
       "   country department_name terminationdate_key  age  length_of_service  \\\n",
       "0  Germany       Executive          01/01/1900   52                 17   \n",
       "1  Germany       Executive          01/01/1900   53                 18   \n",
       "2  Germany       Executive          01/01/1900   54                 19   \n",
       "3  Germany       Executive          01/01/1900   55                 20   \n",
       "4  Germany       Executive          01/01/1900   56                 21   \n",
       "\n",
       "  job_title  store_number  year_of_record  population       pop_flag  ...  \\\n",
       "0       CEO            35            2006    83783942  large_country  ...   \n",
       "1       CEO            35            2007    83783942  large_country  ...   \n",
       "2       CEO            35            2008    83783942  large_country  ...   \n",
       "3       CEO            35            2009    83783942  large_country  ...   \n",
       "4       CEO            35            2010    83783942  large_country  ...   \n",
       "\n",
       "  large_country medium_country small_country c_suite associate director  \\\n",
       "0           1.0            0.0           0.0     0.0       1.0      0.0   \n",
       "1           1.0            0.0           0.0     0.0       1.0      0.0   \n",
       "2           1.0            0.0           0.0     0.0       1.0      0.0   \n",
       "3           1.0            0.0           0.0     0.0       1.0      0.0   \n",
       "4           1.0            0.0           0.0     0.0       1.0      0.0   \n",
       "\n",
       "   manager  older_adults  mid_adults  young_adults  \n",
       "0      0.0           0.0         1.0           0.0  \n",
       "1      0.0           0.0         1.0           0.0  \n",
       "2      0.0           0.0         1.0           0.0  \n",
       "3      0.0           0.0         1.0           0.0  \n",
       "4      0.0           0.0         1.0           0.0  \n",
       "\n",
       "[5 rows x 36 columns]"
      ]
     },
     "execution_count": 109,
     "metadata": {},
     "output_type": "execute_result"
    }
   ],
   "source": [
    "#checking output\n",
    "print(df_new.shape)\n",
    "df_new.head()"
   ]
  },
  {
   "cell_type": "markdown",
   "id": "80b88b0f",
   "metadata": {},
   "source": [
    "# 6. Exporting dataset"
   ]
  },
  {
   "cell_type": "code",
   "execution_count": 111,
   "id": "dd15d8d5",
   "metadata": {},
   "outputs": [],
   "source": [
    "df_new.to_csv(os.path.join(path, '02_Data', 'Prepared_data', 'encoded_data.csv'))"
   ]
  }
 ],
 "metadata": {
  "kernelspec": {
   "display_name": "Python 3 (ipykernel)",
   "language": "python",
   "name": "python3"
  },
  "language_info": {
   "codemirror_mode": {
    "name": "ipython",
    "version": 3
   },
   "file_extension": ".py",
   "mimetype": "text/x-python",
   "name": "python",
   "nbconvert_exporter": "python",
   "pygments_lexer": "ipython3",
   "version": "3.9.13"
  }
 },
 "nbformat": 4,
 "nbformat_minor": 5
}
