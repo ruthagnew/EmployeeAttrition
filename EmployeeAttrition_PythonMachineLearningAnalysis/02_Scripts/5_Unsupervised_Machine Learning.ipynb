{
 "cells": [
  {
   "cell_type": "markdown",
   "metadata": {},
   "source": [
    "# 5. Unsupervised Machine Learning: Clustering\n",
    "\n",
    "1. Importing libraries and data and renaming columns\n",
    "2. Data wrangling and cleaning \n",
    "\n",
    "        2.1 Creating a smaller dataframe\n",
    "        2.2 Checking and amending data types\n",
    "        2.3 Checking for NaN values\n",
    "        2.4 Checking for null values\n",
    "\n",
    "3. The elbow technique\n",
    "4. k-means clustering with thee clusters\n",
    "5. Conclusion\n",
    "6. Mean Shift Algorithm"
   ]
  },
  {
   "cell_type": "markdown",
   "metadata": {},
   "source": [
    "### Importing libraries and data "
   ]
  },
  {
   "cell_type": "code",
   "execution_count": 2,
   "metadata": {},
   "outputs": [],
   "source": [
    "import pandas as pd\n",
    "import numpy as np\n",
    "import seaborn as sns\n",
    "import matplotlib\n",
    "import matplotlib.pyplot as plt\n",
    "import os\n",
    "import sklearn\n",
    "from sklearn.cluster import KMeans \n",
    "import pylab as pl\n",
    "from sklearn.preprocessing import LabelEncoder\n",
    "from sklearn.preprocessing import OneHotEncoder "
   ]
  },
  {
   "cell_type": "code",
   "execution_count": 3,
   "metadata": {},
   "outputs": [],
   "source": [
    "#ensuring graphs are displayed without the need to \"call\" them specifically.\n",
    "%matplotlib inline"
   ]
  },
  {
   "cell_type": "code",
   "execution_count": 6,
   "metadata": {},
   "outputs": [],
   "source": [
    "path = r'C:\\Users\\rutha\\CareerFoundry\\04-23_EmployeeAttrition\\02_Data'"
   ]
  },
  {
   "cell_type": "code",
   "execution_count": 7,
   "metadata": {},
   "outputs": [],
   "source": [
    "df = pd.read_csv(os.path.join(path, 'Prepared_data', 'encoded_data.csv'))"
   ]
  },
  {
   "cell_type": "code",
   "execution_count": 8,
   "metadata": {},
   "outputs": [
    {
     "data": {
      "text/plain": [
       "(49644, 37)"
      ]
     },
     "execution_count": 8,
     "metadata": {},
     "output_type": "execute_result"
    }
   ],
   "source": [
    "df.shape"
   ]
  },
  {
   "cell_type": "code",
   "execution_count": 9,
   "metadata": {
    "scrolled": true
   },
   "outputs": [
    {
     "data": {
      "text/html": [
       "<div>\n",
       "<style scoped>\n",
       "    .dataframe tbody tr th:only-of-type {\n",
       "        vertical-align: middle;\n",
       "    }\n",
       "\n",
       "    .dataframe tbody tr th {\n",
       "        vertical-align: top;\n",
       "    }\n",
       "\n",
       "    .dataframe thead th {\n",
       "        text-align: right;\n",
       "    }\n",
       "</style>\n",
       "<table border=\"1\" class=\"dataframe\">\n",
       "  <thead>\n",
       "    <tr style=\"text-align: right;\">\n",
       "      <th></th>\n",
       "      <th>Unnamed: 0</th>\n",
       "      <th>country</th>\n",
       "      <th>department_name</th>\n",
       "      <th>terminationdate_key</th>\n",
       "      <th>age</th>\n",
       "      <th>length_of_service</th>\n",
       "      <th>job_title</th>\n",
       "      <th>store_number</th>\n",
       "      <th>year_of_record</th>\n",
       "      <th>population</th>\n",
       "      <th>...</th>\n",
       "      <th>large_country</th>\n",
       "      <th>medium_country</th>\n",
       "      <th>small_country</th>\n",
       "      <th>c_suite</th>\n",
       "      <th>associate</th>\n",
       "      <th>director</th>\n",
       "      <th>manager</th>\n",
       "      <th>older_adults</th>\n",
       "      <th>mid_adults</th>\n",
       "      <th>young_adults</th>\n",
       "    </tr>\n",
       "  </thead>\n",
       "  <tbody>\n",
       "    <tr>\n",
       "      <th>0</th>\n",
       "      <td>0</td>\n",
       "      <td>Germany</td>\n",
       "      <td>Executive</td>\n",
       "      <td>01/01/1900</td>\n",
       "      <td>52</td>\n",
       "      <td>17</td>\n",
       "      <td>CEO</td>\n",
       "      <td>35</td>\n",
       "      <td>2006</td>\n",
       "      <td>83783942</td>\n",
       "      <td>...</td>\n",
       "      <td>1.0</td>\n",
       "      <td>0.0</td>\n",
       "      <td>0.0</td>\n",
       "      <td>0.0</td>\n",
       "      <td>1.0</td>\n",
       "      <td>0.0</td>\n",
       "      <td>0.0</td>\n",
       "      <td>0.0</td>\n",
       "      <td>1.0</td>\n",
       "      <td>0.0</td>\n",
       "    </tr>\n",
       "    <tr>\n",
       "      <th>1</th>\n",
       "      <td>1</td>\n",
       "      <td>Germany</td>\n",
       "      <td>Executive</td>\n",
       "      <td>01/01/1900</td>\n",
       "      <td>53</td>\n",
       "      <td>18</td>\n",
       "      <td>CEO</td>\n",
       "      <td>35</td>\n",
       "      <td>2007</td>\n",
       "      <td>83783942</td>\n",
       "      <td>...</td>\n",
       "      <td>1.0</td>\n",
       "      <td>0.0</td>\n",
       "      <td>0.0</td>\n",
       "      <td>0.0</td>\n",
       "      <td>1.0</td>\n",
       "      <td>0.0</td>\n",
       "      <td>0.0</td>\n",
       "      <td>0.0</td>\n",
       "      <td>1.0</td>\n",
       "      <td>0.0</td>\n",
       "    </tr>\n",
       "    <tr>\n",
       "      <th>2</th>\n",
       "      <td>2</td>\n",
       "      <td>Germany</td>\n",
       "      <td>Executive</td>\n",
       "      <td>01/01/1900</td>\n",
       "      <td>54</td>\n",
       "      <td>19</td>\n",
       "      <td>CEO</td>\n",
       "      <td>35</td>\n",
       "      <td>2008</td>\n",
       "      <td>83783942</td>\n",
       "      <td>...</td>\n",
       "      <td>1.0</td>\n",
       "      <td>0.0</td>\n",
       "      <td>0.0</td>\n",
       "      <td>0.0</td>\n",
       "      <td>1.0</td>\n",
       "      <td>0.0</td>\n",
       "      <td>0.0</td>\n",
       "      <td>0.0</td>\n",
       "      <td>1.0</td>\n",
       "      <td>0.0</td>\n",
       "    </tr>\n",
       "    <tr>\n",
       "      <th>3</th>\n",
       "      <td>3</td>\n",
       "      <td>Germany</td>\n",
       "      <td>Executive</td>\n",
       "      <td>01/01/1900</td>\n",
       "      <td>55</td>\n",
       "      <td>20</td>\n",
       "      <td>CEO</td>\n",
       "      <td>35</td>\n",
       "      <td>2009</td>\n",
       "      <td>83783942</td>\n",
       "      <td>...</td>\n",
       "      <td>1.0</td>\n",
       "      <td>0.0</td>\n",
       "      <td>0.0</td>\n",
       "      <td>0.0</td>\n",
       "      <td>1.0</td>\n",
       "      <td>0.0</td>\n",
       "      <td>0.0</td>\n",
       "      <td>0.0</td>\n",
       "      <td>1.0</td>\n",
       "      <td>0.0</td>\n",
       "    </tr>\n",
       "    <tr>\n",
       "      <th>4</th>\n",
       "      <td>4</td>\n",
       "      <td>Germany</td>\n",
       "      <td>Executive</td>\n",
       "      <td>01/01/1900</td>\n",
       "      <td>56</td>\n",
       "      <td>21</td>\n",
       "      <td>CEO</td>\n",
       "      <td>35</td>\n",
       "      <td>2010</td>\n",
       "      <td>83783942</td>\n",
       "      <td>...</td>\n",
       "      <td>1.0</td>\n",
       "      <td>0.0</td>\n",
       "      <td>0.0</td>\n",
       "      <td>0.0</td>\n",
       "      <td>1.0</td>\n",
       "      <td>0.0</td>\n",
       "      <td>0.0</td>\n",
       "      <td>0.0</td>\n",
       "      <td>1.0</td>\n",
       "      <td>0.0</td>\n",
       "    </tr>\n",
       "  </tbody>\n",
       "</table>\n",
       "<p>5 rows × 37 columns</p>\n",
       "</div>"
      ],
      "text/plain": [
       "   Unnamed: 0  country department_name terminationdate_key  age  \\\n",
       "0           0  Germany       Executive          01/01/1900   52   \n",
       "1           1  Germany       Executive          01/01/1900   53   \n",
       "2           2  Germany       Executive          01/01/1900   54   \n",
       "3           3  Germany       Executive          01/01/1900   55   \n",
       "4           4  Germany       Executive          01/01/1900   56   \n",
       "\n",
       "   length_of_service job_title  store_number  year_of_record  population  ...  \\\n",
       "0                 17       CEO            35            2006    83783942  ...   \n",
       "1                 18       CEO            35            2007    83783942  ...   \n",
       "2                 19       CEO            35            2008    83783942  ...   \n",
       "3                 20       CEO            35            2009    83783942  ...   \n",
       "4                 21       CEO            35            2010    83783942  ...   \n",
       "\n",
       "  large_country medium_country small_country c_suite associate director  \\\n",
       "0           1.0            0.0           0.0     0.0       1.0      0.0   \n",
       "1           1.0            0.0           0.0     0.0       1.0      0.0   \n",
       "2           1.0            0.0           0.0     0.0       1.0      0.0   \n",
       "3           1.0            0.0           0.0     0.0       1.0      0.0   \n",
       "4           1.0            0.0           0.0     0.0       1.0      0.0   \n",
       "\n",
       "  manager  older_adults  mid_adults  young_adults  \n",
       "0     0.0           0.0         1.0           0.0  \n",
       "1     0.0           0.0         1.0           0.0  \n",
       "2     0.0           0.0         1.0           0.0  \n",
       "3     0.0           0.0         1.0           0.0  \n",
       "4     0.0           0.0         1.0           0.0  \n",
       "\n",
       "[5 rows x 37 columns]"
      ]
     },
     "execution_count": 9,
     "metadata": {},
     "output_type": "execute_result"
    }
   ],
   "source": [
    "df.head()"
   ]
  },
  {
   "cell_type": "code",
   "execution_count": 10,
   "metadata": {},
   "outputs": [],
   "source": [
    "#removing index\n",
    "df.drop(columns='Unnamed: 0', inplace = True)"
   ]
  },
  {
   "cell_type": "code",
   "execution_count": 11,
   "metadata": {},
   "outputs": [
    {
     "data": {
      "text/html": [
       "<div>\n",
       "<style scoped>\n",
       "    .dataframe tbody tr th:only-of-type {\n",
       "        vertical-align: middle;\n",
       "    }\n",
       "\n",
       "    .dataframe tbody tr th {\n",
       "        vertical-align: top;\n",
       "    }\n",
       "\n",
       "    .dataframe thead th {\n",
       "        text-align: right;\n",
       "    }\n",
       "</style>\n",
       "<table border=\"1\" class=\"dataframe\">\n",
       "  <thead>\n",
       "    <tr style=\"text-align: right;\">\n",
       "      <th></th>\n",
       "      <th>country</th>\n",
       "      <th>department_name</th>\n",
       "      <th>terminationdate_key</th>\n",
       "      <th>age</th>\n",
       "      <th>length_of_service</th>\n",
       "      <th>job_title</th>\n",
       "      <th>store_number</th>\n",
       "      <th>year_of_record</th>\n",
       "      <th>population</th>\n",
       "      <th>pop_flag</th>\n",
       "      <th>...</th>\n",
       "      <th>large_country</th>\n",
       "      <th>medium_country</th>\n",
       "      <th>small_country</th>\n",
       "      <th>c_suite</th>\n",
       "      <th>associate</th>\n",
       "      <th>director</th>\n",
       "      <th>manager</th>\n",
       "      <th>older_adults</th>\n",
       "      <th>mid_adults</th>\n",
       "      <th>young_adults</th>\n",
       "    </tr>\n",
       "  </thead>\n",
       "  <tbody>\n",
       "    <tr>\n",
       "      <th>0</th>\n",
       "      <td>Germany</td>\n",
       "      <td>Executive</td>\n",
       "      <td>01/01/1900</td>\n",
       "      <td>52</td>\n",
       "      <td>17</td>\n",
       "      <td>CEO</td>\n",
       "      <td>35</td>\n",
       "      <td>2006</td>\n",
       "      <td>83783942</td>\n",
       "      <td>large_country</td>\n",
       "      <td>...</td>\n",
       "      <td>1.0</td>\n",
       "      <td>0.0</td>\n",
       "      <td>0.0</td>\n",
       "      <td>0.0</td>\n",
       "      <td>1.0</td>\n",
       "      <td>0.0</td>\n",
       "      <td>0.0</td>\n",
       "      <td>0.0</td>\n",
       "      <td>1.0</td>\n",
       "      <td>0.0</td>\n",
       "    </tr>\n",
       "    <tr>\n",
       "      <th>1</th>\n",
       "      <td>Germany</td>\n",
       "      <td>Executive</td>\n",
       "      <td>01/01/1900</td>\n",
       "      <td>53</td>\n",
       "      <td>18</td>\n",
       "      <td>CEO</td>\n",
       "      <td>35</td>\n",
       "      <td>2007</td>\n",
       "      <td>83783942</td>\n",
       "      <td>large_country</td>\n",
       "      <td>...</td>\n",
       "      <td>1.0</td>\n",
       "      <td>0.0</td>\n",
       "      <td>0.0</td>\n",
       "      <td>0.0</td>\n",
       "      <td>1.0</td>\n",
       "      <td>0.0</td>\n",
       "      <td>0.0</td>\n",
       "      <td>0.0</td>\n",
       "      <td>1.0</td>\n",
       "      <td>0.0</td>\n",
       "    </tr>\n",
       "    <tr>\n",
       "      <th>2</th>\n",
       "      <td>Germany</td>\n",
       "      <td>Executive</td>\n",
       "      <td>01/01/1900</td>\n",
       "      <td>54</td>\n",
       "      <td>19</td>\n",
       "      <td>CEO</td>\n",
       "      <td>35</td>\n",
       "      <td>2008</td>\n",
       "      <td>83783942</td>\n",
       "      <td>large_country</td>\n",
       "      <td>...</td>\n",
       "      <td>1.0</td>\n",
       "      <td>0.0</td>\n",
       "      <td>0.0</td>\n",
       "      <td>0.0</td>\n",
       "      <td>1.0</td>\n",
       "      <td>0.0</td>\n",
       "      <td>0.0</td>\n",
       "      <td>0.0</td>\n",
       "      <td>1.0</td>\n",
       "      <td>0.0</td>\n",
       "    </tr>\n",
       "    <tr>\n",
       "      <th>3</th>\n",
       "      <td>Germany</td>\n",
       "      <td>Executive</td>\n",
       "      <td>01/01/1900</td>\n",
       "      <td>55</td>\n",
       "      <td>20</td>\n",
       "      <td>CEO</td>\n",
       "      <td>35</td>\n",
       "      <td>2009</td>\n",
       "      <td>83783942</td>\n",
       "      <td>large_country</td>\n",
       "      <td>...</td>\n",
       "      <td>1.0</td>\n",
       "      <td>0.0</td>\n",
       "      <td>0.0</td>\n",
       "      <td>0.0</td>\n",
       "      <td>1.0</td>\n",
       "      <td>0.0</td>\n",
       "      <td>0.0</td>\n",
       "      <td>0.0</td>\n",
       "      <td>1.0</td>\n",
       "      <td>0.0</td>\n",
       "    </tr>\n",
       "    <tr>\n",
       "      <th>4</th>\n",
       "      <td>Germany</td>\n",
       "      <td>Executive</td>\n",
       "      <td>01/01/1900</td>\n",
       "      <td>56</td>\n",
       "      <td>21</td>\n",
       "      <td>CEO</td>\n",
       "      <td>35</td>\n",
       "      <td>2010</td>\n",
       "      <td>83783942</td>\n",
       "      <td>large_country</td>\n",
       "      <td>...</td>\n",
       "      <td>1.0</td>\n",
       "      <td>0.0</td>\n",
       "      <td>0.0</td>\n",
       "      <td>0.0</td>\n",
       "      <td>1.0</td>\n",
       "      <td>0.0</td>\n",
       "      <td>0.0</td>\n",
       "      <td>0.0</td>\n",
       "      <td>1.0</td>\n",
       "      <td>0.0</td>\n",
       "    </tr>\n",
       "  </tbody>\n",
       "</table>\n",
       "<p>5 rows × 36 columns</p>\n",
       "</div>"
      ],
      "text/plain": [
       "   country department_name terminationdate_key  age  length_of_service  \\\n",
       "0  Germany       Executive          01/01/1900   52                 17   \n",
       "1  Germany       Executive          01/01/1900   53                 18   \n",
       "2  Germany       Executive          01/01/1900   54                 19   \n",
       "3  Germany       Executive          01/01/1900   55                 20   \n",
       "4  Germany       Executive          01/01/1900   56                 21   \n",
       "\n",
       "  job_title  store_number  year_of_record  population       pop_flag  ...  \\\n",
       "0       CEO            35            2006    83783942  large_country  ...   \n",
       "1       CEO            35            2007    83783942  large_country  ...   \n",
       "2       CEO            35            2008    83783942  large_country  ...   \n",
       "3       CEO            35            2009    83783942  large_country  ...   \n",
       "4       CEO            35            2010    83783942  large_country  ...   \n",
       "\n",
       "  large_country medium_country small_country c_suite associate director  \\\n",
       "0           1.0            0.0           0.0     0.0       1.0      0.0   \n",
       "1           1.0            0.0           0.0     0.0       1.0      0.0   \n",
       "2           1.0            0.0           0.0     0.0       1.0      0.0   \n",
       "3           1.0            0.0           0.0     0.0       1.0      0.0   \n",
       "4           1.0            0.0           0.0     0.0       1.0      0.0   \n",
       "\n",
       "   manager  older_adults  mid_adults  young_adults  \n",
       "0      0.0           0.0         1.0           0.0  \n",
       "1      0.0           0.0         1.0           0.0  \n",
       "2      0.0           0.0         1.0           0.0  \n",
       "3      0.0           0.0         1.0           0.0  \n",
       "4      0.0           0.0         1.0           0.0  \n",
       "\n",
       "[5 rows x 36 columns]"
      ]
     },
     "execution_count": 11,
     "metadata": {},
     "output_type": "execute_result"
    }
   ],
   "source": [
    "#checking output\n",
    "df.head()"
   ]
  },
  {
   "cell_type": "markdown",
   "metadata": {},
   "source": [
    "## 2. Data Wrangling"
   ]
  },
  {
   "cell_type": "markdown",
   "metadata": {},
   "source": [
    "This is a very large dataset containing customer information for Instacart, an online grocery store, so I am going to need to wrangle the dataset:\n",
    "\n",
    "    2.1 Creating a smaller dataframe\n",
    "    2.2 Checking and amending data types\n",
    "    2.3 Checking for NaN values\n",
    "    2.4 Checking for null values"
   ]
  },
  {
   "cell_type": "markdown",
   "metadata": {},
   "source": [
    "### 2.1 Creating a smaller dataframe"
   ]
  },
  {
   "cell_type": "code",
   "execution_count": 12,
   "metadata": {},
   "outputs": [
    {
     "data": {
      "text/plain": [
       "Index(['country', 'department_name', 'terminationdate_key', 'age',\n",
       "       'length_of_service', 'job_title', 'store_number', 'year_of_record',\n",
       "       'population', 'pop_flag', 'gender', 'seniority', 'age_flag',\n",
       "       'termreason_desc', 'termtype_desc', 'business_unit', 'gender.1',\n",
       "       'employment_status', 'business_unit.1', 'Not Applicable', 'Retirement',\n",
       "       'Resignaton', 'Layoff', 'Not Applicable.1', 'Voluntary', 'Involuntary',\n",
       "       'large_country', 'medium_country', 'small_country', 'c_suite',\n",
       "       'associate', 'director', 'manager', 'older_adults', 'mid_adults',\n",
       "       'young_adults'],\n",
       "      dtype='object')"
      ]
     },
     "execution_count": 12,
     "metadata": {},
     "output_type": "execute_result"
    }
   ],
   "source": [
    "#checking columns\n",
    "df.columns"
   ]
  },
  {
   "cell_type": "code",
   "execution_count": 14,
   "metadata": {
    "scrolled": true
   },
   "outputs": [],
   "source": [
    "#creating small dataframe\n",
    "df_small = df.drop(columns = ['country', 'department_name', 'terminationdate_key', 'job_title', 'store_number', 'pop_flag', 'gender', 'seniority', 'age_flag',\n",
    "       'termreason_desc', 'termtype_desc', 'business_unit', 'gender.1', 'business_unit.1', 'Not Applicable', 'Retirement',\n",
    "       'Resignaton', 'Layoff', 'Not Applicable.1', 'Voluntary', 'Involuntary',\n",
    "       'large_country', 'medium_country', 'small_country', 'c_suite',\n",
    "       'associate', 'director', 'manager', 'older_adults', 'mid_adults',\n",
    "       'young_adults'])"
   ]
  },
  {
   "cell_type": "code",
   "execution_count": 15,
   "metadata": {
    "scrolled": true
   },
   "outputs": [
    {
     "data": {
      "text/html": [
       "<div>\n",
       "<style scoped>\n",
       "    .dataframe tbody tr th:only-of-type {\n",
       "        vertical-align: middle;\n",
       "    }\n",
       "\n",
       "    .dataframe tbody tr th {\n",
       "        vertical-align: top;\n",
       "    }\n",
       "\n",
       "    .dataframe thead th {\n",
       "        text-align: right;\n",
       "    }\n",
       "</style>\n",
       "<table border=\"1\" class=\"dataframe\">\n",
       "  <thead>\n",
       "    <tr style=\"text-align: right;\">\n",
       "      <th></th>\n",
       "      <th>age</th>\n",
       "      <th>length_of_service</th>\n",
       "      <th>year_of_record</th>\n",
       "      <th>population</th>\n",
       "      <th>employment_status</th>\n",
       "    </tr>\n",
       "  </thead>\n",
       "  <tbody>\n",
       "    <tr>\n",
       "      <th>0</th>\n",
       "      <td>52</td>\n",
       "      <td>17</td>\n",
       "      <td>2006</td>\n",
       "      <td>83783942</td>\n",
       "      <td>0</td>\n",
       "    </tr>\n",
       "    <tr>\n",
       "      <th>1</th>\n",
       "      <td>53</td>\n",
       "      <td>18</td>\n",
       "      <td>2007</td>\n",
       "      <td>83783942</td>\n",
       "      <td>0</td>\n",
       "    </tr>\n",
       "    <tr>\n",
       "      <th>2</th>\n",
       "      <td>54</td>\n",
       "      <td>19</td>\n",
       "      <td>2008</td>\n",
       "      <td>83783942</td>\n",
       "      <td>0</td>\n",
       "    </tr>\n",
       "    <tr>\n",
       "      <th>3</th>\n",
       "      <td>55</td>\n",
       "      <td>20</td>\n",
       "      <td>2009</td>\n",
       "      <td>83783942</td>\n",
       "      <td>0</td>\n",
       "    </tr>\n",
       "    <tr>\n",
       "      <th>4</th>\n",
       "      <td>56</td>\n",
       "      <td>21</td>\n",
       "      <td>2010</td>\n",
       "      <td>83783942</td>\n",
       "      <td>0</td>\n",
       "    </tr>\n",
       "  </tbody>\n",
       "</table>\n",
       "</div>"
      ],
      "text/plain": [
       "   age  length_of_service  year_of_record  population  employment_status\n",
       "0   52                 17            2006    83783942                  0\n",
       "1   53                 18            2007    83783942                  0\n",
       "2   54                 19            2008    83783942                  0\n",
       "3   55                 20            2009    83783942                  0\n",
       "4   56                 21            2010    83783942                  0"
      ]
     },
     "execution_count": 15,
     "metadata": {},
     "output_type": "execute_result"
    }
   ],
   "source": [
    "df_small.head()"
   ]
  },
  {
   "cell_type": "markdown",
   "metadata": {},
   "source": [
    "### 2.2 Checking and amending datatypes"
   ]
  },
  {
   "cell_type": "code",
   "execution_count": 17,
   "metadata": {},
   "outputs": [
    {
     "name": "stdout",
     "output_type": "stream",
     "text": [
      "<class 'pandas.core.frame.DataFrame'>\n",
      "RangeIndex: 49644 entries, 0 to 49643\n",
      "Data columns (total 5 columns):\n",
      " #   Column             Non-Null Count  Dtype\n",
      "---  ------             --------------  -----\n",
      " 0   age                49644 non-null  int64\n",
      " 1   length_of_service  49644 non-null  int64\n",
      " 2   year_of_record     49644 non-null  int64\n",
      " 3   population         49644 non-null  int64\n",
      " 4   employment_status  49644 non-null  int64\n",
      "dtypes: int64(5)\n",
      "memory usage: 1.9 MB\n"
     ]
    }
   ],
   "source": [
    "df_small.info()"
   ]
  },
  {
   "cell_type": "markdown",
   "metadata": {},
   "source": [
    "### 2.3 Checking for NaN values"
   ]
  },
  {
   "cell_type": "code",
   "execution_count": 18,
   "metadata": {},
   "outputs": [
    {
     "data": {
      "text/html": [
       "<div>\n",
       "<style scoped>\n",
       "    .dataframe tbody tr th:only-of-type {\n",
       "        vertical-align: middle;\n",
       "    }\n",
       "\n",
       "    .dataframe tbody tr th {\n",
       "        vertical-align: top;\n",
       "    }\n",
       "\n",
       "    .dataframe thead th {\n",
       "        text-align: right;\n",
       "    }\n",
       "</style>\n",
       "<table border=\"1\" class=\"dataframe\">\n",
       "  <thead>\n",
       "    <tr style=\"text-align: right;\">\n",
       "      <th></th>\n",
       "      <th>age</th>\n",
       "      <th>length_of_service</th>\n",
       "      <th>year_of_record</th>\n",
       "      <th>population</th>\n",
       "      <th>employment_status</th>\n",
       "    </tr>\n",
       "  </thead>\n",
       "  <tbody>\n",
       "    <tr>\n",
       "      <th>0</th>\n",
       "      <td>False</td>\n",
       "      <td>False</td>\n",
       "      <td>False</td>\n",
       "      <td>False</td>\n",
       "      <td>False</td>\n",
       "    </tr>\n",
       "    <tr>\n",
       "      <th>1</th>\n",
       "      <td>False</td>\n",
       "      <td>False</td>\n",
       "      <td>False</td>\n",
       "      <td>False</td>\n",
       "      <td>False</td>\n",
       "    </tr>\n",
       "    <tr>\n",
       "      <th>2</th>\n",
       "      <td>False</td>\n",
       "      <td>False</td>\n",
       "      <td>False</td>\n",
       "      <td>False</td>\n",
       "      <td>False</td>\n",
       "    </tr>\n",
       "    <tr>\n",
       "      <th>3</th>\n",
       "      <td>False</td>\n",
       "      <td>False</td>\n",
       "      <td>False</td>\n",
       "      <td>False</td>\n",
       "      <td>False</td>\n",
       "    </tr>\n",
       "    <tr>\n",
       "      <th>4</th>\n",
       "      <td>False</td>\n",
       "      <td>False</td>\n",
       "      <td>False</td>\n",
       "      <td>False</td>\n",
       "      <td>False</td>\n",
       "    </tr>\n",
       "    <tr>\n",
       "      <th>...</th>\n",
       "      <td>...</td>\n",
       "      <td>...</td>\n",
       "      <td>...</td>\n",
       "      <td>...</td>\n",
       "      <td>...</td>\n",
       "    </tr>\n",
       "    <tr>\n",
       "      <th>49639</th>\n",
       "      <td>False</td>\n",
       "      <td>False</td>\n",
       "      <td>False</td>\n",
       "      <td>False</td>\n",
       "      <td>False</td>\n",
       "    </tr>\n",
       "    <tr>\n",
       "      <th>49640</th>\n",
       "      <td>False</td>\n",
       "      <td>False</td>\n",
       "      <td>False</td>\n",
       "      <td>False</td>\n",
       "      <td>False</td>\n",
       "    </tr>\n",
       "    <tr>\n",
       "      <th>49641</th>\n",
       "      <td>False</td>\n",
       "      <td>False</td>\n",
       "      <td>False</td>\n",
       "      <td>False</td>\n",
       "      <td>False</td>\n",
       "    </tr>\n",
       "    <tr>\n",
       "      <th>49642</th>\n",
       "      <td>False</td>\n",
       "      <td>False</td>\n",
       "      <td>False</td>\n",
       "      <td>False</td>\n",
       "      <td>False</td>\n",
       "    </tr>\n",
       "    <tr>\n",
       "      <th>49643</th>\n",
       "      <td>False</td>\n",
       "      <td>False</td>\n",
       "      <td>False</td>\n",
       "      <td>False</td>\n",
       "      <td>False</td>\n",
       "    </tr>\n",
       "  </tbody>\n",
       "</table>\n",
       "<p>49644 rows × 5 columns</p>\n",
       "</div>"
      ],
      "text/plain": [
       "         age  length_of_service  year_of_record  population  employment_status\n",
       "0      False              False           False       False              False\n",
       "1      False              False           False       False              False\n",
       "2      False              False           False       False              False\n",
       "3      False              False           False       False              False\n",
       "4      False              False           False       False              False\n",
       "...      ...                ...             ...         ...                ...\n",
       "49639  False              False           False       False              False\n",
       "49640  False              False           False       False              False\n",
       "49641  False              False           False       False              False\n",
       "49642  False              False           False       False              False\n",
       "49643  False              False           False       False              False\n",
       "\n",
       "[49644 rows x 5 columns]"
      ]
     },
     "execution_count": 18,
     "metadata": {},
     "output_type": "execute_result"
    }
   ],
   "source": [
    "df_small.isna()"
   ]
  },
  {
   "cell_type": "markdown",
   "metadata": {},
   "source": [
    "**Observations:** No NaN values observed. "
   ]
  },
  {
   "cell_type": "markdown",
   "metadata": {},
   "source": [
    "### 2.4 Checking for null values"
   ]
  },
  {
   "cell_type": "code",
   "execution_count": 19,
   "metadata": {},
   "outputs": [
    {
     "data": {
      "text/plain": [
       "age                  0\n",
       "length_of_service    0\n",
       "year_of_record       0\n",
       "population           0\n",
       "employment_status    0\n",
       "dtype: int64"
      ]
     },
     "execution_count": 19,
     "metadata": {},
     "output_type": "execute_result"
    }
   ],
   "source": [
    "df_small.isnull().sum()"
   ]
  },
  {
   "cell_type": "markdown",
   "metadata": {},
   "source": [
    "**Observations:** no null values observed."
   ]
  },
  {
   "cell_type": "markdown",
   "metadata": {},
   "source": [
    "## 3. The elbow technique"
   ]
  },
  {
   "cell_type": "markdown",
   "metadata": {},
   "source": [
    "The elbow technique will allow us to understand the optimum number of clusters for our analyses"
   ]
  },
  {
   "cell_type": "code",
   "execution_count": 20,
   "metadata": {},
   "outputs": [],
   "source": [
    "#defining the range of potential clusters in the data.\n",
    "num_cl = range(1, 10) "
   ]
  },
  {
   "cell_type": "code",
   "execution_count": 21,
   "metadata": {},
   "outputs": [],
   "source": [
    "#defining k-means clusters for the range assigned above.\n",
    "kmeans = [KMeans(n_clusters=i) for i in num_cl] "
   ]
  },
  {
   "cell_type": "code",
   "execution_count": 25,
   "metadata": {},
   "outputs": [
    {
     "data": {
      "text/plain": [
       "[-5.129058145219865e+19,\n",
       " -5.426725285346093e+18,\n",
       " -1.9016579413190886e+18,\n",
       " -9.2898552889619e+17,\n",
       " -3.4111846885195546e+17,\n",
       " -1.6417820855845648e+17,\n",
       " -9.739082520985333e+16,\n",
       " -6.089757680736589e+16,\n",
       " -3.2788874787214548e+16]"
      ]
     },
     "execution_count": 25,
     "metadata": {},
     "output_type": "execute_result"
    }
   ],
   "source": [
    "#creating a score that represents a rate of variation for the given cluster option.\n",
    "score = [kmeans[i].fit(df_small).score(df_small) for i in range(len(kmeans))] \n",
    "\n",
    "score"
   ]
  },
  {
   "cell_type": "code",
   "execution_count": 26,
   "metadata": {},
   "outputs": [
    {
     "data": {
      "image/png": "[encoded data removed]",
      "text/plain": [
       "<Figure size 640x480 with 1 Axes>"
      ]
     },
     "metadata": {},
     "output_type": "display_data"
    }
   ],
   "source": [
    "# Plot the elbow curve using PyLab.\n",
    "\n",
    "pl.plot(num_cl,score)\n",
    "pl.xlabel('Number of Clusters')\n",
    "pl.ylabel('Score')\n",
    "pl.title('Elbow Curve')\n",
    "pl.show()"
   ]
  },
  {
   "cell_type": "markdown",
   "metadata": {},
   "source": [
    "**Result:** the optimal number of clusters is **three**"
   ]
  },
  {
   "cell_type": "markdown",
   "metadata": {},
   "source": [
    "## 4. k-means clustering with thee clusters"
   ]
  },
  {
   "cell_type": "code",
   "execution_count": 27,
   "metadata": {},
   "outputs": [],
   "source": [
    "#creating the k-means object\n",
    "kmeans = KMeans(n_clusters = 3) "
   ]
  },
  {
   "cell_type": "code",
   "execution_count": 28,
   "metadata": {},
   "outputs": [
    {
     "data": {
      "text/plain": [
       "KMeans(n_clusters=3)"
      ]
     },
     "execution_count": 28,
     "metadata": {},
     "output_type": "execute_result"
    }
   ],
   "source": [
    "#fitting the k-means object to the data\n",
    "kmeans.fit(df_small)"
   ]
  },
  {
   "cell_type": "code",
   "execution_count": 29,
   "metadata": {},
   "outputs": [],
   "source": [
    "df_small['clusters'] = kmeans.fit_predict(df_small)"
   ]
  },
  {
   "cell_type": "code",
   "execution_count": 31,
   "metadata": {},
   "outputs": [
    {
     "data": {
      "text/html": [
       "<div>\n",
       "<style scoped>\n",
       "    .dataframe tbody tr th:only-of-type {\n",
       "        vertical-align: middle;\n",
       "    }\n",
       "\n",
       "    .dataframe tbody tr th {\n",
       "        vertical-align: top;\n",
       "    }\n",
       "\n",
       "    .dataframe thead th {\n",
       "        text-align: right;\n",
       "    }\n",
       "</style>\n",
       "<table border=\"1\" class=\"dataframe\">\n",
       "  <thead>\n",
       "    <tr style=\"text-align: right;\">\n",
       "      <th></th>\n",
       "      <th>age</th>\n",
       "      <th>length_of_service</th>\n",
       "      <th>year_of_record</th>\n",
       "      <th>population</th>\n",
       "      <th>employment_status</th>\n",
       "      <th>clusters</th>\n",
       "    </tr>\n",
       "  </thead>\n",
       "  <tbody>\n",
       "    <tr>\n",
       "      <th>0</th>\n",
       "      <td>52</td>\n",
       "      <td>17</td>\n",
       "      <td>2006</td>\n",
       "      <td>83783942</td>\n",
       "      <td>0</td>\n",
       "      <td>2</td>\n",
       "    </tr>\n",
       "    <tr>\n",
       "      <th>1</th>\n",
       "      <td>53</td>\n",
       "      <td>18</td>\n",
       "      <td>2007</td>\n",
       "      <td>83783942</td>\n",
       "      <td>0</td>\n",
       "      <td>2</td>\n",
       "    </tr>\n",
       "    <tr>\n",
       "      <th>2</th>\n",
       "      <td>54</td>\n",
       "      <td>19</td>\n",
       "      <td>2008</td>\n",
       "      <td>83783942</td>\n",
       "      <td>0</td>\n",
       "      <td>2</td>\n",
       "    </tr>\n",
       "    <tr>\n",
       "      <th>3</th>\n",
       "      <td>55</td>\n",
       "      <td>20</td>\n",
       "      <td>2009</td>\n",
       "      <td>83783942</td>\n",
       "      <td>0</td>\n",
       "      <td>2</td>\n",
       "    </tr>\n",
       "    <tr>\n",
       "      <th>4</th>\n",
       "      <td>56</td>\n",
       "      <td>21</td>\n",
       "      <td>2010</td>\n",
       "      <td>83783942</td>\n",
       "      <td>0</td>\n",
       "      <td>2</td>\n",
       "    </tr>\n",
       "  </tbody>\n",
       "</table>\n",
       "</div>"
      ],
      "text/plain": [
       "   age  length_of_service  year_of_record  population  employment_status  \\\n",
       "0   52                 17            2006    83783942                  0   \n",
       "1   53                 18            2007    83783942                  0   \n",
       "2   54                 19            2008    83783942                  0   \n",
       "3   55                 20            2009    83783942                  0   \n",
       "4   56                 21            2010    83783942                  0   \n",
       "\n",
       "   clusters  \n",
       "0         2  \n",
       "1         2  \n",
       "2         2  \n",
       "3         2  \n",
       "4         2  "
      ]
     },
     "execution_count": 31,
     "metadata": {},
     "output_type": "execute_result"
    }
   ],
   "source": [
    "df_small.head()"
   ]
  },
  {
   "cell_type": "code",
   "execution_count": 32,
   "metadata": {
    "scrolled": false
   },
   "outputs": [
    {
     "data": {
      "text/plain": [
       "0    25127\n",
       "1    13306\n",
       "2    11211\n",
       "Name: clusters, dtype: int64"
      ]
     },
     "execution_count": 32,
     "metadata": {},
     "output_type": "execute_result"
    }
   ],
   "source": [
    "df_small['clusters'].value_counts()"
   ]
  },
  {
   "cell_type": "code",
   "execution_count": 34,
   "metadata": {
    "scrolled": false
   },
   "outputs": [
    {
     "data": {
      "image/png": "[encoded data removed]",
      "text/plain": [
       "<Figure size 1200x1000 with 1 Axes>"
      ]
     },
     "metadata": {},
     "output_type": "display_data"
    }
   ],
   "source": [
    "#plotting the clusters for the \"prices\" and \"age\" variables.\n",
    "\n",
    "plt.figure(figsize=(12,10))\n",
    "ax = sns.scatterplot(x=df_small['age'], y=df_small['length_of_service'], hue=kmeans.labels_, s=50) \n",
    "\n",
    "ax.grid(False) #removing grid background.\n",
    "plt.xlabel('Age') #label x-axis.\n",
    "plt.ylabel('Length of Service') #label y-axis.\n",
    "plt.show()"
   ]
  },
  {
   "cell_type": "markdown",
   "metadata": {},
   "source": [
    "**Results:** \n",
    "\n",
    "The most striking result when looking at the scatterplot above, is that there is a clear cluster of employees, coloured in dark purple, who are between ~42 and 60, and have been with the company for between 17 and 25 years. This shows that there is a relationship between age and tenure. \n",
    "\n",
    "When looking at the rest of the results, the distinctions are less clear. The majority of data points fall within the light purple cluster, and then there are a handful of darker coloured purple data points along the upper most level of the main trend of datapoints, however, they don't seem to have much in common. "
   ]
  },
  {
   "cell_type": "code",
   "execution_count": 36,
   "metadata": {},
   "outputs": [],
   "source": [
    "df_small.loc[df_small['clusters'] == 2, 'cluster'] = 'dark purple'\n",
    "df_small.loc[df_small['clusters'] == 1, 'cluster'] = 'purple'\n",
    "df_small.loc[df_small['clusters'] == 0, 'cluster'] = 'pink'"
   ]
  },
  {
   "cell_type": "code",
   "execution_count": 38,
   "metadata": {},
   "outputs": [
    {
     "data": {
      "text/html": [
       "<div>\n",
       "<style scoped>\n",
       "    .dataframe tbody tr th:only-of-type {\n",
       "        vertical-align: middle;\n",
       "    }\n",
       "\n",
       "    .dataframe tbody tr th {\n",
       "        vertical-align: top;\n",
       "    }\n",
       "\n",
       "    .dataframe thead tr th {\n",
       "        text-align: left;\n",
       "    }\n",
       "\n",
       "    .dataframe thead tr:last-of-type th {\n",
       "        text-align: right;\n",
       "    }\n",
       "</style>\n",
       "<table border=\"1\" class=\"dataframe\">\n",
       "  <thead>\n",
       "    <tr>\n",
       "      <th></th>\n",
       "      <th colspan=\"2\" halign=\"left\">length_of_service</th>\n",
       "      <th colspan=\"2\" halign=\"left\">age</th>\n",
       "    </tr>\n",
       "    <tr>\n",
       "      <th></th>\n",
       "      <th>mean</th>\n",
       "      <th>median</th>\n",
       "      <th>mean</th>\n",
       "      <th>median</th>\n",
       "    </tr>\n",
       "    <tr>\n",
       "      <th>clusters</th>\n",
       "      <th></th>\n",
       "      <th></th>\n",
       "      <th></th>\n",
       "      <th></th>\n",
       "    </tr>\n",
       "  </thead>\n",
       "  <tbody>\n",
       "    <tr>\n",
       "      <th>0</th>\n",
       "      <td>10.371990</td>\n",
       "      <td>10.0</td>\n",
       "      <td>41.957456</td>\n",
       "      <td>42.0</td>\n",
       "    </tr>\n",
       "    <tr>\n",
       "      <th>1</th>\n",
       "      <td>10.374643</td>\n",
       "      <td>10.0</td>\n",
       "      <td>42.018262</td>\n",
       "      <td>42.0</td>\n",
       "    </tr>\n",
       "    <tr>\n",
       "      <th>2</th>\n",
       "      <td>10.647221</td>\n",
       "      <td>10.0</td>\n",
       "      <td>42.416466</td>\n",
       "      <td>42.0</td>\n",
       "    </tr>\n",
       "  </tbody>\n",
       "</table>\n",
       "</div>"
      ],
      "text/plain": [
       "         length_of_service               age       \n",
       "                      mean median       mean median\n",
       "clusters                                           \n",
       "0                10.371990   10.0  41.957456   42.0\n",
       "1                10.374643   10.0  42.018262   42.0\n",
       "2                10.647221   10.0  42.416466   42.0"
      ]
     },
     "execution_count": 38,
     "metadata": {},
     "output_type": "execute_result"
    }
   ],
   "source": [
    "#looking at the statistics \n",
    "df_small.groupby('clusters').agg({'length_of_service':['mean', 'median'], \n",
    "                         'age':['mean', 'median']})"
   ]
  },
  {
   "cell_type": "markdown",
   "metadata": {},
   "source": [
    "## 5. Conclusion"
   ]
  },
  {
   "cell_type": "markdown",
   "metadata": {},
   "source": [
    "The k-means clustering broadly confirms our previous analysis that there is a link between age and lenght of service, the older you are, the more likely you are to stay with the company. "
   ]
  },
  {
   "cell_type": "code",
   "execution_count": null,
   "metadata": {},
   "outputs": [],
   "source": []
  }
 ],
 "metadata": {
  "kernelspec": {
   "display_name": "Python 3 (ipykernel)",
   "language": "python",
   "name": "python3"
  },
  "language_info": {
   "codemirror_mode": {
    "name": "ipython",
    "version": 3
   },
   "file_extension": ".py",
   "mimetype": "text/x-python",
   "name": "python",
   "nbconvert_exporter": "python",
   "pygments_lexer": "ipython3",
   "version": "3.9.13"
  }
 },
 "nbformat": 4,
 "nbformat_minor": 4
}
